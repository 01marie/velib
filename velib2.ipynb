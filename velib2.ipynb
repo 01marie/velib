{
 "cells": [
  {
   "cell_type": "code",
   "execution_count": 28,
   "metadata": {
    "collapsed": false
   },
   "outputs": [
    {
     "name": "stdout",
     "output_type": "stream",
     "text": [
      "\n"
     ]
    }
   ],
   "source": [
    "from scipy.stats import norm\n",
    "from time import time\n",
    "import random    \n",
    "import pandas as pd"
   ]
  },
  {
   "cell_type": "markdown",
   "metadata": {},
   "source": [
    "# -1) Cycliste"
   ]
  },
  {
   "cell_type": "code",
   "execution_count": 29,
   "metadata": {
    "collapsed": false
   },
   "outputs": [],
   "source": [
    "class logger():\n",
    "    \"\"\"\n",
    "    Save data into memory (in an array) and write it down to a file after [nb_log] is reached.\n",
    "    \"\"\"\n",
    "    def __init__(self, path, limit_to_save_to_disk=100):\n",
    "        self.path    = path\n",
    "        self.limit   = limit_to_save_to_disk\n",
    "        self.logs    = []\n",
    "        self.nb_logs = 0\n",
    "        \n",
    "    def log(self, string):\n",
    "        self.logs.append(string)\n",
    "        self.nb_logs = self.nb_logs +1\n",
    "        if self.limit < self.nb_logs:\n",
    "            self.write_to_disk()\n",
    "    \n",
    "    def write_to_disk(self):\n",
    "        with open(self.path, \"a\") as f:\n",
    "            while len(self.logs):\n",
    "                try:\n",
    "                    a = self.logs.pop()\n",
    "                    f.write(u\"%s\\n\"%a.decode('ascii', errors='ignore'))\n",
    "                except:\n",
    "                    print \"pbm with \"\n",
    "                    print a\n",
    "        self.nb_logs = len(self.logs)\n",
    "    def __del__(self):\n",
    "        self.write_to_disk()\n",
    "        "
   ]
  },
  {
   "cell_type": "code",
   "execution_count": 30,
   "metadata": {
    "collapsed": false
   },
   "outputs": [],
   "source": [
    "class Cycliste:\n",
    "    \n",
    "\n",
    "            \n",
    "        \n",
    "    def __init__(self, identifiant):\n",
    "        import time\n",
    "        from scipy.stats import norm\n",
    "        import random\n",
    "        homme   = \"homme\"\n",
    "        femme   = \"femme\"\n",
    "        age_min = 15\n",
    "        age_max = 80\n",
    "        sexe    = random.choice([homme, femme])\n",
    "        age     = random.randint(age_min ,age_max)\n",
    "        sportif = random.choice([-0.5, 0, 2, 4, 6 ])\n",
    "        if age < 35:\n",
    "            facteur = norm( loc =1.2, scale=0.2 )\n",
    "        elif age <50:\n",
    "            facteur = norm( loc =1  , scale=0.2 )\n",
    "        elif age <90:\n",
    "            facteur = norm( loc =0.7, scale=0.2 )\n",
    "\n",
    "        if sexe == homme:\n",
    "            vitesse_de_base = 20\n",
    "            nb_km = norm( loc =7, scale=2 )\n",
    "        else:\n",
    "            vitesse_de_base = 15\n",
    "            nb_km = norm( loc =10, scale=2 )\n",
    "        vitesse_moyenne = vitesse_de_base * facteur.rvs(1) + sportif\n",
    "        \n",
    "        self.sportif     = sportif\n",
    "        self.age         = age\n",
    "        self.sexe        = sexe\n",
    "        self.nb_km       = nb_km.rvs(1)[0]\n",
    "        self.vitesse     = vitesse_moyenne[0]\n",
    "        self.sur_velo    = False\n",
    "        self.debug       = False\n",
    "        self.nb_trajet   = 0\n",
    "        self.durees      = []\n",
    "        self.trajets     = []\n",
    "        self.velo        = False\n",
    "        self.identifiant = \"cycliste_%s\"%identifiant\n",
    "        self.prises      = []\n",
    "        self.attente         = random.randint(0,100)\n",
    "        self.last_rendu      = time.time()\n",
    "        self.logger_cycliste = logger(\"./logs/cycliste_cyclistes.csv\")\n",
    "        self.logger_prise    = logger(\"./logs/cycliste_prises.csv\")\n",
    "        self.logger_rendu    = logger(\"./logs/cycliste_rendu.csv\")\n",
    "        self.logger_debug    = logger(\"./logs/cycliste_debug.csv\")\n",
    "        \n",
    "        self.log_cycliste()\n",
    "        \n",
    "    def log_debug(self, message):\n",
    "        from time import time\n",
    "        to_print = u\"%s,%s,%s\"% (self.identifiant, time() , message)\n",
    "        self.logger_debug.log(to_print)\n",
    "    \n",
    "    def peut_prendre_velo(self, station):\n",
    "        \"\"\"\n",
    "        Renvoie un velo ou bien False.\n",
    "        \"\"\"\n",
    "        from time import time\n",
    "        if time() < self.attente + self.last_rendu:\n",
    "            self.log_debug(u\"trop tot\")\n",
    "            return False\n",
    "        if self.sur_velo:\n",
    "            self.log_debug(u\"deja sur velo\")\n",
    "            return False\n",
    "        velo = station.prendre_velo()\n",
    "        if not velo:\n",
    "            self.log_debug(u\"pas de velo sur la station %s \" % station)\n",
    "            return False\n",
    "        return velo\n",
    "        \n",
    "    def prend_velo(self, station):\n",
    "        import time\n",
    "        \n",
    "        velo = self.peut_prendre_velo(station)\n",
    "        if not velo :\n",
    "            return\n",
    "        \n",
    "        velo.disponible      = False\n",
    "        self.sur_velo        = True\n",
    "        self.heure_de_depart = time.time()\n",
    "        self.velo            = velo\n",
    "        self.log_prise()\n",
    "        try:\n",
    "            nb_km_local          = norm( loc =self.nb_km, scale=self.nb_km/float(3) ).rvs(1)[0]\n",
    "        except Exception as e:\n",
    "            self.log_debug(u\"pbm sur nb_km_local = self.nb_km = %s \" %self.nb_km)\n",
    "            nb_km_local = 15\n",
    "        try:\n",
    "            vitesse_local        = norm(loc = self.vitesse, scale = self.vitesse/float(10)).rvs(1)[0]\n",
    "            vitesse_local        = vitesse_local * velo.performance\n",
    "        except:\n",
    "            self.log_debug(u\"pbm sur vitesse_local self.vitesse = %s\"%self.vitesse)\n",
    "            vitesse_local = self.vitesse\n",
    "            \n",
    "        self.nb_km_trajet    = nb_km_local\n",
    "        duree                = nb_km_local / vitesse_local\n",
    "        self.heure_d_arrivee = self.heure_de_depart + duree\n",
    "        \n",
    "        if velo.performance <0.1:\n",
    "            duree                = 0\n",
    "            self.durees.append( duree)\n",
    "            self.heure_d_arrivee =  self.heure_de_depart\n",
    "            self.nb_km_trajet    = 0\n",
    "            self.rendre_velo(station)\n",
    "        elif velo.performance <0.3:\n",
    "            duree                = duree / 10\n",
    "            self.durees.append( duree)\n",
    "            self.heure_d_arrivee =  self.heure_de_depart + duree\n",
    "            self.nb_km_trajet    = self.nb_km_trajet / float(10)\n",
    "            self.rendre_velo(station)\n",
    "        elif velo.performance <0.5:\n",
    "            duree                = duree / 5\n",
    "            self.durees.append( duree)\n",
    "            self.nb_km_trajet    = self.nb_km_trajet / float(5)\n",
    "            self.heure_d_arrivee =  self.heure_de_depart + duree \n",
    "        else:\n",
    "            self.durees.append( duree)\n",
    "\n",
    "\n",
    "\n",
    "\n",
    "    def rendre_velo(self, station):        \n",
    "        import time\n",
    "        if not self.sur_velo:\n",
    "            if self.debug : print u\"pas en chemin\",\n",
    "            return 0\n",
    "        if time.time() > self.heure_d_arrivee:\n",
    "            if station.rendre_velo(self.velo, self.nb_km_trajet):\n",
    "                \n",
    "                #if self.debug : print \"plus sur velo\",\n",
    "                duree_constatee = self.heure_d_arrivee - self.heure_de_depart\n",
    "                trajet          = (self.heure_de_depart, self.heure_d_arrivee, self.identifiant, self.nb_km_trajet, self.velo.nom )\n",
    "                self.log_rendu()\n",
    "                self.last_rendu = time.time()\n",
    "                self.sur_velo  = False\n",
    "                self.nb_trajet = self.nb_trajet + 1\n",
    "                self.velo      = False\n",
    "                self.trajets.append(trajet)\n",
    "                \n",
    "            else:\n",
    "                if self.debug : print u\"impossible de rendre sur station %s\"%(station),\n",
    "                pass\n",
    "        else:\n",
    "            if self.debug : print u\"pas encore arrive\",\n",
    "            pass\n",
    "        \n",
    "    def log_cycliste(self):\n",
    "        to_print = u\"%s,%s,%s,%s,%s,%s,%s\"%(    self.identifiant   ,self.sportif     ,\n",
    "                                                 self.age         ,self.sexe        ,\n",
    "                                                 self.nb_km       ,self.vitesse     , self.attente )\n",
    "        \n",
    "        self.logger_cycliste.log(to_print)\n",
    "            \n",
    "    def log_prise(self, action=\"prise\"):\n",
    "        to_print = u\"%s,%s,%s,%s\"%( self.identifiant,self.heure_de_depart, self.velo.nom, action)\n",
    "        self.logger_prise.log(to_print)\n",
    "            \n",
    "    def log_rendu(self, action=\"prise\"):\n",
    "        to_print = u\"%s,%s,%s,%s,%s\\n\"%( self.identifiant, self.heure_de_depart, \n",
    "                                       self.heure_d_arrivee,  self.nb_km_trajet, self.velo.nom )\n",
    "\n",
    "        self.logger_rendu.log(to_print)\n"
   ]
  },
  {
   "cell_type": "markdown",
   "metadata": {},
   "source": [
    "# -1) Velo"
   ]
  },
  {
   "cell_type": "code",
   "execution_count": 31,
   "metadata": {
    "collapsed": false
   },
   "outputs": [],
   "source": [
    "class Velo:\n",
    "\n",
    "    def __init__(self, nom, station):\n",
    "        from scipy.stats import norm\n",
    "        import time \n",
    "        self.nom          = nom\n",
    "        performance       = norm( loc =0.9, scale=0.2 )\n",
    "        self.performance  = performance.rvs(1)[0]\n",
    "        self.station      = station\n",
    "        self.degradation  = 0\n",
    "        self.performances = []\n",
    "        self.debug        = False\n",
    "        self.nb_km_trajet = 0\n",
    "        self.heures_rendu = []\n",
    "        self.disponible   = True\n",
    "        self.logger_reparation = logger(\"./logs/velo_reparations.csv\")\n",
    "        self.logger_etat       = logger(\"./logs/velos_etats.csv\")\n",
    "        self.probleme_list     = self.get_problemes_list()\n",
    "\n",
    "    def get_problemes_list(self):\n",
    "        \"\"\"\n",
    "        Créé le tableau de dégradations possible pour un vélo.\n",
    "        \"\"\"\n",
    "        problemes       = [0] * 50\n",
    "        problemes_bis   = {u\"pedale\" : 0.2, u\"roue\"  : 1 , u\"degonfle\" : 0.3, u\"freins\" : 0.05 , 0 : 0}\n",
    "        problemes.extend(problemes_bis.values())\n",
    "        return problemes\n",
    "        \n",
    "    def log_reparation(self):\n",
    "        import time\n",
    "        reparation =(self.nom,time.time(),self.performance)\n",
    "        to_print = u\"%s,%s,%s\"%reparation\n",
    "        self.logger_reparation.log(to_print)\n",
    "        \n",
    "\n",
    "    def log_etat(self):\n",
    "        from time import time\n",
    "        to_print = u\"%s,%s,%s,%s,%s\\n\"%(self.nom           ,\n",
    "                                           time()            ,  \n",
    "                                           self.station.nom  ,\n",
    "                                           self.performance  ,\n",
    "                                           self.nb_km_trajet )\n",
    "        self.logger_etat.log(to_print)\n",
    "    \n",
    "    def rendu(self, station, nb_km_trajet):\n",
    "        import time\n",
    "        self.disponible = True\n",
    "        if self.debug : print(u\"velo %s rendu sur station %s\"%(self, station))\n",
    "            \n",
    "        degradation       = random.choice(self.probleme_list)        \n",
    "        self.performance  = self.performance - self.performance*degradation                                        \n",
    "        self.nb_km_trajet = self.nb_km_trajet + nb_km_trajet\n",
    "        self.station = station\n",
    "        self.log_etat()\n",
    "        if 900 < random.randint(0, 1000 ) :\n",
    "            self.performance  = 1\n",
    "            self.log_reparation()\n",
    "        \n",
    "        \n",
    "\n",
    "    def __str__(self):\n",
    "        return \"%s\"%self.nom\n",
    "\n"
   ]
  },
  {
   "cell_type": "markdown",
   "metadata": {},
   "source": [
    "# -1 ) Station"
   ]
  },
  {
   "cell_type": "code",
   "execution_count": 32,
   "metadata": {
    "collapsed": false
   },
   "outputs": [],
   "source": [
    "class Station:\n",
    "    def __init__(self, nom, debug=False ):\n",
    "        import random\n",
    "        import time\n",
    "        debut         = time.time()\n",
    "        self.nom      = nom\n",
    "        self.nb_plot  = random.choice([10,15,20, 30])\n",
    "        self.nb_libre = 0 #random.randint(0, self.nb_plot )\n",
    "        self.nb_velos = self.nb_plot # - self.nb_libre\n",
    "        self.velos    = []\n",
    "        noms          = get_names()\n",
    "        \n",
    "        for n in range(self.nb_velos ):\n",
    "            nom_velo= u\"velo_\"+\"\".join([\"%s\"%x for x in random.choice(noms)])\n",
    "            self.velos.append(Velo(nom_velo , self))\n",
    "        \n",
    "        if debug : print u\"created %s velos\"%len(self.velos),\n",
    "        self.debug          = False\n",
    "        self.avaries        = []\n",
    "        self.arrete         = False\n",
    "        duree               = time.time() - debut\n",
    "        if debug : print u\"station créée en %s\"%duree\n",
    "        \n",
    "        self.logger_dispos = logger(\"./logs/stations_dispos.csv\")\n",
    "        self.logger_reparation = logger(\"./logs/stations_reparations.csv\")\n",
    "        self.logger_avarie = logger(\"./logs/stations_avarie.csv\")\n",
    "        \n",
    "        self.liste_d_avaries = self.get_avarie_list()\n",
    "        self.log_dispo()\n",
    "\n",
    "\n",
    "    def log_reparation(self):\n",
    "        from time import time\n",
    "        dispo =(self.nom, time(),self.nb_plot, self.nb_libre, self.nb_velos)\n",
    "        to_print = u\"%s,%s,%s,%s,%s\"%dispo\n",
    "        self.logger_reparation.log(to_print)\n",
    "            \n",
    "            \n",
    "    def log_dispo(self):\n",
    "        from time import time\n",
    "        dispo =(self.nom,time(),self.nb_plot, self.nb_libre, self.nb_velos)\n",
    "        to_print = u\"%s,%s,%s,%s,%s\"%dispo\n",
    "        self.logger_dispos.log(to_print)\n",
    "            \n",
    "    def log_avarie(self, avarie):\n",
    "        from time import time\n",
    "        to_print = u\"%s,%s,%s\"%(self.nom, time(), avarie )\n",
    "        self.logger_avarie.log(to_print)\n",
    "\n",
    "        \n",
    "    def get_avarie_list(self):\n",
    "        avaries     = [0]*100000\n",
    "        plot        = u\"plot mort\"\n",
    "        half        = u\"50% mort\"\n",
    "        network     = u\"reseau\"\n",
    "        electricite = u\"eteint\"\n",
    "        bug         = u\"bug\"\n",
    "        problemes   = { plot       : 20 ,\n",
    "                       half        : 10 ,\n",
    "                       network     :  5 ,\n",
    "                       electricite : 30 , \n",
    "                       bug         :  3 }\n",
    "        \n",
    "        for k,v in problemes.iteritems():\n",
    "            avaries.extend([k] * v)\n",
    "        return avaries\n",
    "    \n",
    "    def avarie_possible(self):\n",
    "        import math\n",
    "        import random\n",
    "        import time\n",
    "        \n",
    "        plot        = u\"plot mort\"\n",
    "        half        = u\"50% mort\"\n",
    "        network     = u\"reseau\"\n",
    "        electricite = u\"eteint\"\n",
    "        bug         = u\"bug\"\n",
    "        \n",
    "        avaries = list(self.liste_d_avaries)\n",
    "        if plot in self.avaries : avaries.extend( [plot] * 60 )\n",
    "        if half in self.avaries : avaries.extend( [half] *100 )\n",
    "        \n",
    "        avarie = random.choice(avaries)\n",
    "        self.avaries.extend([avarie])\n",
    "        if avarie == plot :\n",
    "            self.nb_libre = self.nb_libre -1\n",
    "        elif avarie == half:\n",
    "            self.nb_libre = math.floor(self.nb_libre - (self.nb_plot / float(2)))\n",
    "        elif avarie == network :\n",
    "            self.nb_libre = 0\n",
    "            self.arrete = True\n",
    "        elif avarie == electricite :\n",
    "            self.nb_libre = 0\n",
    "            self.arrete = True\n",
    "        elif avarie == bug :\n",
    "            if self.nb_libre >0:\n",
    "                self.nb_libre = self.nb_libre - random.randint(0, self.nb_libre)\n",
    "        if self.nb_libre <0:\n",
    "            self.nb_libre = 0            \n",
    "        self.log_dispo()\n",
    "        \n",
    "        if avarie:\n",
    "            self.log_avarie(\"%s\"%avarie)\n",
    "            \n",
    "    def rendre_velo(self, velo, nb_km_trajet):\n",
    "        import time\n",
    "        self.avarie_possible()\n",
    "        if self.nb_libre >0:\n",
    "            self.velos.append(velo)\n",
    "            velo.rendu(self, nb_km_trajet)\n",
    "            self.nb_velos = len(self.velos)\n",
    "            self.nb_libre = self.nb_libre - 1\n",
    "            self.log_dispo()\n",
    "            return 1\n",
    "        if 9500 < random.randint(0, 10000 ) :\n",
    "            self.nb_libre = self.nb_plot - self.nb_velos\n",
    "            self.log_reparation()\n",
    "            \n",
    "        return 0\n",
    "\n",
    "    def prendre_velo(self):\n",
    "        \"\"\"\n",
    "        retourne un vélo ou 0 en cas d'erreur.\n",
    "        \"\"\"\n",
    "        import time\n",
    "        self.avarie_possible()\n",
    "        if self.velos and not self.arrete :\n",
    "            to_return     = self.velos.pop()\n",
    "            self.nb_velos = len(self.velos)\n",
    "            self.nb_libre = self.nb_libre + 1\n",
    "            self.log_dispo()\n",
    "            return to_return\n",
    "\n",
    "        return 0\n",
    "    def __str__(self):\n",
    "        return u\"station %s : self.nb_libre = %s, self.nb_velos =%s \"%(self.nom,self.nb_libre, self.nb_velos)\n"
   ]
  },
  {
   "cell_type": "markdown",
   "metadata": {},
   "source": [
    "# 0) get_names"
   ]
  },
  {
   "cell_type": "code",
   "execution_count": 33,
   "metadata": {
    "collapsed": false
   },
   "outputs": [],
   "source": [
    "def get_names(nb_lettres=5, nb_noms = 15000, prefix=\"\"):\n",
    "    \"\"\"\n",
    "    retourne n mot de nb_lettres avec prefix.\n",
    "    \"\"\"\n",
    "    import itertools\n",
    "    from random import shuffle\n",
    "    lettres = \"azertyuiopqsdfghjklmwxcvbn1234567890\"\n",
    "    names   = []\n",
    "    for i in itertools.combinations(lettres, nb_lettres):\n",
    "        name = \"\".join(i)\n",
    "        name = prefix + name\n",
    "        names.append(name)\n",
    "        nb_noms = nb_noms -1\n",
    "        if nb_noms <2:\n",
    "            break\n",
    "    shuffle(names)\n",
    "    return names"
   ]
  },
  {
   "cell_type": "markdown",
   "metadata": {},
   "source": [
    "# 0) création des stations"
   ]
  },
  {
   "cell_type": "code",
   "execution_count": 34,
   "metadata": {
    "collapsed": false
   },
   "outputs": [
    {
     "name": "stdout",
     "output_type": "stream",
     "text": [
      "duree = 37.7279729843 pour 1865 cree soit 0.020229476131 sec / unite\n"
     ]
    }
   ],
   "source": [
    "from time import time\n",
    "import multiprocessing\n",
    "n = 4\n",
    "debut = time()\n",
    "process_pool = multiprocessing.Pool(n)\n",
    "debut        = time()\n",
    "names        = get_names()\n",
    "noms         = [names[i] for i in range(100)]\n",
    "stations     = process_pool.map(Station, noms)\n",
    "nb_velos     = sum([len(station.velos) for station in stations])\n",
    "duree = time() - debut\n",
    "print \"duree = %s pour %s cree soit %s sec / unite\"%(duree, nb_velos, duree/nb_velos)\n"
   ]
  },
  {
   "cell_type": "markdown",
   "metadata": {},
   "source": [
    "# Creation des cycliste"
   ]
  },
  {
   "cell_type": "code",
   "execution_count": 35,
   "metadata": {
    "collapsed": false
   },
   "outputs": [
    {
     "name": "stdout",
     "output_type": "stream",
     "text": [
      "duree = 37.7279729843 pour 1865 cree soit 0.020229476131 sec / unite\n"
     ]
    }
   ],
   "source": [
    "n = 4\n",
    "process_pool = multiprocessing.Pool(n)\n",
    "names        = get_names(5, nb_velos*2)\n",
    "noms         = [names[i] for i in range(nb_velos)]\n",
    "del names\n",
    "cyclistes   = process_pool.map(Cycliste, noms)\n",
    "print \"duree = %s pour %s cree soit %s sec / unite\"%(duree, len(cyclistes), duree/nb_velos)\n"
   ]
  },
  {
   "cell_type": "markdown",
   "metadata": {},
   "source": [
    "# voyages"
   ]
  },
  {
   "cell_type": "code",
   "execution_count": 36,
   "metadata": {
    "collapsed": false
   },
   "outputs": [],
   "source": [
    "from time import time\n",
    "import multiprocessing\n",
    "import math\n",
    "from time import time"
   ]
  },
  {
   "cell_type": "code",
   "execution_count": null,
   "metadata": {
    "collapsed": true
   },
   "outputs": [],
   "source": [
    "!rm ./logs/*"
   ]
  },
  {
   "cell_type": "code",
   "execution_count": null,
   "metadata": {
    "collapsed": false
   },
   "outputs": [],
   "source": []
  },
  {
   "cell_type": "code",
   "execution_count": null,
   "metadata": {
    "collapsed": false
   },
   "outputs": [
    {
     "name": "stdout",
     "output_type": "stream",
     "text": [
      "(000)000/ 9.33| (001)039/ 0.04| (002)007/ 0.02| (003)008/ 0.02| (004)006/ 0.02| (005)008/ 0.02| (006)005/ 0.02| (007)005/ 0.02| (008)007/ 0.02| (009)007/ 0.02| (010)009/ 0.02| (011)005/ 0.02| (012)003/ 0.02| (013)005/ 0.01| (014)002/ 0.02| (015)007/ 0.02| (016)006/ 0.02| (017)004/ 0.02| (018)008/ 0.02| (019)005/ 0.02| (020)002/ 0.02| (021)004/ 0.02| (022)003/ 0.02| (023)005/ 0.02| (024)000/ 0.01| (025)003/ 0.02| (026)002/ 0.02| (027)003/ 0.02| (028)001/ 0.02| (029)005/ 0.02| (030)010/ 0.02| (031)004/ 0.03| (032)003/ 0.03| (033)005/ 0.02| (034)001/ 0.02| (035)003/ 0.02| (036)002/ 0.02| (037)001/ 0.02| (038)001/ 0.02| (039)002/ 0.01| (040)003/ 0.02| (041)003/ 0.02| (042)004/ 0.02| (043)002/ 0.02| (044)000/ 0.02| (045)004/ 0.02| (046)003/ 0.03| (047)006/ 0.02| (048)001/ 0.02| (049)001/ 0.02| (050)001/ 0.02| (051)001/ 0.02| (052)002/ 0.03| (053)003/ 0.03| (054)001/ 0.02| (055)001/ 0.02| (056)000/ 0.02| (057)000/ 0.02| (058)001/ 0.02| (059)002/ 0.02| (060)003/ 0.02| (061)001/ 0.01| (062)002/ 0.02| (063)000/ 0.02| (064)001/ 0.01| (065)000/ 0.02| (066)003/ 0.02| (067)000/ 0.02| (068)001/ 0.02| (069)001/ 0.03| (070)005/ 0.02| (071)001/ 0.02| (072)003/ 0.02| (073)003/ 0.02| (074)002/ 0.02| (075)000/ 0.02| (076)001/ 0.02| (077)001/ 0.02| (078)000/ 0.02| (079)002/ 0.02| (080)001/ 0.02| (081)002/ 0.02| (082)000/ 0.02| (083)003/ 0.02| (084)002/ 0.02| (085)002/ 0.01| (086)002/ 0.02|"
     ]
    },
    {
     "name": "stderr",
     "output_type": "stream",
     "text": [
      "/opt/conda/envs/python2/lib/python2.7/site-packages/ipykernel/__main__.py:101: RuntimeWarning: divide by zero encountered in double_scalars\n"
     ]
    },
    {
     "name": "stdout",
     "output_type": "stream",
     "text": [
      " (087)001/ 0.03| (088)001/ 0.03| (089)000/ 0.02| (090)001/ 0.02| (091)001/ 0.02| (092)003/ 0.02| (093)000/ 0.03| (094)003/ 0.03| (095)002/ 0.03| (096)001/ 0.02| (097)002/ 0.02| (098)002/ 0.02| (099)002/ 0.03| (100)003/ 2.50| (101)028/ 0.13| (102)023/ 0.12| (103)007/ 0.06| (104)006/ 0.04| (105)007/ 0.05| (106)004/ 0.05| (107)008/ 0.04| (108)003/ 0.04| (109)004/ 0.04| (110)003/ 0.04| (111)003/ 0.04| (112)006/ 0.03| (113)003/ 0.03| (114)002/ 0.03| (115)004/ 0.03| (116)001/ 0.04| (117)004/ 0.04| (118)007/ 0.03| (119)002/ 0.04| (120)002/ 0.02| (121)004/ 0.03| (122)005/ 0.03| (123)003/ 0.06| (124)002/ 0.04| (125)002/ 0.03| (126)000/ 0.04| (127)005/ 0.03| (128)006/ 0.03| (129)003/ 0.04| (130)006/ 0.04| (131)004/ 0.03| (132)003/ 0.04| (133)002/ 0.02| (134)001/ 0.03| (135)006/ 0.03| (136)002/ 0.03| (137)003/ 0.03| (138)002/ 0.02| (139)002/ 0.03| (140)002/ 0.02| (141)001/ 0.03| (142)002/ 0.03| (143)006/ 0.04| (144)001/ 0.03| (145)002/ 0.02| (146)002/ 0.04| (147)004/ 0.03| (148)001/ 0.03| (149)003/ 0.02| (150)005/ 0.02| (151)007/ 0.03| (152)001/ 0.02| (153)002/ 0.03| (154)001/ 0.02| (155)000/ 0.03| (156)001/ 0.02| (157)003/ 0.02| (158)000/ 0.02| (159)002/ 0.02| (160)002/ 0.02| (161)000/ 0.03| (162)005/ 0.02| (163)003/ 0.02| (164)001/ 0.02| (165)003/ 0.02| (166)003/ 0.02| (167)002/ 0.02| (168)001/ 0.02| (169)001/ 0.02| (170)001/ 0.02| (171)001/ 0.03| (172)003/ 0.02| (173)002/ 0.03| (174)001/ 0.03| (175)001/ 0.03| (176)002/ 0.02| (177)005/ 0.02| (178)001/ 0.03| (179)002/ 0.02| (180)002/ 0.03| (181)002/ 0.03| (182)004/ 0.03| (183)000/ 0.03| (184)002/ 0.02| (185)001/ 0.02| (186)001/ 0.02| (187)003/ 0.02| (188)001/ 0.01| (189)001/ 0.03| (190)000/ 0.02| (191)004/ 0.02| (192)001/ 0.03| (193)002/ 0.02| (194)003/ 0.03| (195)002/ 0.02| (196)000/ 0.02| (197)002/ 0.02| (198)004/ 0.02| (199)003/ 0.03| (200)001/ 0.02| (201)011/ 2.63| (202)064/ 0.25| (203)032/ 0.11| (204)024/ 0.09| (205)017/ 0.06| (206)004/ 0.05| (207)008/ 0.05| (208)009/ 0.03| (209)006/ 0.04| (210)008/ 0.04| (211)011/ 4.51| (212)074/ 0.35| (213)071/ 0.12| (214)033/ 0.06| (215)019/ 0.05| (216)019/ 0.05| (217)009/ 0.04| (218)015/ 0.04| (219)007/ 0.04| (220)010/ 0.04| (221)011/ 0.06| (222)009/ 0.06| (223)010/ 0.04| (224)004/ 0.06| (225)009/ 0.04| (226)005/ 0.05| (227)007/ 0.03| (228)012/ 0.03| (229)002/ 0.03| (230)001/ 0.04| (231)001/ 0.05| (232)005/ 0.04| (233)002/ 0.04| (234)002/ 0.05| (235)005/ 0.04| (236)003/ 0.04| (237)003/ 0.03| (238)002/ 0.03| (239)004/ 0.03| (240)005/ 0.04| (241)001/ 0.03| (242)002/ 0.03| (243)002/ 0.03| (244)006/ 0.02| (245)004/ 0.04| (246)004/ 0.04| (247)005/ 0.04| (248)002/ 0.03| (249)003/ 0.02| (250)001/ 0.02| (251)001/ 0.03| (252)003/ 0.03| (253)002/ 0.02| (254)000/ 0.02| (255)001/ 0.03| (256)006/ 0.03| (257)005/ 0.04| (258)001/ 0.03| (259)004/ 0.03| (260)001/ 0.02| (261)003/ 0.02| (262)002/ 0.03| (263)002/ 0.02| (264)002/ 0.02| (265)000/ 0.02| (266)002/ 0.02| (267)001/ 0.02| (268)000/ 0.01| (269)001/ 0.03| (270)002/ 0.03| (271)004/ 0.03| (272)001/ 0.02| (273)002/ 0.02| (274)002/ 0.02| (275)001/ 0.02| (276)000/ 0.02| (277)006/ 0.03| (278)002/ 0.02| (279)001/ 0.02| (280)000/ 0.02| (281)002/ 0.03| (282)003/ 0.02| (283)000/ 0.02| (284)002/ 0.02| (285)000/ 0.03| (286)002/ 0.02| (287)002/ 0.03| (288)005/ 0.04| (289)003/ 0.02| (290)003/ 0.02| (291)000/ 0.02| (292)001/ 0.02| (293)002/ 0.03| (294)001/ 0.01| (295)001/ 0.02| (296)002/ 0.02| (297)001/ 0.03| (298)002/ 0.02| (299)003/ 0.02| (300)003/ 0.02| (301)000/ 0.02| (302)006/ 2.02| (303)039/ 0.21| (304)033/ 0.11| (305)014/ 0.10| (306)012/ 0.07| (307)013/ 0.06| (308)006/ 0.06| (309)006/ 0.06| (310)007/ 0.05| (311)004/ 0.06| (312)010/ 0.06| (313)001/ 0.07| (314)008/ 0.06| (315)005/ 0.05| (316)005/ 0.06| (317)008/ 0.05| (318)005/ 0.06| (319)003/ 0.06| (320)007/ 0.05| (321)005/ 0.03| (322)004/ 0.05| (323)006/ 0.05| (324)008/ 0.05| (325)009/ 0.05| (326)004/ 0.05| (327)008/ 0.05| (328)005/ 0.04| (329)005/ 0.04| (330)006/ 0.03| (331)002/ 0.04| (332)006/ 0.04| (333)002/ 0.04| (334)005/ 0.03| (335)003/ 0.04| (336)002/ 0.03| (337)003/ 0.04| (338)001/ 0.04| (339)004/ 0.03| (340)003/ 0.02| (341)001/ 0.03| (342)002/ 0.03| (343)003/ 0.03| (344)003/ 0.03| (345)003/ 0.03| (346)002/ 0.03| (347)003/ 0.02| (348)001/ 0.03| (349)002/ 0.03| (350)003/ 0.03| (351)003/ 0.02| (352)004/ 0.03| (353)001/ 0.03| (354)002/ 0.03| (355)002/ 0.02| (356)000/ 0.02| (357)001/ 0.03| (358)005/ 0.04| (359)004/ 0.04| (360)002/ 0.03| (361)004/ 0.03| (362)003/ 0.03| (363)004/ 0.04| (364)004/ 0.03| (365)003/ 0.03| (366)004/ 0.04| (367)004/ 0.02| (368)004/ 0.03| (369)001/ 0.03| (370)004/ 0.03| (371)003/ 0.03| (372)003/ 0.03| (373)002/ 0.02| (374)001/ 0.03| (375)002/ 0.04| (376)004/ 0.03| (377)004/ 0.03| (378)000/ 0.02| (379)002/ 0.02| (380)005/ 0.03| (381)002/ 0.02| (382)003/ 0.04| (383)001/ 0.02| (384)004/ 0.02| (385)003/ 0.02| (386)004/ 0.03| (387)001/ 0.02| (388)003/ 0.03| (389)001/ 0.03| (390)001/ 0.02| (391)000/ 0.02| (392)001/ 0.02| (393)002/ 0.03| (394)001/ 0.03| (395)000/ 0.03| (396)004/ 0.03| (397)002/ 0.04| (398)006/ 0.03| (399)002/ 0.02| (400)000/ 0.02| (401)002/ 0.02| (402)000/ 0.02| (403)011/ 1.71| (404)050/ 0.23| (405)022/ 0.11| (406)018/ 0.12| (407)011/ 0.09| (408)012/ 0.07| (409)009/ 0.07| (410)010/ 0.09| (411)011/ 0.06| (412)004/ 0.05| (413)005/ 0.05| (414)005/ 0.07| (415)009/ 0.07| (416)003/ 0.06| (417)008/ 0.08| (418)007/ 0.07| (419)007/ 0.06| (420)008/ 0.05| (421)003/ 0.05| (422)005/ 0.06| (423)007/ 0.05| (424)002/ 0.05| (425)007/ 0.04| (426)006/ 0.04| (427)002/ 0.05| (428)003/ 0.03| (429)004/ 0.04| (430)003/ 0.05| (431)003/ 0.05| (432)009/ 0.04| (433)003/ 0.05| (434)003/ 0.05| (435)009/ 0.04| (436)002/ 0.06| (437)005/ 0.04| (438)005/ 0.05| (439)005/ 0.04| (440)005/ 0.04| (441)004/ 0.03| (442)006/ 0.05| (443)007/ 0.03| (444)008/ 0.04| (445)008/ 0.04| (446)010/ 0.04| (447)005/ 0.04| (448)005/ 0.04| (449)003/ 0.04| (450)005/ 0.05| (451)002/ 0.03| (452)004/ 0.02| (453)001/ 0.02| (454)002/ 0.02| (455)002/ 0.02| (456)003/ 0.03| (457)002/ 0.03| (458)001/ 0.04| (459)001/ 0.02| (460)008/ 0.03| (461)002/ 0.05| (462)006/ 0.04| (463)005/ 0.03| (464)002/ 0.03| (465)003/ 0.04| (466)007/ 0.04| (467)006/ 0.04| (468)004/ 0.03| (469)005/ 0.04| (470)001/ 0.03| (471)003/ 0.02| (472)005/ 0.03| (473)002/ 0.03| (474)004/ 0.02| (475)002/ 0.04| (476)005/ 0.03| (477)001/ 0.03| (478)000/ 0.03| (479)003/ 0.03| (480)000/ 0.03| (481)005/ 0.03| (482)004/ 0.03| (483)002/ 0.03| (484)003/ 0.03| (485)004/ 0.03| (486)001/ 0.03| (487)003/ 0.02| (488)005/ 0.02| (489)002/ 0.03| (490)003/ 0.03| (491)004/ 0.03| (492)000/ 0.02| (493)002/ 0.03| (494)000/ 0.02| (495)003/ 0.03| (496)001/ 0.03| (497)003/ 0.02| (498)011/ 0.04| (499)001/ 0.03| (500)004/ 0.02| (501)000/ 0.02| (502)004/ 0.03| (503)003/ 0.02| (504)003/ 1.51| (505)046/ 0.25| (506)041/ 0.12| (507)024/ 0.12| (508)013/ 0.07| (509)006/ 0.05| (510)014/ 0.06| (511)008/ 0.08| (512)004/ 0.07| (513)003/ 0.06| (514)008/ 0.06| (515)010/ 0.08| (516)004/ 0.08| (517)008/ 0.07| (518)012/ 0.07| (519)008/ 0.08| (520)012/ 0.07| (521)005/ 0.07| (522)005/ 0.05| (523)005/ 0.05| (524)006/ 0.05| (525)004/ 0.04| (526)003/ 0.05| (527)005/ 0.04| (528)006/ 0.04| (529)004/ 0.04| (530)001/ 0.05| (531)003/ 0.03| (532)003/ 0.05| (533)003/ 0.04| (534)002/ 0.05| (535)003/ 0.04| (536)004/ 0.03| (537)007/ 0.05| (538)005/ 0.04| (539)003/ 0.04| (540)001/ 0.03| (541)003/ 0.05| (542)005/ 0.05| (543)007/ 0.05| (544)004/ 0.04| (545)002/ 0.03| (546)007/ 0.05| (547)005/ 0.03| (548)006/ 0.05| (549)004/ 0.03| (550)003/ 0.04| (551)002/ 0.03| (552)003/ 0.04| (553)003/ 0.04| (554)002/ 0.03| (555)004/ 0.03| (556)003/ 0.04| (557)007/ 0.03| (558)004/ 0.03| (559)003/ 0.03| (560)004/ 0.03| (561)002/ 0.04| (562)004/ 0.02| (563)005/ 0.03| (564)002/ 0.03| (565)003/ 0.03| (566)004/ 0.03| (567)002/ 0.03| (568)003/ 0.02| (569)002/ 0.05| (570)005/ 0.04| (571)005/ 0.03| (572)003/ 0.03| (573)002/ 0.02| (574)001/ 0.02| (575)002/ 0.03| (576)002/ 0.03| (577)002/ 0.02| (578)002/ 0.02| (579)004/ 0.03| (580)003/ 0.03| (581)002/ 0.02| (582)001/ 0.03| (583)005/ 0.02| (584)002/ 0.03| (585)003/ 0.03| (586)001/ 0.03| (587)004/ 0.03| (588)002/ 0.02| (589)000/ 0.02| (590)003/ 0.03| (591)001/ 0.03| (592)003/ 0.03| (593)004/ 0.03| (594)003/ 0.03| (595)004/ 0.03| (596)003/ 0.04| (597)004/ 0.03| (598)002/ 0.03| (599)005/ 0.04| (600)002/ 0.03| (601)001/ 0.03| (602)004/ 0.02| (603)002/ 0.02| (604)001/ 0.03| (605)004/ 1.50| (606)037/ 0.25| (607)032/ 0.12| (608)024/ 0.14| (609)012/ 0.12| (610)025/ 0.11| (611)013/ 0.10| (612)015/ 0.10| (613)015/ 0.09| (614)005/ 0.07| (615)008/ 0.09| (616)008/ 0.09| (617)011/ 0.11| (618)010/ 0.10| (619)011/ 0.10| (620)018/ 0.09| (621)010/ 0.08| (622)005/ 0.09| (623)009/ 0.08| (624)012/ 0.07| (625)006/ 0.07| (626)008/ 0.06| (627)010/ 0.07| (628)004/ 0.05| (629)010/ 0.05| (630)005/ 0.06| (631)007/ 0.07| (632)009/ 0.06| (633)008/ 0.04| (634)008/ 0.05| (635)002/ 0.05| (636)007/ 0.04| (637)007/ 0.05| (638)002/ 0.05| (639)005/ 0.05| (640)006/ 0.04| (641)006/ 0.05| (642)005/ 0.06| (643)002/ 0.04| (644)002/ 0.05| (645)007/ 0.06| (646)004/ 0.04| (647)005/ 0.04| (648)005/ 0.05| (649)005/ 0.04| (650)004/ 0.05| (651)005/ 0.04| (652)005/ 0.05| (653)009/ 0.04| (654)008/ 0.04| (655)002/ 0.06| (656)010/ 0.04| (657)007/ 0.06| (658)009/ 0.04| (659)005/ 0.03| (660)004/ 0.05| (661)005/ 0.04| (662)005/ 0.04| (663)006/ 0.04| (664)003/ 0.03| (665)001/ 0.03| (666)001/ 0.03| (667)005/ 0.03| (668)006/ 0.03| (669)009/ 0.06| (670)007/ 0.04| (671)005/ 0.03| (672)004/ 0.03| (673)007/ 0.04| (674)003/ 0.04| (675)010/ 0.04| (676)001/ 0.04| (677)003/ 0.05| (678)011/ 0.05| (679)005/ 0.04| (680)002/ 0.04| (681)006/ 0.05| (682)003/ 0.05| (683)006/ 0.03| (684)004/ 0.03| (685)003/ 0.04| (686)007/ 0.04| (687)007/ 0.04| (688)003/ 0.04| (689)006/ 0.03| (690)003/ 0.04| (691)005/ 0.03| (692)003/ 0.05| (693)004/ 0.03| (694)006/ 0.03| (695)004/ 0.04| (696)003/ 0.03| (697)004/ 0.04| (698)005/ 0.03| (699)005/ 0.04| (700)004/ 0.03| (701)008/ 0.03| (702)001/ 0.04| (703)006/ 0.03| (704)001/ 0.03| (705)004/ 0.03| (706)005/ 1.34| (707)042/ 0.29| (708)028/ 0.11| (709)023/ 0.12| (710)018/ 0.12| (711)015/ 0.12| (712)017/ 0.09| (713)014/ 0.11| (714)009/ 0.10| (715)013/ 0.08| (716)007/ 0.10| (717)011/ 0.10| (718)010/ 0.12| (719)017/ 0.11| (720)007/ 0.10| (721)012/ 0.09| (722)006/ 0.09| (723)006/ 0.09| (724)010/ 0.09| (725)011/ 0.09| (726)014/ 0.08| (727)005/ 0.06| (728)007/ 0.07| (729)005/ 0.06| (730)008/ 0.06| (731)004/ 0.07| (732)007/ 0.08| (733)012/ 0.08| (734)006/ 0.07| (735)009/ 0.07| (736)010/ 0.05| (737)009/ 0.07| (738)005/ 0.05| (739)003/ 0.06| (740)004/ 0.05| (741)004/ 0.04| (742)007/ 0.05| (743)002/ 0.06| (744)011/ 0.05| (745)003/ 0.05| (746)010/ 0.05| (747)004/ 0.05| (748)002/ 0.03| (749)002/ 0.04| (750)005/ 0.05| (751)006/ 0.05| (752)004/ 0.04| (753)002/ 0.06| (754)008/ 0.04| (755)006/ 0.05| (756)004/ 0.05| (757)002/ 0.04| (758)005/ 0.03| (759)005/ 0.04| (760)004/ 0.03| (761)003/ 0.12| (762)008/ 0.05| (763)005/ 0.02| (764)004/ 0.03| (765)002/ 0.04| (766)004/ 0.05| (767)006/ 0.04| (768)004/ 0.03| (769)004/ 0.04| (770)005/ 0.03| (771)003/ 0.04| (772)002/ 0.04| (773)003/ 0.04| (774)006/ 0.04| (775)006/ 0.04| (776)006/ 0.04| (777)004/ 0.04| (778)006/ 0.03| (779)005/ 0.03| (780)003/ 0.02| (781)004/ 0.04| (782)004/ 0.03| (783)004/ 0.03| (784)003/ 0.03| (785)002/ 0.02| (786)004/ 0.03| (787)003/ 0.05| (788)004/ 0.04| (789)005/ 0.04| (790)004/ 0.04| (791)004/ 0.03| (792)005/ 0.04| (793)002/ 0.04| (794)005/ 0.03| (795)006/ 0.03| (796)003/ 0.04| (797)004/ 0.04| (798)004/ 0.02| (799)003/ 0.03| (800)004/ 0.02| (801)002/ 0.03| (802)004/ 0.02| (803)001/ 0.03| (804)005/ 0.03| (805)006/ 0.03| (806)002/ 0.05| (807)007/ 1.16| (808)037/ 0.24| (809)035/ 0.13| (810)017/ 0.11| (811)018/ 0.15| (812)014/ 0.12| (813)018/ 0.11| (814)012/ 0.12| (815)012/ 0.13| (816)010/ 0.09| (817)005/ 0.10| (818)009/ 0.10| (819)009/ 0.12| (820)012/ 0.12| (821)007/ 0.10| (822)011/ 0.11| (823)012/ 0.08| (824)015/ 0.10| (825)005/ 0.11| (826)009/ 0.07| (827)015/ 0.07| (828)009/ 0.09| (829)010/ 0.09| (830)010/ 0.07| (831)008/ 0.06| (832)009/ 0.08| (833)007/ 0.08| (834)012/ 0.08| (835)010/ 0.06| (836)006/ 0.05| (837)005/ 0.07| (838)007/ 0.05| (839)013/ 0.06| (840)008/ 0.06| (841)005/ 0.06| (842)007/ 0.05| (843)008/ 0.05| (844)004/ 0.04| (845)006/ 0.05| (846)005/ 0.08| (847)009/ 0.07| (848)009/ 0.07| (849)010/ 0.05| (850)005/ 0.07| (851)002/ 0.05| (852)009/ 0.05| (853)005/ 0.05| (854)003/ 0.04| (855)004/ 0.05| (856)004/ 0.03| (857)005/ 0.04| (858)006/ 0.03| (859)007/ 0.04| (860)004/ 0.05| (861)006/ 0.04| (862)003/ 0.04| (863)006/ 0.04| (864)005/ 0.03| (865)005/ 0.04| (866)006/ 0.04| (867)001/ 0.03| (868)002/ 0.03| (869)003/ 0.03| (870)002/ 0.03| (871)005/ 0.03| (872)004/ 0.04| (873)002/ 0.03| (874)004/ 0.04| (875)002/ 0.03| (876)007/ 0.04| (877)006/ 0.03| (878)008/ 0.05| (879)003/ 0.05| (880)012/ 0.04| (881)003/ 0.05| (882)007/ 0.04| (883)002/ 0.04| (884)006/ 0.03| (885)005/ 0.03| (886)003/ 0.03| (887)003/ 0.02| (888)004/ 0.03| (889)003/ 0.03| (890)002/ 0.03| (891)003/ 0.03| (892)003/ 0.03| (893)005/ 0.03| (894)003/ 0.02| (895)001/ 0.04| (896)003/ 0.04| (897)003/ 0.03| (898)007/ 0.03| (899)004/ 0.04| (900)004/ 0.04| (901)003/ 0.03| (902)002/ 0.03| (903)004/ 0.03| (904)004/ 0.04| (905)004/ 0.05| (906)001/ 0.03| (907)003/ 0.04| (908)014/ 1.02| (909)041/ 0.31| (910)029/ 0.11| (911)011/ 0.12| (912)014/ 0.13| (913)015/ 0.13| (914)016/ 0.15| (915)017/ 0.16| (916)021/ 0.16| (917)014/ 0.12| (918)009/ 0.11| (919)012/ 0.14| (920)018/ 0.14| (921)013/ 0.14| (922)011/ 0.11| (923)016/ 0.12| (924)015/ 0.09| (925)007/ 0.10| (926)014/ 0.10| (927)009/ 0.09| (928)014/ 0.10| (929)011/ 0.12| (930)012/ 0.09| (931)010/ 0.07| (932)006/ 0.07| (933)009/ 0.08| (934)009/ 0.07| (935)005/ 0.09| (936)012/ 0.08| (937)005/ 0.06| (938)007/ 0.06| (939)011/ 0.07| (940)004/ 0.07| (941)005/ 0.05| (942)005/ 0.06| (943)006/ 0.06| (944)005/ 0.06| (945)007/ 0.06| (946)008/ 0.07| (947)006/ 0.06| (948)006/ 0.06| (949)008/ 0.05| (950)011/ 0.06| (951)005/ 0.05| (952)007/ 0.05| (953)004/ 0.06| (954)005/ 0.06| (955)007/ 0.06| (956)012/ 0.07| (957)009/ 0.05| (958)002/ 0.06| (959)004/ 0.05| (960)006/ 0.04| (961)008/ 0.05| (962)002/ 0.04| (963)005/ 0.03| (964)004/ 0.05| (965)003/ 0.04| (966)006/ 0.05| (967)008/ 0.05| (968)006/ 0.04| (969)006/ 0.05| (970)003/ 0.05| (971)004/ 0.04| (972)011/ 0.05| (973)006/ 0.04| (974)004/ 0.05| (975)005/ 0.03| (976)000/ 0.03| (977)002/ 0.03| (978)008/ 0.05| (979)006/ 0.05| (980)005/ 0.06| (981)004/ 0.03| (982)007/ 0.04| (983)002/ 0.04| (984)007/ 0.05| (985)004/ 0.04| (986)005/ 0.03| (987)004/ 0.04| (988)001/ 0.04| (989)006/ 0.04| (990)005/ 0.04| (991)006/ 0.05| (992)009/ 0.05| (993)003/ 0.03| (994)007/ 0.03| (995)004/ 0.04| (996)001/ 0.03| (997)005/ 0.03| (998)004/ 0.03| (999)002/ 0.03| (1000)004/ 0.02| (1001)001/ 0.02| (1002)002/ 0.03| (1003)004/ 0.03| (1004)006/ 0.04| (1005)003/ 0.04| (1006)007/ 0.03| (1007)003/ 0.03| (1008)003/ 0.03| (1009)005/ 0.76| (1010)032/ 0.33| (1011)030/ 0.14| (1012)019/ 0.16| (1013)022/ 0.14| (1014)015/ 0.16| (1015)014/ 0.16| (1016)023/ 0.17| (1017)021/ 0.15| (1018)013/ 0.18| (1019)020/ 0.17| (1020)017/ 0.13| (1021)013/ 0.12| (1022)012/ 0.14| (1023)012/ 0.11| (1024)008/ 0.12| (1025)013/ 0.11| (1026)009/ 0.11| (1027)011/ 0.14| (1028)016/ 0.12| (1029)016/ 0.10| (1030)015/ 0.10| (1031)012/ 0.08| (1032)009/ 0.09| (1033)009/ 0.07| (1034)010/ 0.10| (1035)010/ 0.10| (1036)013/ 0.09| (1037)010/ 0.09| (1038)011/ 0.07| (1039)014/ 0.07| (1040)009/ 0.07| (1041)012/ 0.07| (1042)007/ 0.05| (1043)004/ 0.08| (1044)005/ 0.06| (1045)006/ 0.08| (1046)004/ 0.06| (1047)004/ 0.07| (1048)009/ 0.07| (1049)007/ 0.05| (1050)006/ 0.05| (1051)007/ 0.07| (1052)009/ 0.05| (1053)002/ 0.06| (1054)006/ 0.05| (1055)007/ 0.05| (1056)006/ 0.07| (1057)006/ 0.07| (1058)009/ 0.06| (1059)007/ 0.07| (1060)008/ 0.04| (1061)011/ 0.06| (1062)005/ 0.07| (1063)004/ 0.05| (1064)012/ 0.06| (1065)006/ 0.04| (1066)003/ 0.04| (1067)006/ 0.04| (1068)005/ 0.05| (1069)002/ 0.04| (1070)005/ 0.04| (1071)004/ 0.05| (1072)007/ 0.05| (1073)009/ 0.05| (1074)008/ 0.05| (1075)007/ 0.04| (1076)006/ 0.05| (1077)006/ 0.04| (1078)004/ 0.04| (1079)003/ 0.05| (1080)005/ 0.04| (1081)002/ 0.02| (1082)002/ 0.03| (1083)006/ 0.04| (1084)005/ 0.04| (1085)002/ 0.06| (1086)005/ 0.04| (1087)007/ 0.05| (1088)004/ 0.04| (1089)006/ 0.04| (1090)003/ 0.04| (1091)002/ 0.03| (1092)005/ 0.04| (1093)002/ 0.05| (1094)006/ 0.04| (1095)010/ 0.04| (1096)002/ 0.04| (1097)010/ 0.04| (1098)002/ 0.04| (1099)007/ 0.05| (1100)006/ 0.03| (1101)003/ 0.04| (1102)006/ 0.04| (1103)003/ 0.05| (1104)006/ 0.05| (1105)006/ 0.03| (1106)002/ 0.03| (1107)004/ 0.04| (1108)005/ 0.04| (1109)006/ 0.04| (1110)010/ 0.51| (1111)026/ 0.32| (1112)032/ 0.13| (1113)016/ 0.16| (1114)015/ 0.16| (1115)015/ 0.16| (1116)022/ 0.14| (1117)018/ 0.20| (1118)017/ 0.18| (1119)020/ 0.16| (1120)023/ 0.16| (1121)019/ 0.16| (1122)011/ 0.13| (1123)009/ 0.17| (1124)019/ 0.13| (1125)013/ 0.13| (1126)009/ 0.10| (1127)012/ 0.13| (1128)013/ 0.12| (1129)017/ 0.13| (1130)016/ 0.09| (1131)014/ 0.12| (1132)012/ 0.09| (1133)009/ 0.08| (1134)011/ 0.09| (1135)009/ 0.09| (1136)008/ 0.08| (1137)011/ 0.08| (1138)013/ 0.09| (1139)008/ 0.08| (1140)009/ 0.08| (1141)009/ 0.07| (1142)007/ 0.07| (1143)005/ 0.05| (1144)008/ 0.08| (1145)009/ 0.07| (1146)005/ 0.07| (1147)006/ 0.07| (1148)006/ 0.08| (1149)012/ 0.07| (1150)012/ 0.06| (1151)009/ 0.07| (1152)008/ 0.07| (1153)008/ 0.08| (1154)006/ 0.05| (1155)001/ 0.05| (1156)003/ 0.06| (1157)007/ 0.05| (1158)008/ 0.08| (1159)011/ 0.08| (1160)009/ 0.08| (1161)010/ 0.06| (1162)013/ 0.08| (1163)007/ 0.05| (1164)012/ 0.06| (1165)002/ 0.04| (1166)007/ 0.05| (1167)005/ 0.05| (1168)007/ 0.04| (1169)006/ 0.05| (1170)004/ 0.05| (1171)005/ 0.06| (1172)009/ 0.05| (1173)004/ 0.05| (1174)004/ 0.05| (1175)006/ 0.05| (1176)006/ 0.04| (1177)004/ 0.04| (1178)007/ 0.07| (1179)006/ 0.05| (1180)006/ 0.04| (1181)008/ 0.05| (1182)003/ 0.05| (1183)008/ 0.05| (1184)005/ 0.04| (1185)002/ 0.04| (1186)006/ 0.05| (1187)004/ 0.04| (1188)004/ 0.04| (1189)003/ 0.04| (1190)004/ 0.04| (1191)004/ 0.04| (1192)002/ 0.03| (1193)005/ 0.03| (1194)003/ 0.05| (1195)005/ 0.05| (1196)007/ 0.06| (1197)007/ 0.04| (1198)006/ 0.05| (1199)002/ 0.04| (1200)007/ 0.05| (1201)005/ 0.05| (1202)006/ 0.05| (1203)005/ 0.06| (1204)005/ 0.05| (1205)006/ 0.05| (1206)002/ 0.03| (1207)003/ 0.05| (1208)005/ 0.04| (1209)007/ 0.05| (1210)006/ 0.03| (1211)005/ 0.28| (1212)018/ 0.26| (1213)018/ 0.11| (1214)020/ 0.17| (1215)013/ 0.16| (1216)012/ 0.15| (1217)016/ 0.18| (1218)019/ 0.20| (1219)018/ 0.21| (1220)023/ 0.19| (1221)014/ 0.19| (1222)019/ 0.17| (1223)017/ 0.16| (1224)016/ 0.16| (1225)011/ 0.16| (1226)019/ 0.14| (1227)015/ 0.14| (1228)014/ 0.12| (1229)020/ 0.12| (1230)012/ 0.12| (1231)015/ 0.10| (1232)009/ 0.10| (1233)014/ 0.11| (1234)017/ 0.08| (1235)010/ 0.07| (1236)008/ 0.09| (1237)012/ 0.09| (1238)004/ 0.06| (1239)007/ 0.11| (1240)014/ 0.07| (1241)004/ 0.07| (1242)009/ 0.08| (1243)008/ 0.07| (1244)006/ 0.08| (1245)009/ 0.09| (1246)011/ 0.08| (1247)009/ 0.08| (1248)009/ 0.06| (1249)008/ 0.07| (1250)008/ 0.08| (1251)009/ 0.07| (1252)008/ 0.08| (1253)012/ 0.07| (1254)010/ 0.09| (1255)010/ 0.07| (1256)014/ 0.07| (1257)011/ 0.08| (1258)009/ 0.07| (1259)007/ 0.07| (1260)004/ 0.06| (1261)010/ 0.07| (1262)006/ 0.04| (1263)009/ 0.05| (1264)005/ 0.04| (1265)007/ 0.06| (1266)002/ 0.04| (1267)005/ 0.05| (1268)004/ 0.03| (1269)006/ 0.04| (1270)004/ 0.05| (1271)004/ 0.04| (1272)006/ 0.05| (1273)007/ 0.06| (1274)004/ 0.06| (1275)004/ 0.04| (1276)004/ 0.05| (1277)004/ 0.05| (1278)009/ 0.05| (1279)007/ 0.06| (1280)006/ 0.05| (1281)005/ 0.05| (1282)005/ 0.05| (1283)008/ 0.06| (1284)006/ 0.05| (1285)002/ 0.04| (1286)013/ 0.05| (1287)004/ 0.04| (1288)008/ 0.04| (1289)008/ 0.05| (1290)006/ 0.04| (1291)004/ 0.04| (1292)009/ 0.04| (1293)003/ 0.04| (1294)001/ 0.03| (1295)005/ 0.03| (1296)005/ 0.04| (1297)002/ 0.04| (1298)004/ 0.03| (1299)006/ 0.05| (1300)005/ 0.05| (1301)005/ 0.05| (1302)009/ 0.05| (1303)007/ 0.07| (1304)009/ 0.06| (1305)006/ 0.04| (1306)005/ 0.05| (1307)012/ 0.05| (1308)004/ 0.05| (1309)006/ 0.03| (1310)005/ 0.03| (1311)003/ 0.04| (1312)005/ 0.04| (1313)001/ 0.20| (1314)011/ 0.09| (1315)006/ 0.14| (1316)011/ 0.18| (1317)012/ 0.21| (1318)019/ 0.20| (1319)008/ 0.19| (1320)017/ 0.21| (1321)009/ 0.22| (1322)015/ 0.21| (1323)017/ 0.23| (1324)024/ 0.18| (1325)014/ 0.20| (1326)020/ 0.19| (1327)021/ 0.14| (1328)008/ 0.15| (1329)011/ 0.15| (1330)011/ 0.13| (1331)012/ 0.14| (1332)012/ 0.11| (1333)016/ 0.14| (1334)012/ 0.11| (1335)013/ 0.11| (1336)012/ 0.10| (1337)006/ 0.09| (1338)010/ 0.10| (1339)016/ 0.09| (1340)006/ 0.11| (1341)014/ 0.06| (1342)005/ 0.08| (1343)009/ 0.09| (1344)004/ 0.06| (1345)008/ 0.07| (1346)009/ 0.10| (1347)007/ 0.08| (1348)010/ 0.08| (1349)004/ 0.07| (1350)010/ 0.07| (1351)008/ 0.05| (1352)007/ 0.07| (1353)003/ 0.09| (1354)008/ 0.08| (1355)011/ 0.07| (1356)008/ 0.07| (1357)003/ 0.06| (1358)012/ 0.07| (1359)006/ 0.08| (1360)011/ 0.07| (1361)003/ 0.07| (1362)007/ 0.09| (1363)007/ 0.07| (1364)008/ 0.08| (1365)010/ 0.06| (1366)004/ 0.05| (1367)006/ 0.08| (1368)011/ 0.06| (1369)004/ 0.06| (1370)005/ 0.04| (1371)004/ 0.05| (1372)005/ 0.05| (1373)003/ 0.04| (1374)006/ 0.06| (1375)006/ 0.05| (1376)006/ 0.04| (1377)006/ 0.06| (1378)003/ 0.05| (1379)004/ 0.06| (1380)003/ 0.06| (1381)007/ 0.05| (1382)010/ 0.05| (1383)004/ 0.05| (1384)008/ 0.06| (1385)003/ 0.05| (1386)003/ 0.04| (1387)006/ 0.05| (1388)001/ 0.04| (1389)003/ 0.03| (1390)005/ 0.05| (1391)002/ 0.03| (1392)005/ 0.05| (1393)005/ 0.05| (1394)006/ 0.06| (1395)006/ 0.06| (1396)002/ 0.05| (1397)009/ 0.06| (1398)003/ 0.03| (1399)007/ 0.03| (1400)004/ 0.03| (1401)002/ 0.05| (1402)004/ 0.04| (1403)003/ 0.04| (1404)005/ 0.05| (1405)003/ 0.04| (1406)009/ 0.04| (1407)004/ 0.03| (1408)002/ 0.04| (1409)006/ 0.05| (1410)002/ 0.05| (1411)006/ 0.05| (1412)005/ 0.06| (1413)008/ 0.05| (1414)007/ 0.22| (1415)011/ 0.10| (1416)010/ 0.15| (1417)009/ 0.18| (1418)015/ 0.20| (1419)008/ 0.21| (1420)018/ 0.18| (1421)019/ 0.21| (1422)020/ 0.19| (1423)014/ 0.21| (1424)020/ 0.18| (1425)010/ 0.17| (1426)016/ 0.20| (1427)019/ 0.16| (1428)014/ 0.13| (1429)012/ 0.15| (1430)009/ 0.14| (1431)012/ 0.12| (1432)012/ 0.12| (1433)014/ 0.10| (1434)010/ 0.11| (1435)015/ 0.12| (1436)005/ 0.08| (1437)008/ 0.07| (1438)008/ 0.07| (1439)006/ 0.10| (1440)006/ 0.07| (1441)007/ 0.09| (1442)010/ 0.06| (1443)004/ 0.07| (1444)004/ 0.10| (1445)007/ 0.08| (1446)011/ 0.07| (1447)010/ 0.09| (1448)001/ 0.07| (1449)005/ 0.07| (1450)005/ 0.07| (1451)010/ 0.06| (1452)007/ 0.07| (1453)002/ 0.06| (1454)004/ 0.05| (1455)007/ 0.05| (1456)004/ 0.07| (1457)004/ 0.08| (1458)008/ 0.07| (1459)006/ 0.06| (1460)007/ 0.06| (1461)010/ 0.08| (1462)005/ 0.06| (1463)007/ 0.06| (1464)007/ 0.07| (1465)006/ 0.06| (1466)003/ 0.06| (1467)008/ 0.05| (1468)003/ 0.06| (1469)006/ 0.06| (1470)007/ 0.06| (1471)008/ 0.05| (1472)002/ 0.06| (1473)005/ 0.06| (1474)009/ 0.06| (1475)004/ 0.06| (1476)002/ 0.04| (1477)002/ 0.04| (1478)002/ 0.06| (1479)004/ 0.05| (1480)005/ 0.05| (1481)008/ 0.07| (1482)009/ 0.06| (1483)006/ 0.05| (1484)005/ 0.05| (1485)009/ 0.05| (1486)004/ 0.05| (1487)007/ 0.05| (1488)004/ 0.07| (1489)004/ 0.04| (1490)003/ 0.05| (1491)007/ 0.05| (1492)006/ 0.05| (1493)004/ 0.05| (1494)003/ 0.05| (1495)005/ 0.05| (1496)008/ 0.06| (1497)007/ 0.04| (1498)004/ 0.04| (1499)005/ 0.06| (1500)004/ 0.05| (1501)007/ 0.06| (1502)008/ 0.06| (1503)006/ 0.05| (1504)002/ 0.03| (1505)006/ 0.04| (1506)006/ 0.06| (1507)006/ 0.04| (1508)006/ 0.05| (1509)002/ 0.04| (1510)008/ 0.04| (1511)005/ 0.04| (1512)002/ 0.04| (1513)004/ 0.04| (1514)004/ 0.03| (1515)004/ 0.21| (1516)011/ 0.10| (1517)006/ 0.15| (1518)012/ 0.24| (1519)017/ 0.20| (1520)021/ 0.18| (1521)022/ 0.18| (1522)017/ 0.19| (1523)019/ 0.23| (1524)024/ 0.19| (1525)019/ 0.18| (1526)014/ 0.16| (1527)015/ 0.19| (1528)012/ 0.16| (1529)012/ 0.12| (1530)012/ 0.13| (1531)007/ 0.11| (1532)007/ 0.14| (1533)008/ 0.13| (1534)011/ 0.12| (1535)016/ 0.14| (1536)010/ 0.12| (1537)017/ 0.13| (1538)019/ 0.11| (1539)012/ 0.10| (1540)012/ 0.11| (1541)005/ 0.08| (1542)008/ 0.10| (1543)015/ 0.08| (1544)009/ 0.09| (1545)001/ 0.08| (1546)009/ 0.07| (1547)010/ 0.06| (1548)006/ 0.08| (1549)008/ 0.07| (1550)008/ 0.08| (1551)010/ 0.06| (1552)009/ 0.07| (1553)006/ 0.07| (1554)008/ 0.06| (1555)007/ 0.07| (1556)007/ 0.05| (1557)006/ 0.07| (1558)005/ 0.08| (1559)006/ 0.06| (1560)010/ 0.05| (1561)003/ 0.06| (1562)008/ 0.08| (1563)013/ 0.05| (1564)003/ 0.04| (1565)003/ 0.06| (1566)008/ 0.06| (1567)010/ 0.05| (1568)003/ 0.06| (1569)002/ 0.06| (1570)006/ 0.06| (1571)004/ 0.05| (1572)007/ 0.05| (1573)007/ 0.05| (1574)004/ 0.06| (1575)003/ 0.05| (1576)004/ 0.06| (1577)007/ 0.05| (1578)005/ 0.05| (1579)004/ 0.05| (1580)007/ 0.06| (1581)003/ 0.06| (1582)007/ 0.06| (1583)009/ 0.06| (1584)004/ 0.05| (1585)001/ 0.04| (1586)003/ 0.05| (1587)006/ 0.07| (1588)004/ 0.05| (1589)010/ 0.07| (1590)003/ 0.07| (1591)006/ 0.05| (1592)004/ 0.05| (1593)004/ 0.05| (1594)005/ 0.04| (1595)006/ 0.05| (1596)008/ 0.05| (1597)005/ 0.03| (1598)003/ 0.04| (1599)003/ 0.03| (1600)002/ 0.03| (1601)003/ 0.05| (1602)008/ 0.05| (1603)005/ 0.06| (1604)005/ 0.05| (1605)010/ 0.08| (1606)008/ 0.05| (1607)001/ 0.05| (1608)004/ 0.03| (1609)003/ 0.05| (1610)010/ 0.05| (1611)006/ 0.05| (1612)004/ 0.04| (1613)008/ 0.04| (1614)002/ 0.04| (1615)006/ 0.04| (1616)006/ 0.18| (1617)007/ 0.08| (1618)014/ 0.14| (1619)006/ 0.20| (1620)010/ 0.17| (1621)017/ 0.18| (1622)010/ 0.19| (1623)018/ 0.17| (1624)016/ 0.20| (1625)019/ 0.21| (1626)014/ 0.16| (1627)016/ 0.17| (1628)010/ 0.19| (1629)024/ 0.16| (1630)018/ 0.14| (1631)014/ 0.14| (1632)013/ 0.12| (1633)013/ 0.14| (1634)013/ 0.12| (1635)013/ 0.12| (1636)012/ 0.11| (1637)015/ 0.11| (1638)008/ 0.11| (1639)005/ 0.09| (1640)010/ 0.10| (1641)007/ 0.08| (1642)011/ 0.08| (1643)010/ 0.11| (1644)004/ 0.07| (1645)006/ 0.09| (1646)007/ 0.10| (1647)008/ 0.08| (1648)009/ 0.08| (1649)008/ 0.10| (1650)018/ 0.09| (1651)007/ 0.08| (1652)004/ 0.07| (1653)011/ 0.09| (1654)010/ 0.08| (1655)009/ 0.07| (1656)006/ 0.08| (1657)008/ 0.07| (1658)005/ 0.06| (1659)003/ 0.06| (1660)004/ 0.06| (1661)010/ 0.06| (1662)007/ 0.07| (1663)005/ 0.07| (1664)009/ 0.06| (1665)007/ 0.04| (1666)003/ 0.07| (1667)005/ 0.07| (1668)001/ 0.05| (1669)010/ 0.06| (1670)005/ 0.06| (1671)007/ 0.05| (1672)004/ 0.05| (1673)006/ 0.04| (1674)001/ 0.04| (1675)004/ 0.06| (1676)005/ 0.07| (1677)008/ 0.06| (1678)004/ 0.07| (1679)008/ 0.06| (1680)007/ 0.07| (1681)009/ 0.07| (1682)008/ 0.07| (1683)007/ 0.06| (1684)004/ 0.05| (1685)005/ 0.08| (1686)007/ 0.07| (1687)010/ 0.06| (1688)012/ 0.08| (1689)009/ 0.06| (1690)010/ 0.06| (1691)007/ 0.06| (1692)008/ 0.06| (1693)004/ 0.04| (1694)003/ 0.06| (1695)007/ 0.05| (1696)004/ 0.05| (1697)010/ 0.06| (1698)002/ 0.05| (1699)004/ 0.05| (1700)005/ 0.05| (1701)008/ 0.05| (1702)005/ 0.04| (1703)005/ 0.06| (1704)008/ 0.05| (1705)005/ 0.05| (1706)004/ 0.05| (1707)007/ 0.05| (1708)004/ 0.06| (1709)008/ 0.05| (1710)006/ 0.06| (1711)008/ 0.05| (1712)007/ 0.06| (1713)005/ 0.06| (1714)006/ 0.04| (1715)002/ 0.04| (1716)001/ 0.04| (1717)005/ 0.18| (1718)010/ 0.11| (1719)014/ 0.19| (1720)013/ 0.19| (1721)022/ 0.18| (1722)014/ 0.17| (1723)014/ 0.18| (1724)019/ 0.19| (1725)025/ 0.19| (1726)012/ 0.17| (1727)021/ 0.19| (1728)011/ 0.14| (1729)013/ 0.17| (1730)010/ 0.14| (1731)011/ 0.13| (1732)012/ 0.13| (1733)006/ 0.11| (1734)012/ 0.15| (1735)015/ 0.15| (1736)006/ 0.12| (1737)012/ 0.13| (1738)011/ 0.15| (1739)012/ 0.14| (1740)014/ 0.11| (1741)010/ 0.13| (1742)008/ 0.13| (1743)012/ 0.13| (1744)015/ 0.11| (1745)010/ 0.12| (1746)008/ 0.08| (1747)010/ 0.10| (1748)007/ 0.08| (1749)013/ 0.10| (1750)010/ 0.08| (1751)007/ 0.10| (1752)010/ 0.10| (1753)007/ 0.07| (1754)008/ 0.09| (1755)005/ 0.08| (1756)011/ 0.09| (1757)012/ 0.08| (1758)005/ 0.07| (1759)004/ 0.08| (1760)009/ 0.10| (1761)008/ 0.08| (1762)004/ 0.08| (1763)009/ 0.09| (1764)015/ 0.08| (1765)005/ 0.07| (1766)008/ 0.11| (1767)007/ 0.08| (1768)009/ 0.08| (1769)006/ 0.06| (1770)008/ 0.06| (1771)006/ 0.07| (1772)008/ 0.07| (1773)005/ 0.10| (1774)012/ 0.07| (1775)006/ 0.06| (1776)008/ 0.05| (1777)010/ 0.06| (1778)009/ 0.08| (1779)010/ 0.10| (1780)010/ 0.07| (1781)010/ 0.06| (1782)009/ 0.06| (1783)006/ 0.07| (1784)009/ 0.06| (1785)006/ 0.06| (1786)007/ 0.08| (1787)008/ 0.05| (1788)004/ 0.07| (1789)007/ 0.07| (1790)007/ 0.07| (1791)006/ 0.08| (1792)008/ 0.08| (1793)005/ 0.07| (1794)008/ 0.06| (1795)006/ 0.05| (1796)008/ 0.05| (1797)008/ 0.08| (1798)007/ 0.07| (1799)009/ 0.06| (1800)009/ 0.06| (1801)005/ 0.06| (1802)004/ 0.06| (1803)006/ 0.06| (1804)009/ 0.07| (1805)007/ 0.09| (1806)006/ 0.06| (1807)009/ 0.06| (1808)007/ 0.07| (1809)005/ 0.07| (1810)006/ 0.06| (1811)009/ 0.05| (1812)006/ 0.05| (1813)003/ 0.06| (1814)004/ 0.06| (1815)007/ 0.05| (1816)008/ 0.06| (1817)007/ 0.06| (1818)005/ 0.18| (1819)012/ 0.11| (1820)015/ 0.16| (1821)018/ 0.18| (1822)015/ 0.18| (1823)012/ 0.18| (1824)020/ 0.18| (1825)009/ 0.18| (1826)015/ 0.21| (1827)017/ 0.18| (1828)019/ 0.19| (1829)013/ 0.15| (1830)017/ 0.19| (1831)015/ 0.18| (1832)022/ 0.15| (1833)019/ 0.13| (1834)010/ 0.15| (1835)012/ 0.17| (1836)013/ 0.16| (1837)012/ 0.13| (1838)013/ 0.16| (1839)015/ 0.13| (1840)007/ 0.12| (1841)019/ 0.12| (1842)009/ 0.11| (1843)014/ 0.13| (1844)014/ 0.12| (1845)010/ 0.12| (1846)014/ 0.11| (1847)012/ 0.12| (1848)009/ 0.13| (1849)014/ 0.11| (1850)011/ 0.12| (1851)008/ 0.10| (1852)012/ 0.09| (1853)006/ 0.09| (1854)010/ 0.10| (1855)007/ 0.08| (1856)011/ 0.08| (1857)007/ 0.09| (1858)016/ 0.10| (1859)010/ 0.11| (1860)008/ 0.10| (1861)006/ 0.09| (1862)008/ 0.10| (1863)010/ 0.08| (1864)012/ 0.09| (1865)017/ 0.08| (1866)004/ 0.08| (1867)008/ 0.08| (1868)006/ 0.09| (1869)008/ 0.08| (1870)007/ 0.07| (1871)010/ 0.08| (1872)008/ 0.07| (1873)010/ 0.06| (1874)004/ 0.07| (1875)005/ 0.07| (1876)011/ 0.06| (1877)007/ 0.07| (1878)009/ 0.05| (1879)005/ 0.06| (1880)005/ 0.06| (1881)007/ 0.08| (1882)013/ 0.08| (1883)010/ 0.08| (1884)005/ 0.05| (1885)004/ 0.05| (1886)006/ 0.05| (1887)002/ 0.05| (1888)004/ 0.05| (1889)005/ 0.08| (1890)005/ 0.05| (1891)001/ 0.04| (1892)008/ 0.05| (1893)003/ 0.08| (1894)005/ 0.06| (1895)009/ 0.08| (1896)007/ 0.07| (1897)005/ 0.06| (1898)012/ 0.07| (1899)009/ 0.07| (1900)010/ 0.06| (1901)007/ 0.08| (1902)013/ 0.06| (1903)004/ 0.06| (1904)007/ 0.04| (1905)004/ 0.05| (1906)008/ 0.06| (1907)004/ 0.04| (1908)002/ 0.04| (1909)004/ 0.04| (1910)009/ 0.06| (1911)003/ 0.05| (1912)004/ 0.04| (1913)007/ 0.06| (1914)007/ 0.05| (1915)004/ 0.04| (1916)005/ 0.05| (1917)004/ 0.04| (1918)004/ 0.04| (1919)001/ 0.13| (1920)011/ 0.12| (1921)010/ 0.13| (1922)010/ 0.16| (1923)009/ 0.16| (1924)015/ 0.18| (1925)016/ 0.17| (1926)016/ 0.16| (1927)022/ 0.21| (1928)015/ 0.56| (1929)033/ 0.27| (1930)024/ 0.23| (1931)029/ 0.34| (1932)027/ 0.22| (1933)024/ 0.19| (1934)030/ 0.15| (1935)015/ 0.14| (1936)015/ 0.15| (1937)010/ 0.12| (1938)014/ 0.16| (1939)018/ 0.16| (1940)008/ 0.15| (1941)020/ 0.12| (1942)011/ 0.14| (1943)016/ 0.16| (1944)010/ 0.15| (1945)018/ 0.12| (1946)016/ 0.17| (1947)018/ 0.13| (1948)013/ 0.16| (1949)023/ 0.14| (1950)015/ 0.13| (1951)012/ 0.09| (1952)014/ 0.10| (1953)004/ 0.12| (1954)009/ 0.09| (1955)010/ 0.10| (1956)009/ 0.12| (1957)010/ 0.07| (1958)008/ 0.08| (1959)006/ 0.09| (1960)011/ 0.09| (1961)008/ 0.10| (1962)006/ 0.12| (1963)013/ 0.12| (1964)020/ 0.13| (1965)010/ 0.11| (1966)015/ 0.10| (1967)013/ 0.10| (1968)009/ 0.19| (1969)014/ 0.10| (1970)012/ 0.09| (1971)008/ 0.09| (1972)011/ 0.08| (1973)013/ 0.09| (1974)011/ 0.09| (1975)012/ 0.09| (1976)007/ 0.06| (1977)005/ 0.05| (1978)004/ 0.06| (1979)001/ 0.06| (1980)006/ 0.06| (1981)005/ 0.06| (1982)007/ 0.07| (1983)005/ 0.06| (1984)010/ 0.06| (1985)003/ 0.06| (1986)005/ 0.06| (1987)003/ 0.07| (1988)006/ 0.06| (1989)007/ 0.07| (1990)005/ 0.06| (1991)007/ 0.07| (1992)006/ 0.08| (1993)009/ 0.08| (1994)004/ 0.06| (1995)007/ 0.05| (1996)006/ 0.06| (1997)007/ 0.07| (1998)003/ 0.06| (1999)005/ 0.07| (2000)008/ 0.07| (2001)007/ 0.08| (2002)003/ 0.05| (2003)004/ 0.05| (2004)002/ 0.04| (2005)002/ 0.04| (2006)004/ 0.05| (2007)009/ 0.06| (2008)006/ 0.06| (2009)006/ 0.07| (2010)005/ 0.07| (2011)007/ 0.07| (2012)006/ 0.06| (2013)006/ 0.07| (2014)004/ 0.06| (2015)007/ 0.05| (2016)006/ 0.05| (2017)008/ 0.06| (2018)009/ 0.06| (2019)002/ 0.06| (2020)007/ 0.12| (2021)006/ 0.11| (2022)008/ 0.11| (2023)013/ 0.13| (2024)009/ 0.15| (2025)015/ 0.17| (2026)017/ 0.20| (2027)014/ 0.16| (2028)017/ 0.16| (2029)018/ 0.19| (2030)011/ 0.17| (2031)018/ 0.17| (2032)014/ 0.19| (2033)020/ 0.21| (2034)019/ 0.21| (2035)024/ 0.19| (2036)019/ 0.18| (2037)021/ 0.19| (2038)017/ 0.18| (2039)020/ 0.18| (2040)022/ 0.17| (2041)013/ 0.15| (2042)013/ 0.15| (2043)010/ 0.14| (2044)016/ 0.13| (2045)020/ 0.14| (2046)013/ 0.13| (2047)012/ 0.14| (2048)014/ 0.14| (2049)011/ 0.12| (2050)014/ 0.09| (2051)010/ 0.10| (2052)013/ 0.08| (2053)009/ 0.10| (2054)009/ 0.10| (2055)005/ 0.09| (2056)010/ 0.10| (2057)011/ 0.10| (2058)007/ 0.08| (2059)011/ 0.09| (2060)005/ 0.09| (2061)008/ 0.09| (2062)008/ 0.09| (2063)005/ 0.07| (2064)006/ 0.10| (2065)011/ 0.07| (2066)007/ 0.08| (2067)005/ 0.07| (2068)007/ 0.06| (2069)009/ 0.08| (2070)008/ 0.07| (2071)011/ 0.07| (2072)002/ 0.08| (2073)009/ 0.06| (2074)005/ 0.08| (2075)007/ 0.09| (2076)008/ 0.10| (2077)005/ 0.09| (2078)011/ 0.08| (2079)013/ 0.08| (2080)010/ 0.07| (2081)008/ 0.09| (2082)009/ 0.06| (2083)007/ 0.06| (2084)003/ 0.07| (2085)009/ 0.08| (2086)010/ 0.08| (2087)010/ 0.08| (2088)006/ 0.08| (2089)007/ 0.08| (2090)008/ 0.07| (2091)010/ 0.07| (2092)004/ 0.06| (2093)007/ 0.05| (2094)005/ 0.10| (2095)007/ 0.06| (2096)007/ 0.07| (2097)006/ 0.07| (2098)009/ 0.09| (2099)006/ 0.06| (2100)010/ 0.06| (2101)005/ 0.05| (2102)008/ 0.06| (2103)009/ 0.06| (2104)006/ 0.06| (2105)006/ 0.07| (2106)011/ 0.07| (2107)004/ 0.07| (2108)007/ 0.07| (2109)007/ 0.07| (2110)006/ 0.06| (2111)008/ 0.06| (2112)004/ 0.06| (2113)004/ 0.05| (2114)004/ 0.06| (2115)003/ 0.05| (2116)004/ 0.05| (2117)004/ 0.06| (2118)004/ 0.07| (2119)011/ 0.08| (2120)008/ 0.07| (2121)008/ 0.16| (2122)011/ 0.14| (2123)008/ 0.12| (2124)014/ 0.15| (2125)018/ 0.17| (2126)020/ 0.15| (2127)015/ 0.15| (2128)017/ 0.16| (2129)012/ 0.16| (2130)017/ 0.15| (2131)020/ 0.18| (2132)012/ 0.16| (2133)021/ 0.18| (2134)019/ 0.20| (2135)013/ 0.20| (2136)017/ 0.15| (2137)013/ 0.13| (2138)007/ 0.15| (2139)020/ 0.17| (2140)019/ 0.19| (2141)022/ 0.17| (2142)020/ 0.13| (2143)010/ 0.13| (2144)012/ 0.15| (2145)015/ 0.15| (2146)015/ 0.11| (2147)013/ 0.10| (2148)015/ 0.14| (2149)011/ 0.12| (2150)020/ 0.15| (2151)013/ 0.12| (2152)012/ 0.10| (2153)006/ 0.11| (2154)013/ 0.09| (2155)010/ 0.10| (2156)010/ 0.10| (2157)007/ 0.10| (2158)012/ 0.11| (2159)007/ 0.08| (2160)005/ 0.07| (2161)009/ 0.09| (2162)011/ 0.09| (2163)006/ 0.09| (2164)010/ 0.07| (2165)009/ 0.08| (2166)008/ 0.06| (2167)009/ 0.08| (2168)003/ 0.07| (2169)008/ 0.08| (2170)005/ 0.08| (2171)008/ 0.09| (2172)007/ 0.09| (2173)012/ 0.09| (2174)008/ 0.06| (2175)006/ 0.07| (2176)008/ 0.08| (2177)009/ 0.10| (2178)012/ 0.08| (2179)009/ 0.07| (2180)005/ 0.08| (2181)005/ 0.07| (2182)013/ 0.08| (2183)006/ 0.07| (2184)007/ 0.05| (2185)005/ 0.06| (2186)007/ 0.08| (2187)009/ 0.07| (2188)005/ 0.05| (2189)003/ 0.06| (2190)005/ 0.06| (2191)006/ 0.07| (2192)009/ 0.06| (2193)004/ 0.08| (2194)008/ 0.06| (2195)009/ 0.07| (2196)005/ 0.07| (2197)010/ 0.07| (2198)010/ 0.08| (2199)006/ 0.08| (2200)007/ 0.06| (2201)008/ 0.06| (2202)006/ 0.05| (2203)009/ 0.05| (2204)004/ 0.07| (2205)013/ 0.06| (2206)005/ 0.07| (2207)008/ 0.06| (2208)006/ 0.08| (2209)005/ 0.08| (2210)008/ 0.08| (2211)010/ 0.10| (2212)013/ 0.08| (2213)011/ 0.07| (2214)005/ 0.06| (2215)008/ 0.06| (2216)008/ 0.06| (2217)003/ 0.04| (2218)004/ 0.05| (2219)008/ 0.05| (2220)003/ 0.06| (2221)006/ 0.05| (2222)010/ 0.11| (2223)011/ 0.12| (2224)013/ 0.10| (2225)010/ 0.10| (2226)012/ 0.12| (2227)013/ 0.12| (2228)008/ 0.13| (2229)007/ 0.12| (2230)012/ 0.16| (2231)023/ 0.17| (2232)013/ 0.18| (2233)017/ 0.16| (2234)013/ 0.20| (2235)014/ 0.17| (2236)016/ 0.17| (2237)013/ 0.15| (2238)016/ 0.18| (2239)014/ 0.16| (2240)017/ 0.15| (2241)015/ 0.17| (2242)013/ 0.14| (2243)016/ 0.13| (2244)013/ 0.12| (2245)008/ 0.16| (2246)016/ 0.16| (2247)020/ 0.17| (2248)017/ 0.12| (2249)011/ 0.13| (2250)011/ 0.12| (2251)006/ 0.13| (2252)013/ 0.12| (2253)010/ 0.12| (2254)011/ 0.16| (2255)018/ 0.14| (2256)009/ 0.13| (2257)019/ 0.13| (2258)011/ 0.13| (2259)021/ 0.12| (2260)012/ 0.12| (2261)010/ 0.11| (2262)011/ 0.12| (2263)016/ 0.11| (2264)015/ 0.13| (2265)012/ 0.08| (2266)010/ 0.08| (2267)010/ 0.11| (2268)014/ 0.10| (2269)015/ 0.10| (2270)009/ 0.09| (2271)013/ 0.10| (2272)012/ 0.09| (2273)012/ 0.11| (2274)010/ 0.09| (2275)010/ 0.08| (2276)009/ 0.06| (2277)006/ 0.09| (2278)004/ 0.09| (2279)014/ 0.12| (2280)008/ 0.09| (2281)008/ 0.08| (2282)011/ 0.09| (2283)009/ 0.09| (2284)009/ 0.10| (2285)015/ 0.09| (2286)008/ 0.09| (2287)011/ 0.10| (2288)013/ 0.07| (2289)005/ 0.07| (2290)010/ 0.06| (2291)005/ 0.08| (2292)006/ 0.06| (2293)010/ 0.06| (2294)009/ 0.07| (2295)010/ 0.07| (2296)007/ 0.10| (2297)009/ 0.08| (2298)008/ 0.06| (2299)005/ 0.06| (2300)005/ 0.06| (2301)007/ 0.06| (2302)007/ 0.07| (2303)003/ 0.07| (2304)006/ 0.07| (2305)004/ 0.06| (2306)006/ 0.08| (2307)010/ 0.08| (2308)007/ 0.07| (2309)009/ 0.09| (2310)013/ 0.07| (2311)009/ 0.07| (2312)013/ 0.09| (2313)005/ 0.07| (2314)009/ 0.07| (2315)009/ 0.06| (2316)011/ 0.07| (2317)007/ 0.04| (2318)005/ 0.06| (2319)007/ 0.07| (2320)009/ 0.06| (2321)006/ 0.08| (2322)004/ 0.05| (2323)003/ 0.09| (2324)012/ 0.10| (2325)014/ 0.09| (2326)007/ 0.10| (2327)020/ 0.12| (2328)013/ 0.13| (2329)015/ 0.10| (2330)013/ 0.12| (2331)009/ 0.14| (2332)014/ 0.12| (2333)013/ 0.18| (2334)019/ 0.17| (2335)016/ 0.20| (2336)012/ 0.18| (2337)015/ 0.19| (2338)023/ 0.16| (2339)007/ 0.22| (2340)024/ 0.19| (2341)016/ 0.21| (2342)024/ 0.20| (2343)014/ 0.16| (2344)008/ 0.17| (2345)021/ 0.18| (2346)017/ 0.19| (2347)023/ 0.17| (2348)015/ 0.20| (2349)019/ 0.15| (2350)012/ 0.14| (2351)019/ 0.17| (2352)010/ 0.12| (2353)018/ 0.15| (2354)010/ 0.13| (2355)017/ 0.15| (2356)017/ 0.16| (2357)024/ 0.12| (2358)010/ 0.11| (2359)012/ 0.11| (2360)012/ 0.09| (2361)009/ 0.08| (2362)006/ 0.09| (2363)013/ 0.10| (2364)011/ 0.09| (2365)007/ 0.11| (2366)008/ 0.09| (2367)010/ 0.10| (2368)010/ 0.08| (2369)010/ 0.09| (2370)012/ 0.08| (2371)008/ 0.07| (2372)006/ 0.08| (2373)006/ 0.07| (2374)014/ 0.10| (2375)009/ 0.10| (2376)017/ 0.09| (2377)006/ 0.08| (2378)005/ 0.06| (2379)003/ 0.07| (2380)006/ 0.09| (2381)004/ 0.06| (2382)006/ 0.07| (2383)007/ 0.09| (2384)012/ 0.07| (2385)012/ 0.09| (2386)010/ 0.08| (2387)007/ 0.10| (2388)009/ 0.11| (2389)005/ 0.08| (2390)009/ 0.09| (2391)013/ 0.08| (2392)006/ 0.07| (2393)005/ 0.08| (2394)006/ 0.09| (2395)014/ 0.06| (2396)006/ 0.07| (2397)009/ 0.06| (2398)001/ 0.08| (2399)012/ 0.07| (2400)005/ 0.06| (2401)004/ 0.06| (2402)006/ 0.07| (2403)010/ 0.05| (2404)006/ 0.05| (2405)006/ 0.06| (2406)004/ 0.04| (2407)005/ 0.06| (2408)010/ 0.06| (2409)003/ 0.05| (2410)002/ 0.05| (2411)005/ 0.04| (2412)001/ 0.05| (2413)004/ 0.06| (2414)001/ 0.06| (2415)010/ 0.07| (2416)002/ 0.05| (2417)003/ 0.07| (2418)009/ 0.05| (2419)004/ 0.05| (2420)007/ 0.05| (2421)006/ 0.07| (2422)001/ 0.07| (2423)012/ 0.07| (2424)007/ 0.06| (2425)007/ 0.10| (2426)008/ 0.07| (2427)007/ 0.06| (2428)004/ 0.10| (2429)012/ 0.11| (2430)013/ 0.10| (2431)010/ 0.12| (2432)008/ 0.14| (2433)014/ 0.12| (2434)011/ 0.13| (2435)005/ 0.13| (2436)015/ 0.13| (2437)010/ 0.17| (2438)005/ 0.15| (2439)014/ 0.14| (2440)010/ 0.16| (2441)008/ 0.14| (2442)012/ 0.15| (2443)009/ 0.17| (2444)018/ 0.12| (2445)013/ 0.16| (2446)015/ 0.14| (2447)011/ 0.15| (2448)013/ 0.15| (2449)011/ 0.17| (2450)017/ 0.16| (2451)013/ 0.14| (2452)014/ 0.14| (2453)014/ 0.14| (2454)015/ 0.12| (2455)014/ 0.13| (2456)013/ 0.12| (2457)010/ 0.12| (2458)011/ 0.10| (2459)011/ 0.09| (2460)007/ 0.13| (2461)013/ 0.12| (2462)008/ 0.10| (2463)011/ 0.11| (2464)008/ 0.10| (2465)007/ 0.11| (2466)010/ 0.11| (2467)017/ 0.10| (2468)007/ 0.08| (2469)011/ 0.07| (2470)007/ 0.07| (2471)007/ 0.08| (2472)007/ 0.08| (2473)008/ 0.06| (2474)005/ 0.07| (2475)006/ 0.08| (2476)004/ 0.08| (2477)008/ 0.08| (2478)006/ 0.09| (2479)007/ 0.08| (2480)010/ 0.08| (2481)009/ 0.10| (2482)010/ 0.08| (2483)006/ 0.07| (2484)005/ 0.06| (2485)005/ 0.05| (2486)005/ 0.07| (2487)008/ 0.08| (2488)008/ 0.09| (2489)007/ 0.07| (2490)009/ 0.06| (2491)005/ 0.06| (2492)005/ 0.06| (2493)006/ 0.07| (2494)007/ 0.07| (2495)008/ 0.08| (2496)006/ 0.08| (2497)008/ 0.07| (2498)006/ 0.08| (2499)004/ 0.07| (2500)007/ 0.07| (2501)005/ 0.07| (2502)010/ 0.06| (2503)010/ 0.11| (2504)006/ 0.07| (2505)006/ 0.09| (2506)011/ 0.10| (2507)014/ 0.11| (2508)011/ 0.10| (2509)009/ 0.09| (2510)014/ 0.10| (2511)013/ 0.12| (2512)013/ 0.10| (2513)009/ 0.07| (2514)003/ 0.07| (2515)007/ 0.06| (2516)007/ 0.07| (2517)008/ 0.06| (2518)006/ 0.06| (2519)005/ 0.07| (2520)012/ 0.07| (2521)007/ 0.09| (2522)007/ 0.07| (2523)010/ 0.07| (2524)014/ 0.08| (2525)005/ 0.07| (2526)012/ 0.11| (2527)006/ 0.09| (2528)008/ 0.09| (2529)005/ 0.10| (2530)013/ 0.11| (2531)011/ 0.12| (2532)007/ 0.14| (2533)016/ 0.16| (2534)015/ 0.16| (2535)007/ 0.14| (2536)015/ 0.17| (2537)012/ 0.16| (2538)016/ 0.21| (2539)019/ 0.20| (2540)017/ 0.18| (2541)009/ 0.17| (2542)015/ 0.19| (2543)022/ 0.23| (2544)024/ 0.21| (2545)019/ 0.17| (2546)013/ 0.18| (2547)025/ 0.17| (2548)022/ 0.18| (2549)016/ 0.18| (2550)015/ 0.19| (2551)014/ 0.18| (2552)014/ 0.13| (2553)017/ 0.15| (2554)011/ 0.15| (2555)014/ 0.15| (2556)021/ 0.13| (2557)010/ 0.11| (2558)012/ 0.13| (2559)012/ 0.09| (2560)012/ 0.10| (2561)004/ 0.12| (2562)003/ 0.14| (2563)013/ 0.13| (2564)009/ 0.12| (2565)007/ 0.13| (2566)009/ 0.14| (2567)013/ 0.14| (2568)017/ 0.11| (2569)010/ 0.11| (2570)015/ 0.11| (2571)008/ 0.12| (2572)017/ 0.12| (2573)012/ 0.11| (2574)012/ 0.14| (2575)015/ 0.09| (2576)007/ 0.08| (2577)011/ 0.11| (2578)009/ 0.09| (2579)010/ 0.11| (2580)009/ 0.11| (2581)010/ 0.10| (2582)014/ 0.10| (2583)008/ 0.09| (2584)009/ 0.09| (2585)004/ 0.09| (2586)012/ 0.12| (2587)011/ 0.10| (2588)010/ 0.12| (2589)011/ 0.12| (2590)009/ 0.10| (2591)011/ 0.09| (2592)012/ 0.09| (2593)009/ 0.07| (2594)011/ 0.09| (2595)008/ 0.09| (2596)010/ 0.08| (2597)008/ 0.10| (2598)014/ 0.09| (2599)009/ 0.10| (2600)009/ 0.10| (2601)014/ 0.08| (2602)007/ 0.09| (2603)008/ 0.07| (2604)009/ 0.06| (2605)003/ 0.06| (2606)009/ 0.07| (2607)005/ 0.08| (2608)006/ 0.08| (2609)006/ 0.08| (2610)004/ 0.07| (2611)009/ 0.06| (2612)001/ 0.06| (2613)007/ 0.06| (2614)005/ 0.06| (2615)005/ 0.06| (2616)007/ 0.08| (2617)009/ 0.06| (2618)005/ 0.07| (2619)004/ 0.05| (2620)007/ 0.09| (2621)003/ 0.06| (2622)008/ 0.09| (2623)007/ 0.07| (2624)001/ 0.07| (2625)008/ 0.05| (2626)008/ 0.05| (2627)001/ 0.10| (2628)008/ 0.08| (2629)003/ 0.07| (2630)010/ 0.09| (2631)010/ 0.11| (2632)006/ 0.10| (2633)006/ 0.12| (2634)010/ 0.16| (2635)012/ 0.15| (2636)012/ 0.14| (2637)009/ 0.17| (2638)009/ 0.18| (2639)016/ 0.21| (2640)023/ 0.19| (2641)018/ 0.16| (2642)020/ 0.20| (2643)013/ 0.16| (2644)017/ 0.22| (2645)010/ 0.16| (2646)020/ 0.18| (2647)007/ 0.16| (2648)018/ 0.14| (2649)011/ 0.18| (2650)016/ 0.17| (2651)017/ 0.24| (2652)019/ 0.20| (2653)023/ 0.16| (2654)021/ 0.15| (2655)017/ 0.16| (2656)009/ 0.17| (2657)021/ 0.13| (2658)010/ 0.12| (2659)010/ 0.14| (2660)013/ 0.12| (2661)012/ 0.14| (2662)015/ 0.12| (2663)010/ 0.14| (2664)014/ 0.12| (2665)009/ 0.09| (2666)014/ 0.11| (2667)009/ 0.12| (2668)011/ 0.11| (2669)008/ 0.11| (2670)012/ 0.10| (2671)008/ 0.11| (2672)011/ 0.11| (2673)008/ 0.10| (2674)014/ 0.10| (2675)015/ 0.11| (2676)007/ 0.09| (2677)007/ 0.09| (2678)008/ 0.10| (2679)009/ 0.09| (2680)008/ 0.10| (2681)010/ 0.10| (2682)011/ 0.10| (2683)012/ 0.11| (2684)004/ 0.09| (2685)012/ 0.09| (2686)012/ 0.10| (2687)015/ 0.10| (2688)010/ 0.07| (2689)010/ 0.11| (2690)009/ 0.11| (2691)015/ 0.11| (2692)012/ 0.10| (2693)011/ 0.09| (2694)010/ 0.09| (2695)008/ 0.06| (2696)004/ 0.08| (2697)006/ 0.08| (2698)010/ 0.09| (2699)011/ 0.08| (2700)009/ 0.11| (2701)009/ 0.09| (2702)003/ 0.05| (2703)009/ 0.06| (2704)005/ 0.07| (2705)004/ 0.08| (2706)005/ 0.08| (2707)010/ 0.08| (2708)005/ 0.08| (2709)007/ 0.08| (2710)004/ 0.09| (2711)010/ 0.08| (2712)009/ 0.08| (2713)007/ 0.08| (2714)008/ 0.08| (2715)013/ 0.08| (2716)008/ 0.11| (2717)008/ 0.10| (2718)007/ 0.08| (2719)011/ 0.09| (2720)004/ 0.07| (2721)011/ 0.09| (2722)009/ 0.06| (2723)010/ 0.10| (2724)012/ 0.08| (2725)007/ 0.06| (2726)009/ 0.07| (2727)004/ 0.06| (2728)007/ 0.07| (2729)007/ 0.07| (2730)007/ 0.07| (2731)009/ 0.10| (2732)007/ 0.11| (2733)007/ 0.12| (2734)009/ 0.12| (2735)006/ 0.12| (2736)008/ 0.12| (2737)007/ 0.13| (2738)013/ 0.16| (2739)015/ 0.20| (2740)024/ 0.23| (2741)009/ 0.19| (2742)027/ 0.21| (2743)020/ 0.20| (2744)012/ 0.19| (2745)020/ 0.21| (2746)019/ 0.18| (2747)016/ 0.17| (2748)013/ 0.18| (2749)015/ 0.16| (2750)008/ 0.17| (2751)020/ 0.19| (2752)015/ 0.20| (2753)018/ 0.19| (2754)022/ 0.19| (2755)015/ 0.19| (2756)012/ 0.16| (2757)015/ 0.19| (2758)018/ 0.21| (2759)021/ 0.23| (2760)021/ 0.16| (2761)018/ 0.15| (2762)018/ 0.15| (2763)017/ 0.15| (2764)018/ 0.17| (2765)016/ 0.17| (2766)014/ 0.11| (2767)010/ 0.14| (2768)009/ 0.11| (2769)012/ 0.12| (2770)012/ 0.13| (2771)016/ 0.14| (2772)016/ 0.16| (2773)013/ 0.12| (2774)016/ 0.13| (2775)008/ 0.08| (2776)012/ 0.11| (2777)009/ 0.10| (2778)012/ 0.09| (2779)008/ 0.09| (2780)011/ 0.12| (2781)013/ 0.09| (2782)005/ 0.08| (2783)011/ 0.09| (2784)009/ 0.10| (2785)011/ 0.09| (2786)008/ 0.07| (2787)006/ 0.08| (2788)007/ 0.16| (2789)007/ 0.16| (2790)012/ 0.42| (2791)032/ 0.22| (2792)019/ 0.13| (2793)016/ 0.11| (2794)015/ 0.09| (2795)012/ 0.10| (2796)006/ 0.09| (2797)014/ 0.08| (2798)008/ 0.08| (2799)012/ 0.10| (2800)008/ 0.06| (2801)007/ 0.10| (2802)007/ 0.10| (2803)012/ 0.09| (2804)010/ 0.08| (2805)007/ 0.09| (2806)013/ 0.10| (2807)010/ 0.08| (2808)007/ 0.10| (2809)014/ 0.10| (2810)009/ 0.08| (2811)011/ 0.10| (2812)010/ 0.08| (2813)011/ 0.09| (2814)011/ 0.07| (2815)006/ 0.09| (2816)010/ 0.09| (2817)011/ 0.09| (2818)007/ 0.11| (2819)004/ 0.09| (2820)005/ 0.10| (2821)013/ 0.08| (2822)010/ 0.08| (2823)010/ 0.07| (2824)008/ 0.08| (2825)005/ 0.05| (2826)008/ 0.07| (2827)004/ 0.08| (2828)012/ 0.07| (2829)009/ 0.11| (2830)007/ 0.09| (2831)012/ 0.08| (2832)008/ 0.08| (2833)004/ 0.08| (2834)009/ 0.10| (2835)009/ 0.10| (2836)009/ 0.10| (2837)015/ 0.12| (2838)011/ 0.14| (2839)013/ 0.18| (2840)012/ 0.22| (2841)016/ 0.18| (2842)019/ 0.20| (2843)017/ 0.34| (2844)021/ 0.56| (2845)037/ 0.44| (2846)031/ 0.28| (2847)025/ 0.21| (2848)026/ 0.19| (2849)019/ 0.23| (2850)020/ 0.16| (2851)019/ 0.19| (2852)014/ 0.18| (2853)022/ 0.21| (2854)017/ 0.20| (2855)017/ 0.13| (2856)018/ 0.18| (2857)011/ 0.14| (2858)012/ 0.11| (2859)008/ 0.14| (2860)017/ 0.15| (2861)011/ 0.14| (2862)009/ 0.13| (2863)017/ 0.14| (2864)015/ 0.18| (2865)019/ 0.16| (2866)008/ 0.12| (2867)015/ 0.11| (2868)012/ 0.13| (2869)011/ 0.11| (2870)014/ 0.12| (2871)010/ 0.15| (2872)015/ 0.12| (2873)016/ 0.15| (2874)009/ 0.11| (2875)007/ 0.12| (2876)019/ 0.13| (2877)013/ 0.10| (2878)010/ 0.13| (2879)010/ 0.10| (2880)012/ 0.11| (2881)010/ 0.11| (2882)008/ 0.09| (2883)009/ 0.09| (2884)006/ 0.08| (2885)007/ 0.08| (2886)012/ 0.11| (2887)009/ 0.13| (2888)010/ 0.09| (2889)009/ 0.09| (2890)008/ 0.10| (2891)011/ 0.10| (2892)013/ 0.10| (2893)013/ 0.10| (2894)009/ 0.08| (2895)009/ 0.08| (2896)010/ 0.11| (2897)005/ 0.10| (2898)009/ 0.09| (2899)009/ 0.08| (2900)006/ 0.08| (2901)010/ 0.07| (2902)015/ 0.09| (2903)004/ 0.09| (2904)011/ 0.10| (2905)007/ 0.09| (2906)012/ 0.11| (2907)007/ 0.10| (2908)005/ 0.08| (2909)012/ 0.11| (2910)008/ 0.09| (2911)007/ 0.08| (2912)010/ 0.10| (2913)010/ 0.08| (2914)009/ 0.11| (2915)014/ 0.09| (2916)007/ 0.10| (2917)013/ 0.08| (2918)009/ 0.17| (2919)011/ 0.11| (2920)009/ 0.13| (2921)017/ 0.13| (2922)016/ 0.11| (2923)011/ 0.09| (2924)013/ 0.09| (2925)009/ 0.08| (2926)009/ 0.09| (2927)009/ 0.06| (2928)006/ 0.06| (2929)010/ 0.07| (2930)004/ 0.09| (2931)008/ 0.08| (2932)005/ 0.09| (2933)005/ 0.09| (2934)012/ 0.11| (2935)015/ 0.11| (2936)014/ 0.13| (2937)011/ 0.13| (2938)010/ 0.14| (2939)013/ 0.13| (2940)009/ 0.14| (2941)011/ 0.14| (2942)012/ 0.16| (2943)018/ 0.18| (2944)010/ 0.16| (2945)011/ 0.16| (2946)018/ 0.21| (2947)012/ 0.26| (2948)019/ 0.21| (2949)023/ 0.23| (2950)024/ 0.23| (2951)033/ 0.30| (2952)021/ 0.23| (2953)022/ 0.24| (2954)025/ 0.24| (2955)016/ 0.24| (2956)032/ 0.21| (2957)023/ 0.21| (2958)022/ 0.19| (2959)018/ 0.23| (2960)012/ 0.17| (2961)015/ 0.19| (2962)024/ 0.20| (2963)021/ 0.17| (2964)012/ 0.15| (2965)015/ 0.12| (2966)016/ 0.13| (2967)009/ 0.13| (2968)015/ 0.12| (2969)012/ 0.14| (2970)014/ 0.13| (2971)013/ 0.16| (2972)014/ 0.14| (2973)012/ 0.13| (2974)008/ 0.12| (2975)014/ 0.13| (2976)009/ 0.11| (2977)005/ 0.12| (2978)014/ 0.12| (2979)013/ 0.10| (2980)009/ 0.11| (2981)012/ 0.11| (2982)007/ 0.10| (2983)006/ 0.12| (2984)013/ 0.11| (2985)011/ 0.09| (2986)008/ 0.08| (2987)010/ 0.08| (2988)007/ 0.09| (2989)005/ 0.07| (2990)010/ 0.07| (2991)005/ 0.09| (2992)008/ 0.07| (2993)007/ 0.08| (2994)009/ 0.08| (2995)003/ 0.07| (2996)004/ 0.12| (2997)008/ 0.09| (2998)016/ 0.11| (2999)008/ 0.11| (3000)013/ 0.09| (3001)006/ 0.07| (3002)011/ 0.08| (3003)005/ 0.08| (3004)007/ 0.07| (3005)004/ 0.07| (3006)008/ 0.08| (3007)004/ 0.07| (3008)008/ 0.08| (3009)004/ 0.09| (3010)005/ 0.08| (3011)005/ 0.10| (3012)008/ 0.09| (3013)011/ 0.12| (3014)017/ 0.10| (3015)015/ 0.12| (3016)010/ 0.10| (3017)010/ 0.09| (3018)010/ 0.09| (3019)006/ 0.08| (3020)008/ 0.07| (3021)010/ 0.08| (3022)008/ 0.07| (3023)005/ 0.08| (3024)006/ 0.07| (3025)002/ 0.07| (3026)004/ 0.06| (3027)004/ 0.09| (3028)014/ 0.10| (3029)007/ 0.09| (3030)009/ 0.10| (3031)007/ 0.10| (3032)011/ 0.09| (3033)011/ 0.09| (3034)010/ 0.09| (3035)009/ 0.08| (3036)006/ 0.12| (3037)010/ 0.12| (3038)007/ 0.13| (3039)013/ 0.12| (3040)012/ 0.13| (3041)011/ 0.15| (3042)015/ 0.18| (3043)013/ 0.14| (3044)008/ 0.17| (3045)017/ 0.17| (3046)015/ 0.16| (3047)013/ 0.22| (3048)018/ 0.19| (3049)020/ 0.17| (3050)010/ 0.17| (3051)021/ 0.19| (3052)023/ 0.18| (3053)020/ 0.15| (3054)010/ 0.17| (3055)014/ 0.16| (3056)018/ 0.18| (3057)014/ 0.15| (3058)018/ 0.14| (3059)014/ 0.15| (3060)017/ 0.17| (3061)016/ 0.17| (3062)016/ 0.20| (3063)014/ 0.14| (3064)014/ 0.11| (3065)012/ 0.12| (3066)013/ 0.13| (3067)020/ 0.15| (3068)014/ 0.15| (3069)011/ 0.12| (3070)012/ 0.13| (3071)015/ 0.12| (3072)015/ 0.17| (3073)014/ 0.14| (3074)010/ 0.12| (3075)011/ 0.13| (3076)022/ 0.13| (3077)016/ 0.12| (3078)012/ 0.10| (3079)012/ 0.12| (3080)009/ 0.11| (3081)011/ 0.11| (3082)014/ 0.14| (3083)012/ 0.11| (3084)003/ 0.10| (3085)006/ 0.09| (3086)005/ 0.10| (3087)010/ 0.10| (3088)013/ 0.10| (3089)010/ 0.14| (3090)016/ 0.12| (3091)015/ 0.11| (3092)013/ 0.10| (3093)010/ 0.09| (3094)007/ 0.09| (3095)007/ 0.10| (3096)012/ 0.09| (3097)012/ 0.10| (3098)010/ 0.09| (3099)009/ 0.12| (3100)010/ 0.10| (3101)012/ 0.12| (3102)012/ 0.11| (3103)006/ 0.12| (3104)016/ 0.17| (3105)019/ 0.13| (3106)017/ 0.14| (3107)017/ 0.13| (3108)011/ 0.10| (3109)012/ 0.11| (3110)007/ 0.09| (3111)015/ 0.10| (3112)014/ 0.10| (3113)010/ 0.10| (3114)016/ 0.08| (3115)008/ 0.08| (3116)009/ 0.06| (3117)006/ 0.08| (3118)006/ 0.09| (3119)004/ 0.07| (3120)006/ 0.08| (3121)013/ 0.10| (3122)007/ 0.08| (3123)009/ 0.09| (3124)005/ 0.09| (3125)009/ 0.09| (3126)008/ 0.07| (3127)007/ 0.08| (3128)009/ 0.11| (3129)013/ 0.10| (3130)009/ 0.09| (3131)013/ 0.09| (3132)005/ 0.09| (3133)012/ 0.10| (3134)006/ 0.10| (3135)014/ 0.11| (3136)011/ 0.11| (3137)008/ 0.11| (3138)017/ 0.14| (3139)005/ 0.11| (3140)016/ 0.13| (3141)012/ 0.11| (3142)008/ 0.13| (3143)013/ 0.15| (3144)018/ 0.17| (3145)009/ 0.16| (3146)017/ 0.16| (3147)018/ 0.16| (3148)008/ 0.15| (3149)009/ 0.14| (3150)009/ 0.16| (3151)013/ 0.18| (3152)018/ 0.21| (3153)016/ 0.21| (3154)021/ 0.23| (3155)018/ 0.21| (3156)024/ 0.22| (3157)021/ 0.19| (3158)020/ 0.18| (3159)016/ 0.19| (3160)016/ 0.17| (3161)016/ 0.19| (3162)023/ 0.16| (3163)015/ 0.20| (3164)019/ 0.21| (3165)022/ 0.18| (3166)024/ 0.17| (3167)019/ 0.19| (3168)016/ 0.25| (3169)015/ 0.18| (3170)021/ 0.18| (3171)011/ 0.12| (3172)012/ 0.14| (3173)018/ 0.16| (3174)008/ 0.17| (3175)019/ 0.15| (3176)014/ 0.14| (3177)017/ 0.16| (3178)012/ 0.12| (3179)010/ 0.15| (3180)018/ 0.16| (3181)009/ 0.14| (3182)018/ 0.13| (3183)012/ 0.14| (3184)014/ 0.16| (3185)014/ 0.17| (3186)020/ 0.17| (3187)021/ 0.14| (3188)010/ 0.13| (3189)012/ 0.09| (3190)008/ 0.10| (3191)010/ 0.09| (3192)010/ 0.08| (3193)006/ 0.09| (3194)003/ 0.07| (3195)006/ 0.09| (3196)008/ 0.08| (3197)011/ 0.10| (3198)010/ 0.11| (3199)006/ 0.09| (3200)011/ 0.11| (3201)012/ 0.11| (3202)008/ 0.10| (3203)009/ 0.10| (3204)013/ 0.13| (3205)014/ 0.12| (3206)014/ 0.11| (3207)008/ 0.11| (3208)017/ 0.13| (3209)012/ 0.12| (3210)009/ 0.10| (3211)012/ 0.11| (3212)016/ 0.11| (3213)009/ 0.12| (3214)010/ 0.12| (3215)013/ 0.09| (3216)012/ 0.11| (3217)011/ 0.12| (3218)006/ 0.08| (3219)010/ 0.08| (3220)007/ 0.10| (3221)012/ 0.08| (3222)005/ 0.07| (3223)005/ 0.08| (3224)008/ 0.09| (3225)013/ 0.11| (3226)008/ 0.10| (3227)008/ 0.09| (3228)008/ 0.08| (3229)013/ 0.09| (3230)009/ 0.08| (3231)009/ 0.08| (3232)008/ 0.05| (3233)006/ 0.05| (3234)005/ 0.06| (3235)003/ 0.06| (3236)007/ 0.08| (3237)003/ 0.07| (3238)011/ 0.11| (3239)006/ 0.08| (3240)008/ 0.10| (3241)004/ 0.09| (3242)007/ 0.13| (3243)010/ 0.15| (3244)011/ 0.12| (3245)011/ 0.14| (3246)006/ 0.15| (3247)012/ 0.15| (3248)012/ 0.16| (3249)012/ 0.18| (3250)021/ 0.19| (3251)018/ 0.18| (3252)018/ 0.16| (3253)019/ 0.21| (3254)017/ 0.21| (3255)015/ 0.17| (3256)021/ 0.21| (3257)012/ 0.17| (3258)018/ 0.17| (3259)021/ 0.21| (3260)023/ 0.20| (3261)022/ 0.20| (3262)019/ 0.21| (3263)015/ 0.20| (3264)021/ 0.19| (3265)016/ 0.16| (3266)014/ 0.16| (3267)012/ 0.15| (3268)009/ 0.17| (3269)015/ 0.18| (3270)016/ 0.21| (3271)020/ 0.20| (3272)017/ 0.17| (3273)013/ 0.15| (3274)019/ 0.17| (3275)017/ 0.14| (3276)014/ 0.17| (3277)011/ 0.15| (3278)012/ 0.17| (3279)021/ 0.12| (3280)008/ 0.11| (3281)009/ 0.12| (3282)006/ 0.12| (3283)012/ 0.13| (3284)011/ 0.15| (3285)007/ 0.12| (3286)013/ 0.14| (3287)011/ 0.14| (3288)013/ 0.13| (3289)018/ 0.12| (3290)015/ 0.11| (3291)007/ 0.12| (3292)015/ 0.14| (3293)010/ 0.12| (3294)004/ 0.12| (3295)010/ 0.12| (3296)014/ 0.14| (3297)022/ 0.17| (3298)011/ 0.11| (3299)009/ 0.10| (3300)011/ 0.11| (3301)007/ 0.12| (3302)008/ 0.11| (3303)014/ 0.11| (3304)011/ 0.11| (3305)009/ 0.10| (3306)010/ 0.11| (3307)013/ 0.12| (3308)008/ 0.11| (3309)014/ 0.12| (3310)007/ 0.14| (3311)010/ 0.11| (3312)012/ 0.11| (3313)014/ 0.14| (3314)013/ 0.12| (3315)008/ 0.10| (3316)014/ 0.11| (3317)009/ 0.10| (3318)015/ 0.12| (3319)012/ 0.12| (3320)013/ 0.11| (3321)006/ 0.12| (3322)010/ 0.11| (3323)012/ 0.11| (3324)012/ 0.10| (3325)011/ 0.12| (3326)015/ 0.13| (3327)010/ 0.11| (3328)008/ 0.09| (3329)013/ 0.08| (3330)011/ 0.12| (3331)005/ 0.10| (3332)004/ 0.07| (3333)012/ 0.09| (3334)008/ 0.10| (3335)011/ 0.09| (3336)006/ 0.09| (3337)009/ 0.09| (3338)006/ 0.12| (3339)010/ 0.14| (3340)012/ 0.12| (3341)010/ 0.12| (3342)011/ 0.13| (3343)011/ 0.14| (3344)021/ 0.15| (3345)007/ 0.14| (3346)020/ 0.19| (3347)010/ 0.19| (3348)010/ 0.17| (3349)016/ 0.23| (3350)018/ 0.20| (3351)022/ 0.24| (3352)023/ 0.20| (3353)019/ 0.21| (3354)018/ 0.22| (3355)026/ 0.23| (3356)015/ 0.19| (3357)022/ 0.24| (3358)024/ 0.19| (3359)026/ 0.21| (3360)016/ 0.18| (3361)026/ 0.21| (3362)016/ 0.17| (3363)011/ 0.16| (3364)013/ 0.18| (3365)016/ 0.17| (3366)011/ 0.18| (3367)014/ 0.15| (3368)009/ 0.14| (3369)012/ 0.15| (3370)009/ 0.18| (3371)014/ 0.21| (3372)020/ 0.19| (3373)022/ 0.18| (3374)016/ 0.15| (3375)018/ 0.18| (3376)011/ 0.14| (3377)014/ 0.17| (3378)012/ 0.17| (3379)014/ 0.15| (3380)013/ 0.15| (3381)018/ 0.14| (3382)016/ 0.16| (3383)014/ 0.13| (3384)008/ 0.13| (3385)010/ 0.12| (3386)011/ 0.12| (3387)011/ 0.13| (3388)012/ 0.14| (3389)008/ 0.14| (3390)013/ 0.13| (3391)008/ 0.14| (3392)013/ 0.15| (3393)016/ 0.12| (3394)010/ 0.13| (3395)012/ 0.11| (3396)009/ 0.12| (3397)013/ 0.12| (3398)009/ 0.11| (3399)012/ 0.12| (3400)015/ 0.12| (3401)010/ 0.11| (3402)011/ 0.11| (3403)012/ 0.11| (3404)007/ 0.09| (3405)014/ 0.15| (3406)012/ 0.12| (3407)012/ 0.10| (3408)005/ 0.08| (3409)008/ 0.10| (3410)009/ 0.11| (3411)011/ 0.13| (3412)011/ 0.11| (3413)008/ 0.10| (3414)008/ 0.11| (3415)008/ 0.13| (3416)013/ 0.12| (3417)013/ 0.11| (3418)010/ 0.10| (3419)009/ 0.09| (3420)011/ 0.09| (3421)010/ 0.11| (3422)007/ 0.09| (3423)012/ 0.09| (3424)005/ 0.09| (3425)007/ 0.09| (3426)009/ 0.08| (3427)009/ 0.09| (3428)011/ 0.10| (3429)008/ 0.10| (3430)008/ 0.11| (3431)012/ 0.11| (3432)013/ 0.10| (3433)007/ 0.09| (3434)009/ 0.09| (3435)007/ 0.07| (3436)004/ 0.09| (3437)012/ 0.09| (3438)008/ 0.08| (3439)011/ 0.08| (3440)008/ 0.12| (3441)009/ 0.11| (3442)015/ 0.13| (3443)013/ 0.15| (3444)011/ 0.11| (3445)013/ 0.11| (3446)013/ 0.13| (3447)008/ 0.16| (3448)014/ 0.16| (3449)016/ 0.16| (3450)015/ 0.16| (3451)016/ 0.17| (3452)009/ 0.16| (3453)015/ 0.17| (3454)017/ 0.16| (3455)011/ 0.18| (3456)005/ 0.17| (3457)012/ 0.17| (3458)007/ 0.20| (3459)021/ 0.23| (3460)020/ 0.20| (3461)017/ 0.20| (3462)016/ 0.17| (3463)013/ 0.16| (3464)015/ 0.17| (3465)012/ 0.19| (3466)016/ 0.18| (3467)007/ 0.18| (3468)014/ 0.15| (3469)019/ 0.17| (3470)012/ 0.17| (3471)013/ 0.17| (3472)008/ 0.18| (3473)020/ 0.18| (3474)017/ 0.19| (3475)014/ 0.15| (3476)012/ 0.15| (3477)016/ 0.17| (3478)012/ 0.17| (3479)015/ 0.16| (3480)021/ 0.18| (3481)017/ 0.13| (3482)014/ 0.16| (3483)014/ 0.15| (3484)015/ 0.16| (3485)011/ 0.15| (3486)018/ 0.15| (3487)015/ 0.16| (3488)015/ 0.17| (3489)015/ 0.15| (3490)011/ 0.16| (3491)016/ 0.15| (3492)022/ 0.18| (3493)021/ 0.19| (3494)017/ 0.19| (3495)009/ 0.16| (3496)019/ 0.16| (3497)018/ 0.16| (3498)021/ 0.13| (3499)019/ 0.16| (3500)017/ 0.13| (3501)012/ 0.14| (3502)011/ 0.15| (3503)013/ 0.13| (3504)009/ 0.13| (3505)007/ 0.16| (3506)012/ 0.13| (3507)010/ 0.13| (3508)015/ 0.12| (3509)013/ 0.12| (3510)010/ 0.13| (3511)015/ 0.12| (3512)013/ 0.12| (3513)016/ 0.13| (3514)008/ 0.11| (3515)015/ 0.12| (3516)012/ 0.11| (3517)006/ 0.09| (3518)007/ 0.12| (3519)010/ 0.11| (3520)010/ 0.08| (3521)011/ 0.09| (3522)008/ 0.08| (3523)008/ 0.08| (3524)011/ 0.10| (3525)009/ 0.08| (3526)003/ 0.07| (3527)004/ 0.09| (3528)007/ 0.06| (3529)007/ 0.07| (3530)004/ 0.06| (3531)005/ 0.10| (3532)011/ 0.11| (3533)010/ 0.12| (3534)003/ 0.11| (3535)009/ 0.10| (3536)015/ 0.13| (3537)007/ 0.12| (3538)014/ 0.11| (3539)014/ 0.11| (3540)010/ 0.10| (3541)004/ 0.11| (3542)016/ 0.13| (3543)010/ 0.12| (3544)011/ 0.12| (3545)011/ 0.12| (3546)013/ 0.13| (3547)018/ 0.15| (3548)008/ 0.15| (3549)015/ 0.16| (3550)008/ 0.14| (3551)012/ 0.16| (3552)010/ 0.14| (3553)014/ 0.15| (3554)014/ 0.17| (3555)013/ 0.14| (3556)013/ 0.17| (3557)008/ 0.14| (3558)012/ 0.13| (3559)017/ 0.15| (3560)003/ 0.16| (3561)015/ 0.18| (3562)015/ 0.21| (3563)014/ 0.18| (3564)025/ 0.19| (3565)010/ 0.17| (3566)017/ 0.18| (3567)009/ 0.19| (3568)023/ 0.25| (3569)015/ 0.23| (3570)022/ 0.25| (3571)021/ 0.22| (3572)018/ 0.20| (3573)020/ 0.24| (3574)020/ 0.25| (3575)020/ 0.19| (3576)027/ 0.17| (3577)014/ 0.15| (3578)012/ 0.14| (3579)011/ 0.15| (3580)012/ 0.16| (3581)016/ 0.20| (3582)020/ 0.21| (3583)010/ 0.15| (3584)015/ 0.16| (3585)018/ 0.16| (3586)015/ 0.18| (3587)011/ 0.15| (3588)009/ 0.14| (3589)019/ 0.17| (3590)020/ 0.18| (3591)012/ 0.20| (3592)019/ 0.19| (3593)024/ 0.17| (3594)011/ 0.15| (3595)013/ 0.12| (3596)013/ 0.13| (3597)012/ 0.11| (3598)011/ 0.14| (3599)016/ 0.12| (3600)007/ 0.13| (3601)007/ 0.11| (3602)007/ 0.14| (3603)012/ 0.12| (3604)016/ 0.13| (3605)010/ 0.12| (3606)007/ 0.12| (3607)016/ 0.15| (3608)009/ 0.09| (3609)011/ 0.11| (3610)009/ 0.10| (3611)010/ 0.09| (3612)011/ 0.12| (3613)005/ 0.11| (3614)012/ 0.09| (3615)005/ 0.11| (3616)009/ 0.08| (3617)010/ 0.12| (3618)013/ 0.15| (3619)016/ 0.13| (3620)011/ 0.15| (3621)013/ 0.16| (3622)024/ 0.15| (3623)009/ 0.14| (3624)013/ 0.11| (3625)011/ 0.10| (3626)012/ 0.11| (3627)013/ 0.14| (3628)013/ 0.13| (3629)016/ 0.12| (3630)008/ 0.11| (3631)013/ 0.10| (3632)008/ 0.10| (3633)011/ 0.13| (3634)004/ 0.09| (3635)008/ 0.10| (3636)009/ 0.12| (3637)010/ 0.11| (3638)009/ 0.12| (3639)009/ 0.12| (3640)019/ 0.13| (3641)008/ 0.10| (3642)010/ 0.13| (3643)016/ 0.12| (3644)009/ 0.12| (3645)014/ 0.12| (3646)012/ 0.10| (3647)010/ 0.11| (3648)011/ 0.12| (3649)016/ 0.12| (3650)007/ 0.15| (3651)013/ 0.14| (3652)011/ 0.20| (3653)013/ 0.15| (3654)017/ 0.17| (3655)010/ 0.18| (3656)011/ 0.18| (3657)019/ 0.17| (3658)011/ 0.17| (3659)013/ 0.16| (3660)020/ 0.20| (3661)012/ 0.19| (3662)013/ 0.31| (3663)031/ 0.24| (3664)017/ 0.21| (3665)021/ 0.23| (3666)019/ 0.15| (3667)013/ 0.15| (3668)013/ 0.22| (3669)020/ 0.22| (3670)017/ 0.20| (3671)010/ 0.19| (3672)008/ 0.18| (3673)026/ 0.22| (3674)019/ 0.17| (3675)018/ 0.20| (3676)012/ 0.16| (3677)018/ 0.18| (3678)013/ 0.17| (3679)020/ 0.18| (3680)014/ 0.17| (3681)012/ 0.17| (3682)017/ 0.16| (3683)022/ 0.19| (3684)008/ 0.15| (3685)018/ 0.18| (3686)016/ 0.22| (3687)022/ 0.18| (3688)013/ 0.16| (3689)017/ 0.16| (3690)015/ 0.16| (3691)018/ 0.16| (3692)011/ 0.15| (3693)024/ 0.19| (3694)016/ 0.17| (3695)014/ 0.14| (3696)014/ 0.16| (3697)017/ 0.18| (3698)021/ 0.21| (3699)021/ 0.22| (3700)022/ 0.18| (3701)015/ 0.18| (3702)018/ 0.12| (3703)019/ 0.18| (3704)018/ 0.16| (3705)019/ 0.15| (3706)016/ 0.15| (3707)014/ 0.14| (3708)014/ 0.13| (3709)014/ 0.12| (3710)011/ 0.15| (3711)013/ 0.08| (3712)007/ 0.07| (3713)007/ 0.08| (3714)010/ 0.10| (3715)002/ 0.11| (3716)012/ 0.11| (3717)012/ 0.14| (3718)008/ 0.11| (3719)011/ 0.15| (3720)007/ 0.11| (3721)013/ 0.14| (3722)012/ 0.18| (3723)017/ 0.17| (3724)019/ 0.13| (3725)018/ 0.18| (3726)020/ 0.16| (3727)017/ 0.18| (3728)014/ 0.14| (3729)015/ 0.14| (3730)023/ 0.17| (3731)020/ 0.15| (3732)018/ 0.11| (3733)007/ 0.13| (3734)015/ 0.12| (3735)007/ 0.12| (3736)013/ 0.12| (3737)014/ 0.12| (3738)015/ 0.15| (3739)018/ 0.14| (3740)014/ 0.13| (3741)010/ 0.10| (3742)011/ 0.13| (3743)010/ 0.11| (3744)009/ 0.13| (3745)008/ 0.11| (3746)009/ 0.11| (3747)011/ 0.10| (3748)008/ 0.11| (3749)011/ 0.15| (3750)018/ 0.17| (3751)019/ 0.15| (3752)013/ 0.14| (3753)009/ 0.15| (3754)009/ 0.14| (3755)013/ 0.18| (3756)017/ 0.20| (3757)014/ 0.19| (3758)021/ 0.20| (3759)016/ 0.19| (3760)019/ 0.18| (3761)021/ 0.19| (3762)010/ 0.17| (3763)010/ 0.19| (3764)021/ 0.17| (3765)007/ 0.18| (3766)016/ 0.17| (3767)012/ 0.18| (3768)014/ 0.19| (3769)011/ 0.16| (3770)012/ 0.17| (3771)015/ 0.19| (3772)022/ 0.22| (3773)016/ 0.19| (3774)017/ 0.18| (3775)008/ 0.14| (3776)010/ 0.15| (3777)016/ 0.18| (3778)013/ 0.18| (3779)015/ 0.19| (3780)020/ 0.16| (3781)013/ 0.21| (3782)025/ 0.17| (3783)014/ 0.18| (3784)020/ 0.19| (3785)017/ 0.20| (3786)015/ 0.17| (3787)024/ 0.18| (3788)018/ 0.22| (3789)017/ 0.18| (3790)016/ 0.17| (3791)014/ 0.18| (3792)015/ 0.18| (3793)016/ 0.20| (3794)024/ 0.21| (3795)024/ 0.17| (3796)014/ 0.15| (3797)012/ 0.14| (3798)014/ 0.17| (3799)012/ 0.16| (3800)007/ 0.18| (3801)013/ 0.16| (3802)014/ 0.16| (3803)022/ 0.16| (3804)007/ 0.16| (3805)019/ 0.16| (3806)018/ 0.13| (3807)010/ 0.12| (3808)014/ 0.15| (3809)014/ 0.14| (3810)010/ 0.15| (3811)012/ 0.11| (3812)011/ 0.09| (3813)011/ 0.12| (3814)017/ 0.13| (3815)010/ 0.12| (3816)008/ 0.14| (3817)018/ 0.16| (3818)010/ 0.14| (3819)012/ 0.15| (3820)019/ 0.16| (3821)018/ 0.14| (3822)010/ 0.13| (3823)011/ 0.13| (3824)011/ 0.13| (3825)013/ 0.13| (3826)014/ 0.15| (3827)012/ 0.15| (3828)015/ 0.16| (3829)016/ 0.15| (3830)017/ 0.14| (3831)013/ 0.11| (3832)017/ 0.13| (3833)014/ 0.11| (3834)010/ 0.09| (3835)011/ 0.11| (3836)009/ 0.11| (3837)009/ 0.12| (3838)011/ 0.12| (3839)010/ 0.13| (3840)009/ 0.14| (3841)013/ 0.13| (3842)017/ 0.12| (3843)011/ 0.14| (3844)007/ 0.14| (3845)022/ 0.14| (3846)012/ 0.11| (3847)013/ 0.11| (3848)009/ 0.10| (3849)009/ 0.09| (3850)009/ 0.12| (3851)007/ 0.12| (3852)014/ 0.12| (3853)011/ 0.13| (3854)019/ 0.15| (3855)014/ 0.15| (3856)012/ 0.14| (3857)011/ 0.20| (3858)007/ 0.20| (3859)017/ 0.21| (3860)022/ 0.23| (3861)022/ 0.20| (3862)022/ 0.20| (3863)018/ 0.18| (3864)018/ 0.21| (3865)012/ 0.19| (3866)016/ 0.21| (3867)019/ 0.21| (3868)019/ 0.21| (3869)023/ 0.20| (3870)020/ 0.20| (3871)016/ 0.18| (3872)014/ 0.18| (3873)018/ 0.20| (3874)007/ 0.21| (3875)023/ 0.22| (3876)012/ 0.16| (3877)010/ 0.19| (3878)021/ 0.21| (3879)024/ 0.23| (3880)016/ 0.23| (3881)019/ 0.23| (3882)018/ 0.38| (3883)028/ 0.36| (3884)027/ 0.28| (3885)035/ 0.32| (3886)019/ 0.36| (3887)037/ 0.59| (3888)024/ 0.48| (3889)037/ 0.44| (3890)031/ 0.31| (3891)031/ 0.30| (3892)036/ 0.31| (3893)028/ 0.29| (3894)026/ 0.26| (3895)029/ 0.26| (3896)037/ 0.28| (3897)026/ 0.27| (3898)033/ 0.22| (3899)018/ 0.30| (3900)031/ 0.25| (3901)019/ 0.33| (3902)031/ 0.27| (3903)022/ 0.22| (3904)018/ 0.38| (3905)027/ 0.34| (3906)016/ 0.31| (3907)025/ 0.33| (3908)025/ 0.25| (3909)025/ 0.27| (3910)023/ 0.27| (3911)023/ 0.24| (3912)010/ 0.22| (3913)024/ 0.23| (3914)021/ 0.20| (3915)022/ 0.22| (3916)019/ 0.17| (3917)013/ 0.14| (3918)018/ 0.17| (3919)017/ 0.13| (3920)011/ 0.12| (3921)008/ 0.11| (3922)011/ 0.12| (3923)011/ 0.11| (3924)012/ 0.14| (3925)011/ 0.12| (3926)014/ 0.12| (3927)010/ 0.12| (3928)011/ 0.14| (3929)009/ 0.17| (3930)009/ 0.14| (3931)013/ 0.16| (3932)014/ 0.17| (3933)018/ 0.14| (3934)012/ 0.14| (3935)012/ 0.12| (3936)011/ 0.13| (3937)013/ 0.14| (3938)013/ 0.10| (3939)007/ 0.11| (3940)012/ 0.11| (3941)009/ 0.09| (3942)011/ 0.10| (3943)007/ 0.11| (3944)009/ 0.14| (3945)014/ 0.14| (3946)007/ 0.11| (3947)016/ 0.13| (3948)012/ 0.11| (3949)007/ 0.12| (3950)014/ 0.13| (3951)009/ 0.14| (3952)005/ 0.14| (3953)012/ 0.14| (3954)021/ 0.17| (3955)019/ 0.20| (3956)016/ 0.18| (3957)018/ 0.20| (3958)010/ 0.16| (3959)022/ 0.18| (3960)013/ 0.21| (3961)017/ 0.19| (3962)017/ 0.21| (3963)025/ 0.24| (3964)021/ 0.20| (3965)020/ 0.20| (3966)020/ 0.19| (3967)015/ 0.18| (3968)011/ 0.19| (3969)011/ 0.18| (3970)013/ 0.18| (3971)013/ 0.15| (3972)011/ 0.16| (3973)016/ 0.20| (3974)013/ 0.18| (3975)013/ 0.19| (3976)017/ 0.21| (3977)019/ 0.22| (3978)019/ 0.21| (3979)020/ 0.18| (3980)011/ 0.21| (3981)012/ 0.25| (3982)020/ 0.19| (3983)019/ 0.24| (3984)018/ 0.23| (3985)021/ 0.24| (3986)018/ 0.22| (3987)025/ 0.23| (3988)021/ 0.23| (3989)019/ 0.18| (3990)017/ 0.18| (3991)014/ 0.19| (3992)018/ 0.19| (3993)013/ 0.21| (3994)019/ 0.18| (3995)012/ 0.18| (3996)014/ 0.17| (3997)012/ 0.18| (3998)015/ 0.14| (3999)016/ 0.15| (4000)011/ 0.17| (4001)012/ 0.19| (4002)016/ 0.19| (4003)018/ 0.18| (4004)020/ 0.19| (4005)014/ 0.15| (4006)015/ 0.17| (4007)016/ 0.16| (4008)018/ 0.18| (4009)011/ 0.17| (4010)020/ 0.18| (4011)021/ 0.18| (4012)014/ 0.14| (4013)013/ 0.15| (4014)011/ 0.14| (4015)015/ 0.14| (4016)018/ 0.16| (4017)015/ 0.12| (4018)015/ 0.14| (4019)010/ 0.12| (4020)014/ 0.12| (4021)008/ 0.11| (4022)006/ 0.13| (4023)013/ 0.13| (4024)015/ 0.11| (4025)005/ 0.12| (4026)007/ 0.12| (4027)011/ 0.16| (4028)017/ 0.16| (4029)013/ 0.15| (4030)014/ 0.14| (4031)012/ 0.14| (4032)014/ 0.14| (4033)015/ 0.14| (4034)013/ 0.14| (4035)009/ 0.13| (4036)008/ 0.12| (4037)012/ 0.13| (4038)014/ 0.13| (4039)009/ 0.12| (4040)012/ 0.12| (4041)006/ 0.12| (4042)010/ 0.13| (4043)014/ 0.12| (4044)008/ 0.13| (4045)009/ 0.13| (4046)008/ 0.15| (4047)017/ 0.18| (4048)011/ 0.17| (4049)016/ 0.17| (4050)016/ 0.20| (4051)018/ 0.22| (4052)020/ 0.22| (4053)020/ 0.21| (4054)027/ 0.20| (4055)020/ 0.15| (4056)015/ 0.16| (4057)015/ 0.18| (4058)018/ 0.22| (4059)021/ 0.21| (4060)013/ 0.18| (4061)019/ 0.22| (4062)014/ 0.20| (4063)016/ 0.25| (4064)014/ 0.22| (4065)022/ 0.21| (4066)021/ 0.20| (4067)018/ 0.24| (4068)014/ 0.19| (4069)009/ 0.18| (4070)015/ 0.21| (4071)017/ 0.20| (4072)013/ 0.17| (4073)014/ 0.19| (4074)013/ 0.19| (4075)015/ 0.20| (4076)022/ 0.21| (4077)012/ 0.17| (4078)019/ 0.18| (4079)018/ 0.26| (4080)017/ 0.20| (4081)020/ 0.23| (4082)015/ 0.21| (4083)024/ 0.23| (4084)021/ 0.23| (4085)018/ 0.26| (4086)028/ 0.26| (4087)028/ 0.25| (4088)022/ 0.22| (4089)024/ 0.25| (4090)022/ 0.25| (4091)022/ 0.24| (4092)024/ 0.23| (4093)019/ 0.27| (4094)025/ 0.28| (4095)033/ 0.26| (4096)018/ 0.23| (4097)018/ 0.22| (4098)023/ 0.22| (4099)024/ 0.23| (4100)025/ 0.22| (4101)017/ 0.19| (4102)015/ 0.20| (4103)010/ 0.19| (4104)014/ 0.20| (4105)024/ 0.20| (4106)016/ 0.18| (4107)015/ 0.17| (4108)019/ 0.18| (4109)018/ 0.18| (4110)012/ 0.18| (4111)013/ 0.18| (4112)007/ 0.15| (4113)014/ 0.14| (4114)012/ 0.15| (4115)008/ 0.13| (4116)005/ 0.15| (4117)010/ 0.18| (4118)017/ 0.16| (4119)012/ 0.17| (4120)019/ 0.18| (4121)014/ 0.15| (4122)015/ 0.16| (4123)017/ 0.14| (4124)014/ 0.17| (4125)005/ 0.13| (4126)014/ 0.13| (4127)014/ 0.15| (4128)010/ 0.17| (4129)017/ 0.17| (4130)015/ 0.17| (4131)010/ 0.15| (4132)012/ 0.17| (4133)012/ 0.16| (4134)013/ 0.13| (4135)016/ 0.14| (4136)012/ 0.16| (4137)012/ 0.17| (4138)014/ 0.17| (4139)013/ 0.20| (4140)017/ 0.20| (4141)023/ 0.23| (4142)016/ 0.19| (4143)024/ 0.18| (4144)019/ 0.16| (4145)018/ 0.16| (4146)008/ 0.14| (4147)015/ 0.15| (4148)010/ 0.14| (4149)017/ 0.14| (4150)007/ 0.15| (4151)016/ 0.17| (4152)015/ 0.15| (4153)017/ 0.16| (4154)013/ 0.18| (4155)016/ 0.17| (4156)015/ 0.13| (4157)011/ 0.14| (4158)014/ 0.16| (4159)014/ 0.14| (4160)012/ 0.15| (4161)010/ 0.16| (4162)014/ 0.17| (4163)014/ 0.18| (4164)013/ 0.19| (4165)012/ 0.22| (4166)024/ 0.23| (4167)015/ 0.22| (4168)026/ 0.21| (4169)019/ 0.19| (4170)020/ 0.23| (4171)014/ 0.19| (4172)017/ 0.18| (4173)018/ 0.19| (4174)009/ 0.19| (4175)020/ 0.23| (4176)017/ 0.23| (4177)016/ 0.23| (4178)020/ 0.24| (4179)022/ 0.26| (4180)022/ 0.26| (4181)020/ 0.18| (4182)013/ 0.18| (4183)017/ 0.22| (4184)011/ 0.20| (4185)018/ 0.22| (4186)014/ 0.22| (4187)025/ 0.23| (4188)020/ 0.23| (4189)017/ 0.25| (4190)019/ 0.29| (4191)020/ 0.22| (4192)022/ 0.24| (4193)023/ 0.23| (4194)013/ 0.21| (4195)022/ 0.17| (4196)015/ 0.19| (4197)018/ 0.21| (4198)022/ 0.23| (4199)022/ 0.20| (4200)024/ 0.21| (4201)015/ 0.17| (4202)014/ 0.19| (4203)019/ 0.20| (4204)019/ 0.19| (4205)017/ 0.18| (4206)016/ 0.17| (4207)016/ 0.21| (4208)017/ 0.20| (4209)016/ 0.17| (4210)015/ 0.17| (4211)016/ 0.20| (4212)016/ 0.18| (4213)016/ 0.22| (4214)014/ 0.19| (4215)018/ 0.20| (4216)017/ 0.16| (4217)018/ 0.19| (4218)014/ 0.17| (4219)011/ 0.16| (4220)012/ 0.13| (4221)013/ 0.16| (4222)014/ 0.20| (4223)013/ 0.20| (4224)019/ 0.16| (4225)013/ 0.14| (4226)013/ 0.16| (4227)020/ 0.16| (4228)014/ 0.16| (4229)011/ 0.17| (4230)014/ 0.14| (4231)012/ 0.15| (4232)013/ 0.19| (4233)022/ 0.18| (4234)015/ 0.15| (4235)013/ 0.17| (4236)015/ 0.16| (4237)013/ 0.14| (4238)012/ 0.15| (4239)014/ 0.16| (4240)011/ 0.16| (4241)014/ 0.18| (4242)019/ 0.15| (4243)012/ 0.16| (4244)012/ 0.18| (4245)014/ 0.15| (4246)015/ 0.16| (4247)014/ 0.18| (4248)012/ 0.13| (4249)017/ 0.17| (4250)012/ 0.15| (4251)013/ 0.14| (4252)012/ 0.18| (4253)014/ 0.13| (4254)019/ 0.16| (4255)014/ 0.16| (4256)016/ 0.14| (4257)015/ 0.12| (4258)015/ 0.13| (4259)011/ 0.17| (4260)010/ 0.16| (4261)011/ 0.14| (4262)018/ 0.20| (4263)016/ 0.18| (4264)012/ 0.17| (4265)016/ 0.21| (4266)014/ 0.19| (4267)013/ 0.17| (4268)014/ 0.19| (4269)009/ 0.21| (4270)016/ 0.22| (4271)024/ 0.26| (4272)015/ 0.20| (4273)019/ 0.22| (4274)019/ 0.24| (4275)018/ 0.25| (4276)016/ 0.26| (4277)032/ 0.28| (4278)017/ 0.23| (4279)028/ 0.26| (4280)020/ 0.25| (4281)021/ 0.25| (4282)025/ 0.30| (4283)026/ 0.26| (4284)024/ 0.25| (4285)027/ 0.28| (4286)025/ 0.26| (4287)019/ 0.27| (4288)024/ 0.28| (4289)016/ 0.20| (4290)015/ 0.24| (4291)023/ 0.28| (4292)025/ 0.22| (4293)019/ 0.22| (4294)022/ 0.23| (4295)023/ 0.27| (4296)019/ 0.22| (4297)026/ 0.24| (4298)015/ 0.23| (4299)025/ 0.25| (4300)026/ 0.21| (4301)016/ 0.26| (4302)023/ 0.21| (4303)028/ 0.26| (4304)025/ 0.22| (4305)028/ 0.24| (4306)021/ 0.23| (4307)020/ 0.22| (4308)017/ 0.19| (4309)017/ 0.20| (4310)017/ 0.22| (4311)016/ 0.23| (4312)024/ 0.26| (4313)021/ 0.23| (4314)027/ 0.24| (4315)016/ 0.23| (4316)023/ 0.21| (4317)025/ 0.21| (4318)014/ 0.15| (4319)017/ 0.15| (4320)016/ 0.13| (4321)006/ 0.15| (4322)010/ 0.17| (4323)015/ 0.17| (4324)012/ 0.15| (4325)012/ 0.17| (4326)022/ 0.19| (4327)018/ 0.17| (4328)014/ 0.18| (4329)010/ 0.18| (4330)009/ 0.17| (4331)015/ 0.20| (4332)020/ 0.17| (4333)016/ 0.18| (4334)022/ 0.18| (4335)019/ 0.14| (4336)014/ 0.15| (4337)016/ 0.17| (4338)015/ 0.16| (4339)020/ 0.18| (4340)017/ 0.15| (4341)013/ 0.17| (4342)011/ 0.13| (4343)007/ 0.15| (4344)010/ 0.15| (4345)012/ 0.16| (4346)015/ 0.16| (4347)016/ 0.19| (4348)017/ 0.18| (4349)017/ 0.18| (4350)020/ 0.15| (4351)011/ 0.15| (4352)018/ 0.14| (4353)007/ 0.15| (4354)010/ 0.15| (4355)014/ 0.18| (4356)018/ 0.17| (4357)016/ 0.18| (4358)012/ 0.18| (4359)016/ 0.15| (4360)011/ 0.15| (4361)010/ 0.14| (4362)009/ 0.16| (4363)013/ 0.18| (4364)018/ 0.18| (4365)014/ 0.20| (4366)014/ 0.19| (4367)023/ 0.17| (4368)021/ 0.22| (4369)016/ 0.23| (4370)013/ 0.20| (4371)017/ 0.20| (4372)019/ 0.19| (4373)014/ 0.21| (4374)020/ 0.26| (4375)026/ 0.28| (4376)025/ 0.23| (4377)019/ 0.24| (4378)025/ 0.28| (4379)020/ 0.24| (4380)020/ 0.24| (4381)019/ 0.21| (4382)012/ 0.21| (4383)024/ 0.21| (4384)014/ 0.23| (4385)014/ 0.22| (4386)022/ 0.22| (4387)018/ 0.27| (4388)019/ 0.26| (4389)017/ 0.23| (4390)018/ 0.25| (4391)022/ 0.20| (4392)014/ 0.21| (4393)020/ 0.19| (4394)020/ 0.21| (4395)015/ 0.21| (4396)018/ 0.23| (4397)015/ 0.23| (4398)024/ 0.27| (4399)019/ 0.25| (4400)026/ 0.24| (4401)016/ 0.22| (4402)022/ 0.27| (4403)030/ 0.24| (4404)017/ 0.24| (4405)016/ 0.20| (4406)022/ 0.25| (4407)024/ 0.24| (4408)017/ 0.23| (4409)026/ 0.29| (4410)023/ 0.25| (4411)028/ 0.28| (4412)015/ 0.26| (4413)026/ 0.22| (4414)020/ 0.18| (4415)014/ 0.21| (4416)015/ 0.16| (4417)023/ 0.21| (4418)015/ 0.24| (4419)018/ 0.23| (4420)024/ 0.28| (4421)028/ 0.27| (4422)022/ 0.21| (4423)015/ 0.17| (4424)020/ 0.23| (4425)020/ 0.25| (4426)024/ 0.27| (4427)023/ 0.24| (4428)019/ 0.20| (4429)025/ 0.21| (4430)019/ 0.25| (4431)022/ 0.20| (4432)018/ 0.19| (4433)019/ 0.18| (4434)020/ 0.15| (4435)011/ 0.13| (4436)015/ 0.17| (4437)016/ 0.16| (4438)013/ 0.16| (4439)010/ 0.16| (4440)014/ 0.19| (4441)017/ 0.18| (4442)016/ 0.20| (4443)020/ 0.18| (4444)012/ 0.18| (4445)016/ 0.16| (4446)013/ 0.15| (4447)010/ 0.15| (4448)010/ 0.16| (4449)019/ 0.17| (4450)024/ 0.16| (4451)015/ 0.19| (4452)009/ 0.14| (4453)010/ 0.15| (4454)021/ 0.15| (4455)013/ 0.14| (4456)009/ 0.16| (4457)010/ 0.18| (4458)014/ 0.20| (4459)011/ 0.17| (4460)015/ 0.18| (4461)019/ 0.19| (4462)021/ 0.19| (4463)018/ 0.19| (4464)021/ 0.19| (4465)013/ 0.22| (4466)024/ 0.26| (4467)020/ 0.25| (4468)026/ 0.26| (4469)018/ 0.24| (4470)021/ 0.20| (4471)019/ 0.26| (4472)018/ 0.23| (4473)016/ 0.19| (4474)018/ 0.21| (4475)021/ 0.23| (4476)016/ 0.22| (4477)012/ 0.21| (4478)020/ 0.30| (4479)023/ 0.33| (4480)023/ 0.28| (4481)022/ 0.23| (4482)028/ 0.30| (4483)024/ 0.24| (4484)032/ 0.27| (4485)015/ 0.23| (4486)017/ 0.27| (4487)026/ 0.30| (4488)024/ 0.23| (4489)025/ 0.26| (4490)019/ 0.22| (4491)022/ 0.23| (4492)019/ 0.23| (4493)015/ 0.27| (4494)017/ 0.25| (4495)026/ 0.24| (4496)021/ 0.26| (4497)030/ 0.25| (4498)025/ 0.23| (4499)016/ 0.22| (4500)015/ 0.24| (4501)033/ 0.28| (4502)020/ 0.19| (4503)016/ 0.23| (4504)019/ 0.21| (4505)019/ 0.23| (4506)021/ 0.23| (4507)013/ 0.21| (4508)013/ 0.17| (4509)015/ 0.21| (4510)015/ 0.23| (4511)021/ 0.21| (4512)014/ 0.23| (4513)012/ 0.20| (4514)016/ 0.23| (4515)021/ 0.26| (4516)020/ 0.24| (4517)018/ 0.21| (4518)017/ 0.21| (4519)013/ 0.20| (4520)018/ 0.20| (4521)015/ 0.20| (4522)013/ 0.19| (4523)021/ 0.22| (4524)015/ 0.22| (4525)014/ 0.24| (4526)017/ 0.22| (4527)019/ 0.24| (4528)017/ 0.26| (4529)028/ 0.28| (4530)021/ 0.23| (4531)019/ 0.23| (4532)027/ 0.25| (4533)020/ 0.24| (4534)019/ 0.23| (4535)024/ 0.23| (4536)017/ 0.19| (4537)015/ 0.17| (4538)009/ 0.21| (4539)023/ 0.24| (4540)021/ 0.25| (4541)017/ 0.22| (4542)029/ 0.21| (4543)012/ 0.21| (4544)019/ 0.22| (4545)018/ 0.18| (4546)010/ 0.14| (4547)019/ 0.15| (4548)007/ 0.14| (4549)014/ 0.19| (4550)013/ 0.17| (4551)018/ 0.22| (4552)020/ 0.20| (4553)013/ 0.16| (4554)009/ 0.15| (4555)017/ 0.16| (4556)013/ 0.13| (4557)006/ 0.16| (4558)013/ 0.16| (4559)009/ 0.15| (4560)014/ 0.18| (4561)015/ 0.17| (4562)011/ 0.20| (4563)021/ 0.18| (4564)017/ 0.17| (4565)010/ 0.18| (4566)010/ 0.16| (4567)012/ 0.20| (4568)011/ 0.20| (4569)021/ 0.19| (4570)016/ 0.17| (4571)006/ 0.19| (4572)017/ 0.28| (4573)013/ 0.26| (4574)022/ 0.24| (4575)016/ 0.26| (4576)029/ 0.29| (4577)021/ 0.27| (4578)028/ 0.26| (4579)029/ 0.29| (4580)025/ 0.27| (4581)016/ 0.28| (4582)017/ 0.26| (4583)029/ 0.28| (4584)027/ 0.26| (4585)017/ 0.22| (4586)021/ 0.28| (4587)028/ 0.30| (4588)024/ 0.30| (4589)031/ 0.33| (4590)032/ 0.32| (4591)027/ 0.28| (4592)028/ 0.27| (4593)025/ 0.29| (4594)022/ 0.25| (4595)017/ 0.24| (4596)020/ 0.25| (4597)018/ 0.27| (4598)020/ 0.25| (4599)024/ 0.26| (4600)021/ 0.26| (4601)019/ 0.25| (4602)016/ 0.21| (4603)015/ 0.24| (4604)021/ 0.25| (4605)022/ 0.26| (4606)021/ 0.26| (4607)019/ 0.25| (4608)022/ 0.25| (4609)019/ 0.26| (4610)028/ 0.27| (4611)019/ 0.24| (4612)022/ 0.25| (4613)025/ 0.25| (4614)026/ 0.28| (4615)021/ 0.26| (4616)019/ 0.25| (4617)021/ 0.25| (4618)020/ 0.27| (4619)027/ 0.27| (4620)025/ 0.24| (4621)013/ 0.20| (4622)014/ 0.19| (4623)014/ 0.23| (4624)016/ 0.20| (4625)026/ 0.24| (4626)021/ 0.22| (4627)014/ 0.16| (4628)015/ 0.16| (4629)015/ 0.19| (4630)022/ 0.24| (4631)018/ 0.21| (4632)020/ 0.21| (4633)012/ 0.18| (4634)017/ 0.20| (4635)015/ 0.18| (4636)015/ 0.19| (4637)013/ 0.16| (4638)010/ 0.15| (4639)008/ 0.13| (4640)012/ 0.19| (4641)013/ 0.23| (4642)019/ 0.22| (4643)016/ 0.27| (4644)026/ 0.21| (4645)014/ 0.17| (4646)014/ 0.18| (4647)022/ 0.20| (4648)013/ 0.25| (4649)018/ 0.27| (4650)030/ 0.25| (4651)023/ 0.23| (4652)012/ 0.20| (4653)020/ 0.19| (4654)022/ 0.19| (4655)018/ 0.19| (4656)022/ 0.18| (4657)014/ 0.20| (4658)017/ 0.19| (4659)014/ 0.19| (4660)014/ 0.21| (4661)021/ 0.21| (4662)018/ 0.18| (4663)012/ 0.21| (4664)020/ 0.22| (4665)014/ 0.16| (4666)018/ 0.20| (4667)016/ 0.22| (4668)016/ 0.22| (4669)020/ 0.22| (4670)017/ 0.23| (4671)018/ 0.24| (4672)020/ 0.27| (4673)019/ 0.27| (4674)020/ 0.24| (4675)018/ 0.23| (4676)024/ 0.26| (4677)027/ 0.29| (4678)017/ 0.28| (4679)020/ 0.24| (4680)021/ 0.24| (4681)016/ 0.23| (4682)016/ 0.23| (4683)025/ 0.24| (4684)014/ 0.24| (4685)014/ 0.26| (4686)017/ 0.26| (4687)025/ 0.25| (4688)026/ 0.31| (4689)024/ 0.30| (4690)026/ 0.26| (4691)016/ 0.27| (4692)028/ 0.30| (4693)026/ 0.31| (4694)028/ 0.27| (4695)020/ 0.27| (4696)021/ 0.28| (4697)023/ 0.32| (4698)027/ 0.32| (4699)029/ 0.28| (4700)029/ 0.25| (4701)021/ 0.25| (4702)023/ 0.24| (4703)019/ 0.25| (4704)016/ 0.22| (4705)017/ 0.25| (4706)020/ 0.24| (4707)020/ 0.23| (4708)020/ 0.28| (4709)023/ 0.32| (4710)019/ 0.33| (4711)030/ 0.26| (4712)020/ 0.29| (4713)022/ 0.25| (4714)028/ 0.28| (4715)019/ 0.27| (4716)022/ 0.30| (4717)015/ 0.25| (4718)024/ 0.27| (4719)027/ 0.28| (4720)025/ 0.30| (4721)020/ 0.31| (4722)028/ 0.29| (4723)026/ 0.27| (4724)023/ 0.26| (4725)024/ 0.24| (4726)019/ 0.22| (4727)019/ 0.22| (4728)021/ 0.26| (4729)028/ 0.27| (4730)020/ 0.26| (4731)015/ 0.29| (4732)023/ 0.31| (4733)028/ 0.35| (4734)029/ 0.33| (4735)043/ 0.36| (4736)030/ 0.34| (4737)035/ 0.26| (4738)021/ 0.24| (4739)024/ 0.28| (4740)025/ 0.25| (4741)029/ 0.27| (4742)021/ 0.25| (4743)023/ 0.29| (4744)024/ 0.22| (4745)023/ 0.17| (4746)015/ 0.17| (4747)006/ 0.18| (4748)016/ 0.22| (4749)019/ 0.24| (4750)019/ 0.26| (4751)022/ 0.21| (4752)019/ 0.20| (4753)020/ 0.20| (4754)020/ 0.20| (4755)017/ 0.21| (4756)013/ 0.18| (4757)015/ 0.17| (4758)016/ 0.18| (4759)014/ 0.19| (4760)013/ 0.17| (4761)015/ 0.19| (4762)013/ 0.18| (4763)022/ 0.22| (4764)025/ 0.24| (4765)025/ 0.22| (4766)015/ 0.21| (4767)012/ 0.22| (4768)024/ 0.28| (4769)020/ 0.30| (4770)019/ 0.22| (4771)022/ 0.23| (4772)017/ 0.25| (4773)022/ 0.22| (4774)020/ 0.26| (4775)022/ 0.27| (4776)021/ 0.24| (4777)024/ 0.28| (4778)022/ 0.30| (4779)023/ 0.33| (4780)019/ 0.29| (4781)022/ 0.31| (4782)024/ 0.35| (4783)027/ 0.35| (4784)032/ 0.32| (4785)020/ 0.28| (4786)022/ 0.33| (4787)025/ 0.31| (4788)024/ 0.33| (4789)026/ 0.35| (4790)034/ 0.39| (4791)024/ 0.32| (4792)021/ 0.31| (4793)028/ 0.34| (4794)021/ 0.33| (4795)031/ 0.33| (4796)032/ 0.31| (4797)019/ 0.31| (4798)028/ 0.28| (4799)022/ 0.29| (4800)025/ 0.30| (4801)023/ 0.33| (4802)031/ 0.33| (4803)023/ 0.32| (4804)024/ 0.32| (4805)032/ 0.32| (4806)033/ 0.35| (4807)019/ 0.28| (4808)029/ 0.27| (4809)016/ 0.27| (4810)016/ 0.22| (4811)021/ 0.26| (4812)024/ 0.28| (4813)021/ 0.24| (4814)025/ 0.29| (4815)019/ 0.30| (4816)024/ 0.34| (4817)032/ 0.32| (4818)025/ 0.29| (4819)029/ 0.34| (4820)037/ 0.29| (4821)019/ 0.26| (4822)021/ 0.21| (4823)017/ 0.27| (4824)019/ 0.27| (4825)029/ 0.30| (4826)018/ 0.29| (4827)025/ 0.27| (4828)031/ 0.29| (4829)015/ 0.26| (4830)021/ 0.27| (4831)023/ 0.29| (4832)025/ 0.33| (4833)023/ 0.32| (4834)025/ 0.34| (4835)028/ 0.34| (4836)033/ 0.30| (4837)021/ 0.30| (4838)021/ 0.27| (4839)026/ 0.26| (4840)016/ 0.26| (4841)024/ 0.25| (4842)022/ 0.23| (4843)021/ 0.27| (4844)023/ 0.28| (4845)021/ 0.24| (4846)018/ 0.23| (4847)029/ 0.24| (4848)018/ 0.21| (4849)023/ 0.21| (4850)017/ 0.21| (4851)019/ 0.21| (4852)020/ 0.21| (4853)009/ 0.18| (4854)015/ 0.18| (4855)020/ 0.22| (4856)011/ 0.19| (4857)012/ 0.17| (4858)018/ 0.21| (4859)015/ 0.16| (4860)016/ 0.20| (4861)015/ 0.23| (4862)014/ 0.21| (4863)020/ 0.23| (4864)021/ 0.22| (4865)020/ 0.22| (4866)013/ 0.18| (4867)019/ 0.19| (4868)020/ 0.24| (4869)015/ 0.22| (4870)017/ 0.22| (4871)017/ 0.24| (4872)015/ 0.22| (4873)026/ 0.27| (4874)025/ 0.23| (4875)018/ 0.26| (4876)018/ 0.24| (4877)017/ 0.22| (4878)014/ 0.21| (4879)014/ 0.26| (4880)023/ 0.28| (4881)012/ 0.24| (4882)021/ 0.28| (4883)019/ 0.27| (4884)019/ 0.29| (4885)026/ 0.30| (4886)019/ 0.30| (4887)021/ 0.35| (4888)023/ 0.36| (4889)039/ 0.36| (4890)023/ 0.34| (4891)027/ 0.32| (4892)026/ 0.35| (4893)021/ 0.34| (4894)040/ 0.42| (4895)030/ 0.43| (4896)028/ 0.35| (4897)031/ 0.32| (4898)032/ 0.34| (4899)023/ 0.31| (4900)016/ 0.31| (4901)026/ 0.33| (4902)028/ 0.33| (4903)021/ 0.31| (4904)024/ 0.34| (4905)023/ 0.36| (4906)035/ 0.31| (4907)029/ 0.34| (4908)022/ 0.29| (4909)024/ 0.28| (4910)027/ 0.32| (4911)026/ 0.31| (4912)023/ 0.32| (4913)017/ 0.34| (4914)024/ 0.29| (4915)029/ 0.32| (4916)031/ 0.32| (4917)020/ 0.29| (4918)028/ 0.35| (4919)019/ 0.32| (4920)030/ 0.32| (4921)023/ 0.33| (4922)025/ 0.28| (4923)020/ 0.27| (4924)020/ 0.29| (4925)025/ 0.32| (4926)024/ 0.29| (4927)023/ 0.30| (4928)030/ 0.31| (4929)024/ 0.28| (4930)020/ 0.30| (4931)023/ 0.32| (4932)031/ 0.32| (4933)021/ 0.28| (4934)022/ 0.27| (4935)021/ 0.26| (4936)021/ 0.24| (4937)021/ 0.26| (4938)021/ 0.27| (4939)019/ 0.28| (4940)017/ 0.27| (4941)024/ 0.34| (4942)025/ 0.30| (4943)031/ 0.36| (4944)035/ 0.36| (4945)027/ 0.30| (4946)027/ 0.28| (4947)022/ 0.26| (4948)022/ 0.27| (4949)025/ 0.25| (4950)021/ 0.24| (4951)021/ 0.26| (4952)019/ 0.26| (4953)018/ 0.23| (4954)020/ 0.24| (4955)016/ 0.24| (4956)024/ 0.28| (4957)020/ 0.25| (4958)020/ 0.25| (4959)017/ 0.28| (4960)019/ 0.30| (4961)025/ 0.26| (4962)021/ 0.28| (4963)018/ 0.28| (4964)016/ 0.29| (4965)016/ 0.28| (4966)014/ 0.24| (4967)018/ 0.28| (4968)028/ 0.30| (4969)020/ 0.32| (4970)029/ 0.33| (4971)030/ 0.31| (4972)030/ 0.29| (4973)022/ 0.31| (4974)023/ 0.28| (4975)029/ 0.31| (4976)021/ 0.33| (4977)028/ 0.33| (4978)035/ 0.30| (4979)026/ 0.33| (4980)016/ 0.30| (4981)025/ 0.29| (4982)022/ 0.29| (4983)028/ 0.28| (4984)019/ 0.31| (4985)025/ 0.36| (4986)026/ 0.34| (4987)026/ 0.32| (4988)030/ 0.40| (4989)030/ 0.36| (4990)030/ 0.32| (4991)028/ 0.32| (4992)026/ 0.32| (4993)031/ 0.35| (4994)020/ 0.32| (4995)031/ 0.33| (4996)025/ 0.33| (4997)028/ 0.35| (4998)026/ 0.35| (4999)027/ 0.38| (5000)029/ 0.38| (5001)032/ 0.35| (5002)026/ 0.39| (5003)032/ 0.37| (5004)028/ 0.34| (5005)027/ 0.33| (5006)031/ 0.32| (5007)029/ 0.26| (5008)019/ 0.26| (5009)016/ 0.27| (5010)018/ 0.24| (5011)019/ 0.28| (5012)019/ 0.27| (5013)020/ 0.25| (5014)023/ 0.29| (5015)014/ 0.24| (5016)021/ 0.34| (5017)025/ 0.32| (5018)030/ 0.34| (5019)023/ 0.37| (5020)028/ 0.33| (5021)035/ 0.36| (5022)023/ 0.29| (5023)022/ 0.36| (5024)025/ 0.32| (5025)039/ 0.37| (5026)025/ 0.31| (5027)016/ 0.32| (5028)024/ 0.28| (5029)029/ 0.32| (5030)020/ 0.36| (5031)039/ 0.38| (5032)032/ 0.34| (5033)022/ 0.30| (5034)023/ 0.27| (5035)026/ 0.27| (5036)016/ 0.29| (5037)019/ 0.27| (5038)025/ 0.31| (5039)023/ 0.30| (5040)022/ 0.28| (5041)020/ 0.27| (5042)013/ 0.28| (5043)024/ 0.27| (5044)023/ 0.34| (5045)019/ 0.28| (5046)028/ 0.29| (5047)016/ 0.26| (5048)016/ 0.26| (5049)029/ 0.27| (5050)023/ 0.27| (5051)024/ 0.28| (5052)020/ 0.24| (5053)021/ 0.27| (5054)020/ 0.23| (5055)019/ 0.24| (5056)021/ 0.25| (5057)020/ 0.24| (5058)016/ 0.26| (5059)027/ 0.27| (5060)008/ 0.22| (5061)016/ 0.30| (5062)028/ 0.31| (5063)019/ 0.33| (5064)021/ 0.32| (5065)025/ 0.26| (5066)016/ 0.26| (5067)018/ 0.26| (5068)030/ 0.28| (5069)020/ 0.28| (5070)020/ 0.26| (5071)018/ 0.26| (5072)021/ 0.31| (5073)017/ 0.25| (5074)023/ 0.25| (5075)018/ 0.32| (5076)031/ 0.37| (5077)030/ 0.39| (5078)029/ 0.39| (5079)036/ 0.38| (5080)028/ 0.34| (5081)031/ 0.37| (5082)025/ 0.37| (5083)025/ 0.39| (5084)031/ 0.37| (5085)030/ 0.44| (5086)037/ 0.41| (5087)037/ 0.41| (5088)025/ 0.36| (5089)026/ 0.36| (5090)032/ 0.36| (5091)028/ 0.35| (5092)034/ 0.42| (5093)027/ 0.40| (5094)027/ 0.41| (5095)033/ 0.36| (5096)035/ 0.38| (5097)037/ 0.37| (5098)027/ 0.33| (5099)021/ 0.33| (5100)029/ 0.35| (5101)037/ 0.36| (5102)026/ 0.30| (5103)020/ 0.36| (5104)032/ 0.36| (5105)029/ 0.36| (5106)027/ 0.35| (5107)028/ 0.36| (5108)030/ 0.38| (5109)020/ 0.36| (5110)029/ 0.37| (5111)022/ 0.40| (5112)028/ 0.42| (5113)021/ 0.38| (5114)037/ 0.45| (5115)028/ 0.46| (5116)035/ 0.43| (5117)038/ 0.43| (5118)033/ 0.40| (5119)030/ 0.39| (5120)031/ 0.31| (5121)032/ 0.39| (5122)027/ 0.39| (5123)024/ 0.38| (5124)036/ 0.38| (5125)023/ 0.39| (5126)025/ 0.35| (5127)029/ 0.35| (5128)026/ 0.37| (5129)023/ 0.38| (5130)027/ 0.44| (5131)030/ 0.39| (5132)027/ 0.41| (5133)049/ 0.52| (5134)030/ 0.45| (5135)030/ 0.44| (5136)026/ 0.36| (5137)038/ 0.41| (5138)028/ 0.38| (5139)028/ 0.38| (5140)026/ 0.38| (5141)034/ 0.34| (5142)029/ 0.42| (5143)032/ 0.40| (5144)025/ 0.38| (5145)022/ 0.36| (5146)032/ 0.42| (5147)031/ 0.38| (5148)031/ 0.41| (5149)030/ 0.40| (5150)029/ 0.37| (5151)021/ 0.38| (5152)026/ 0.37| (5153)035/ 0.42| (5154)028/ 0.37| (5155)032/ 0.36| (5156)028/ 0.37| (5157)022/ 0.41| (5158)036/ 0.37| (5159)028/ 0.39| (5160)027/ 0.41| (5161)028/ 0.36| (5162)024/ 0.40| (5163)042/ 0.43| (5164)028/ 0.40| (5165)028/ 0.38| (5166)022/ 0.37| (5167)031/ 0.41| (5168)032/ 0.41| (5169)024/ 0.38| (5170)030/ 0.44| (5171)030/ 0.35| (5172)033/ 0.37| (5173)029/ 0.37| (5174)026/ 0.34| (5175)029/ 0.32| (5176)027/ 0.31| (5177)034/ 0.33| (5178)016/ 0.30| (5179)026/ 0.33| (5180)019/ 0.30| (5181)019/ 0.32| (5182)030/ 0.38| (5183)025/ 0.36| (5184)024/ 0.33| (5185)017/ 0.36| (5186)034/ 0.45| (5187)025/ 0.46| (5188)032/ 0.47| (5189)035/ 0.42| (5190)033/ 0.36| (5191)029/ 0.40| (5192)032/ 0.34| (5193)022/ 0.39| (5194)029/ 0.39| (5195)037/ 0.38| (5196)031/ 0.37| (5197)018/ 0.35| (5198)028/ 0.44| (5199)030/ 0.39| (5200)033/ 0.43| (5201)024/ 0.44| (5202)037/ 0.45| (5203)031/ 0.40| (5204)034/ 0.42| (5205)024/ 0.43| (5206)031/ 0.38| (5207)025/ 0.42| (5208)032/ 0.42| (5209)025/ 0.43| (5210)026/ 0.46| (5211)027/ 0.45| (5212)030/ 0.47| (5213)039/ 0.46| (5214)029/ 0.38| (5215)031/ 0.39| (5216)026/ 0.44| (5217)028/ 0.44| (5218)038/ 0.47| (5219)043/ 0.50| (5220)028/ 0.53| (5221)028/ 0.48| (5222)046/ 0.57| (5223)031/ 0.45| (5224)036/ 0.48| (5225)030/ 0.55| (5226)040/ 0.48| (5227)038/ 0.55| (5228)033/ 0.56| (5229)039/ 0.58| (5230)034/ 0.80| (5231)050/ 0.65| (5232)039/ 0.59| (5233)038/ 0.64| (5234)044/ 0.62| (5235)049/ 0.59| (5236)040/ 0.66| (5237)049/ 0.55| (5238)041/ 0.53| (5239)039/ 0.57| (5240)036/ 0.46| (5241)032/ 0.49| (5242)038/ 0.54| (5243)040/ 0.55| (5244)033/ 0.51| (5245)038/ 0.48| (5246)028/ 0.48| (5247)038/ 0.46| (5248)034/ 0.46| (5249)037/ 0.50| (5250)034/ 0.51| (5251)038/ 0.46| (5252)034/ 0.51| (5253)031/ 0.51| (5254)030/ 0.47| (5255)041/ 0.49| (5256)034/ 0.48| (5257)038/ 0.39| (5258)036/ 0.41| (5259)029/ 0.37| (5260)027/ 0.39| (5261)023/ 0.38| (5262)037/ 0.41| (5263)031/ 0.41| (5264)024/ 0.38| (5265)022/ 0.35| (5266)026/ 0.34| (5267)024/ 0.33| (5268)028/ 0.38| (5269)032/ 0.42| (5270)020/ 0.36| (5271)020/ 0.39| (5272)029/ 0.37| (5273)014/ 0.39| (5274)026/ 0.39| (5275)025/ 0.44| (5276)023/ 0.44| (5277)028/ 0.42| (5278)036/ 0.51| (5279)025/ 0.48| (5280)038/ 0.53| (5281)037/ 0.52| (5282)033/ 0.54| (5283)029/ 0.53| (5284)042/ 0.50| (5285)039/ 0.53| (5286)035/ 0.57| (5287)033/ 0.52| (5288)036/ 0.46| (5289)043/ 0.51| (5290)038/ 0.50| (5291)027/ 0.45| (5292)040/ 0.50| (5293)039/ 0.50| (5294)034/ 0.52| (5295)038/ 0.42| (5296)027/ 0.42| (5297)031/ 0.50| (5298)023/ 0.42| (5299)035/ 0.53| (5300)036/ 0.48| (5301)033/ 0.40| (5302)026/ 0.45| (5303)030/ 0.41| (5304)027/ 0.46| (5305)031/ 0.49| (5306)044/ 0.53| (5307)040/ 0.48| (5308)029/ 0.43| (5309)026/ 0.49| (5310)036/ 0.52| (5311)031/ 0.49| (5312)029/ 0.50| (5313)025/ 0.50| (5314)033/ 0.48| (5315)038/ 0.55| (5316)036/ 0.47| (5317)028/ 0.47| (5318)034/ 0.48| (5319)034/ 0.46| (5320)041/ 0.51| (5321)030/ 0.49| (5322)037/ 0.48| (5323)027/ 0.47| (5324)032/ 0.51| (5325)035/ 0.54| (5326)041/ 0.57| (5327)047/ 0.60| (5328)037/ 0.54| (5329)048/ 0.58| (5330)042/ 0.63| (5331)035/ 0.58| (5332)042/ 0.61| (5333)038/ 0.58| (5334)047/ 0.55| (5335)039/ 0.52| (5336)037/ 0.53| (5337)041/ 0.55| (5338)036/ 0.52| (5339)038/ 0.50| (5340)030/ 0.51| (5341)037/ 0.55| (5342)030/ 0.49| (5343)035/ 0.45| (5344)030/ 0.47| (5345)028/ 0.44| (5346)034/ 0.44| (5347)032/ 0.52| (5348)032/ 0.51| (5349)027/ 0.48| (5350)036/ 0.47| (5351)036/ 0.52| (5352)029/ 0.50| (5353)035/ 0.53| (5354)034/ 0.53| (5355)044/ 0.56| (5356)044/ 0.57| (5357)042/ 0.53| (5358)040/ 0.50| (5359)037/ 0.50| (5360)037/ 0.53| (5361)038/ 0.56| (5362)039/ 0.58| (5363)038/ 0.52| (5364)029/ 0.46| (5365)035/ 0.49| (5366)038/ 0.51| (5367)032/ 0.45| (5368)029/ 0.45| (5369)038/ 0.47| (5370)034/ 0.43| (5371)027/ 0.47| (5372)030/ 0.45| (5373)037/ 0.51| (5374)029/ 0.50| (5375)027/ 0.52| (5376)035/ 0.48| (5377)034/ 0.49| (5378)036/ 0.44| (5379)027/ 0.42| (5380)026/ 0.45| (5381)026/ 0.50| (5382)041/ 0.48| (5383)030/ 0.47| (5384)031/ 0.53| (5385)036/ 0.53| (5386)033/ 0.61| (5387)036/ 0.55| (5388)039/ 0.56| (5389)046/ 0.67| (5390)042/ 0.68| (5391)050/ 0.70| (5392)049/ 0.69| (5393)041/ 0.62| (5394)051/ 0.63| (5395)051/ 0.64| (5396)031/ 0.63| (5397)046/ 0.75| (5398)053/ 0.69| (5399)046/ 0.73| (5400)047/ 0.73| (5401)057/ 0.68| (5402)040/ 0.63| (5403)045/ 0.62| (5404)036/ 0.63| (5405)047/ 0.62| (5406)037/ 0.58| (5407)038/ 0.64| (5408)046/ 0.56| (5409)036/ 0.57| (5410)039/ 0.52| (5411)034/ 0.53| (5412)040/ 0.54| (5413)031/ 0.48| (5414)031/ 0.51| (5415)026/ 0.49| (5416)034/ 0.51| (5417)032/ 0.55| (5418)030/ 0.54| (5419)030/ 0.53| (5420)031/ 0.56| (5421)031/ 0.60| (5422)028/ 0.62| (5423)040/ 0.72| (5424)044/ 0.66| (5425)052/ 0.65| (5426)036/ 0.64| (5427)040/ 0.71| (5428)043/ 0.72| (5429)040/ 0.68| (5430)048/ 0.64| (5431)035/ 0.68| (5432)036/ 0.64| (5433)035/ 0.64| (5434)042/ 0.77| (5435)041/ 0.77| (5436)044/ 0.75| (5437)066/ 0.83| (5438)041/ 0.70| (5439)045/ 0.74| (5440)038/ 0.75| (5441)055/ 0.72| (5442)042/ 0.78| (5443)057/ 0.84| (5444)049/ 0.81| (5445)050/ 0.73| (5446)048/ 0.83| (5447)053/ 0.94| (5448)059/ 0.89| (5449)054/ 0.81| (5450)053/ 0.76| (5451)053/ 0.75| (5452)054/ 0.72| (5453)043/ 0.68| (5454)039/ 0.68| (5455)041/ 0.65| (5456)039/ 0.63| (5457)043/ 0.67| (5458)042/ 0.65| (5459)039/ 0.69| (5460)040/ 0.66| (5461)052/ 0.61| (5462)024/ 0.57| (5463)037/ 0.61| (5464)023/ 0.58| (5465)052/ 0.74| (5466)033/ 0.64| (5467)051/ 0.68| (5468)033/ 0.66| (5469)049/ 0.74| (5470)035/ 0.70| (5471)047/ 0.71| (5472)036/ 0.71| (5473)044/ 0.68| (5474)045/ 0.72| (5475)047/ 0.71| (5476)040/ 0.68| (5477)041/ 0.73| (5478)049/ 0.74| (5479)054/ 0.76| (5480)041/ 0.74| (5481)036/ 0.73| (5482)066/ 0.83| (5483)052/ 0.73| (5484)052/ 0.77| (5485)045/ 0.73| (5486)044/ 0.71| (5487)041/ 0.68| (5488)048/ 0.66| (5489)050/ 0.62| (5490)036/ 0.65| (5491)042/ 0.71| (5492)049/ 0.73| (5493)047/ 0.69| (5494)043/ 0.68| (5495)043/ 0.80| (5496)047/ 0.80| (5497)045/ 0.78| (5498)043/ 0.83| (5499)052/ 0.83| (5500)046/ 0.87| (5501)052/ 0.88| (5502)041/ 0.83| (5503)044/ 0.85| (5504)063/ 0.90| (5505)058/ 0.86| (5506)049/ 0.84| (5507)051/ 0.87| (5508)064/ 0.83| (5509)046/ 0.81| (5510)046/ 0.76| (5511)044/ 0.83| (5512)051/ 0.87| (5513)059/ 0.90| (5514)048/ 0.83| (5515)046/ 0.84| (5516)048/ 0.85| (5517)056/ 0.91| (5518)052/ 0.97| (5519)051/ 0.92| (5520)056/ 0.92| (5521)051/ 0.94| (5522)052/ 0.89| (5523)057/ 0.85| (5524)048/ 0.88| (5525)055/ 0.83| (5526)047/ 0.82| (5527)046/ 0.76| (5528)048/ 0.78| (5529)050/ 0.73| (5530)050/ 0.81| (5531)059/ 0.83| (5532)041/ 0.78| (5533)050/ 0.86| (5534)053/ 0.80| (5535)065/ 0.82| (5536)048/ 0.75| (5537)049/ 0.68| (5538)028/ 0.69| (5539)033/ 0.72| (5540)033/ 0.70| (5541)042/ 0.77| (5542)037/ 0.85| (5543)041/ 0.78| (5544)040/ 0.80| (5545)051/ 0.96| (5546)054/ 0.97| (5547)060/ 0.89| (5548)046/ 0.97| (5549)043/ 0.96| (5550)055/ 0.95| (5551)052/ 0.96| (5552)055/ 0.98| (5553)057/ 0.95| (5554)064/ 1.03| (5555)056/ 0.96| (5556)046/ 1.01| (5557)074/ 0.95| (5558)050/ 0.92| (5559)048/ 0.90| (5560)049/ 0.91| (5561)063/ 0.89| (5562)051/ 0.92| (5563)049/ 0.85| (5564)060/ 0.90| (5565)052/ 0.92| (5566)058/ 0.88| (5567)051/ 0.89| (5568)048/ 0.92| (5569)053/ 0.94| (5570)054/ 0.87| (5571)047/ 0.90| (5572)054/ 0.80| (5573)049/ 0.78| (5574)051/ 0.86| (5575)039/ 0.80| (5576)046/ 0.86| (5577)052/ 0.88| (5578)057/ 0.82| (5579)032/ 0.81| (5580)047/ 0.87| (5581)053/ 0.96| (5582)047/ 0.88| (5583)053/ 0.91| (5584)059/ 0.94| (5585)059/ 0.91| (5586)054/ 0.83| (5587)035/ 0.88| (5588)057/ 0.93| (5589)051/ 0.81| (5590)057/ 0.78| (5591)052/ 0.84| (5592)051/ 0.85| (5593)059/ 0.89| (5594)045/ 0.79| (5595)038/ 0.81| (5596)050/ 0.89| (5597)055/ 0.99| (5598)053/ 0.94| (5599)054/ 0.90| (5600)058/ 0.93| (5601)053/ 1.00| (5602)048/ 0.94| (5603)054/ 0.94| (5604)053/ 0.91| (5605)050/ 0.83| (5606)046/ 0.82| (5607)066/ 0.94| (5608)047/ 0.87| (5609)061/ 0.92| (5610)052/ 0.93| (5611)047/ 0.84| (5612)045/ 0.97| (5613)052/ 0.90| (5614)048/ 1.00| (5615)058/ 1.00| (5616)057/ 0.99| (5617)051/ 0.97| (5618)053/ 0.97| (5619)056/ 0.99| (5620)058/ 0.93| (5621)048/ 0.90| (5622)042/ 1.00| (5623)046/ 1.02| (5624)056/ 1.10| (5625)062/ 1.14| (5626)058/ 1.18| (5627)067/ 1.15| (5628)063/ 1.18| (5629)065/ 1.23| (5630)063/ 1.07| (5631)066/ 1.04| (5632)068/ 0.96| (5633)053/ 0.92| (5634)040/ 0.95| (5635)043/ 1.03| (5636)047/ 1.07| (5637)060/ 1.19| (5638)050/ 1.14| (5639)074/ 1.23| (5640)073/ 1.27| (5641)054/ 1.16| (5642)063/ 1.26| (5643)063/ 1.19| (5644)056/ 1.22| (5645)074/ 1.26| (5646)079/ 1.20| (5647)058/ 1.07| (5648)068/ 1.09| (5649)056/ 1.11| (5650)052/ 1.03| (5651)069/ 1.04| (5652)059/ 0.94| (5653)050/ 0.94| (5654)057/ 1.00| (5655)063/ 0.97| (5656)055/ 0.91| (5657)046/ 0.93| (5658)054/ 1.01| (5659)051/ 0.93| (5660)054/ 0.90| (5661)037/ 0.89| (5662)052/ 0.90| (5663)052/ 1.00| (5664)056/ 0.94| (5665)051/ 0.89| (5666)055/ 0.93| (5667)048/ 0.96| (5668)054/ 0.96| (5669)045/ 0.86| (5670)058/ 0.96| (5671)058/ 0.97| (5672)043/ 0.90| (5673)052/ 0.98| (5674)056/ 1.03| (5675)052/ 1.05| (5676)060/ 1.08| (5677)055/ 1.09| (5678)058/ 1.02| (5679)051/ 1.04| (5680)065/ 1.05| (5681)051/ 0.99| (5682)059/ 0.98| (5683)063/ 1.11| (5684)056/ 1.12| (5685)062/ 1.04| (5686)051/ 1.01| (5687)056/ 1.07| (5688)045/ 0.99| (5689)070/ 1.05| (5690)054/ 1.02| (5691)044/ 0.99| (5692)057/ 1.03| (5693)052/ 0.96| (5694)059/ 0.98| (5695)046/ 0.90| (5696)054/ 1.00| (5697)045/ 0.95| (5698)049/ 0.97| (5699)051/ 1.07| (5700)054/ 1.13| (5701)054/ 1.01| (5702)060/ 1.08| (5703)059/ 1.05| (5704)048/ 1.03| (5705)047/ 1.05| (5706)049/ 1.12| (5707)049/ 1.09| (5708)053/ 1.20| (5709)061/ 1.26| (5710)068/ 1.28| (5711)062/ 1.29| (5712)055/ 1.23| (5713)060/ 1.29| (5714)066/ 1.27| (5715)056/ 1.23| (5716)069/ 1.25| (5717)061/ 1.32| (5718)075/ 1.29| (5719)073/ 1.20| (5720)057/ 1.20| (5721)064/ 1.19| (5722)067/ 1.26| (5723)074/ 1.20| (5724)057/ 1.18| (5725)055/ 1.24| (5726)071/ 1.23| (5727)045/ 1.13| (5728)079/ 1.20| (5729)063/ 1.22| (5730)061/ 1.17| (5731)072/ 1.19| (5732)059/ 1.19| (5733)059/ 1.20| (5734)057/ 1.26| (5735)061/ 1.27| (5736)072/ 1.36| (5737)076/ 1.30| (5738)060/ 1.25| (5739)070/ 1.26| (5740)070/ 1.39| (5741)067/ 1.27| (5742)060/ 1.71| (5743)072/ 1.49| (5744)078/ 1.44| (5745)068/ 1.45| (5746)077/ 1.43| (5747)075/ 1.30| (5748)064/ 1.24| (5749)062/ 1.36| (5750)074/ 1.33| (5751)064/ 1.28| (5752)072/ 1.24| (5753)059/ 1.20| (5754)065/ 1.12| (5755)055/ 1.11| (5756)054/ 1.08| (5757)061/ 1.16| (5758)059/ 1.12| (5759)039/ 1.07| (5760)061/ 1.15| (5761)040/ 1.21| (5762)063/ 1.26| (5763)057/ 1.24| (5764)070/ 1.27| (5765)058/ 1.27| (5766)062/ 1.20| (5767)061/ 1.29| (5768)044/ 1.32| (5769)074/ 1.30| (5770)056/ 1.32| (5771)060/ 1.38| (5772)086/ 1.51| (5773)060/ 1.41| (5774)062/ 1.46| (5775)074/ 1.47| (5776)052/ 1.33| (5777)059/ 1.47| (5778)077/ 1.61| (5779)080/ 1.54| (5780)068/ 1.46| (5781)066/ 1.42| (5782)073/ 1.52| (5783)081/ 1.44| (5784)068/ 1.39| (5785)061/ 1.37| (5786)074/ 1.42| (5787)065/ 1.37| (5788)060/ 1.35| (5789)052/ 1.43| (5790)071/ 1.47| (5791)066/ 1.48| (5792)077/ 1.70| (5793)068/ 1.77| (5794)070/ 1.83| (5795)068/ 1.63| (5796)074/ 1.59| (5797)077/ 1.65| (5798)070/ 1.62| (5799)068/ 1.55| (5800)071/ 1.64| (5801)071/ 1.57| (5802)076/ 1.65| (5803)072/ 1.64| (5804)069/ 1.67| (5805)067/ 1.61| (5806)074/ 1.59| (5807)064/ 1.64| (5808)064/ 1.65| (5809)079/ 1.74| (5810)092/ 1.87| (5811)078/ 1.86| (5812)066/ 1.85| (5813)068/ 1.80| (5814)092/ 2.01| (5815)093/ 1.84| (5816)073/ 1.77| (5817)068/ 1.84| (5818)079/ 1.88| (5819)081/ 1.88| (5820)079/ 1.97| (5821)078/ 1.92| (5822)064/ 1.98| (5823)087/ 1.98| (5824)076/ 1.96| (5825)072/ 1.94| (5826)076/ 1.96| (5827)079/ 2.00| (5828)073/ 1.96| (5829)074/ 1.92| (5830)101/ 1.98| (5831)069/ 1.76| (5832)064/ 1.96| (5833)065/ 1.92| (5834)084/ 1.99| (5835)082/ 1.97| (5836)073/ 1.97| (5837)070/ 1.89| (5838)078/ 1.92| (5839)070/ 1.91| (5840)093/ 1.93| (5841)085/ 1.88| (5842)064/ 1.84| (5843)077/ 1.86| (5844)064/ 1.83| (5845)069/ 1.93| (5846)078/ 1.93| (5847)088/ 1.97| (5848)082/ 1.92| (5849)072/ 1.90| (5850)067/ 1.83| (5851)063/ 1.79| (5852)067/ 1.89| (5853)081/ 1.99| (5854)068/ 1.95| (5855)077/ 1.99| (5856)077/ 2.12| (5857)069/ 1.95| (5858)083/ 2.04| (5859)068/ 1.95| (5860)075/ 2.04| (5861)079/ 2.11| (5862)078/ 2.34| (5863)083/ 2.26| (5864)096/ 2.19| (5865)080/ 2.20| (5866)097/ 2.29| (5867)077/ 2.16| (5868)074/ 2.24| (5869)086/ 2.17| (5870)093/ 2.10| (5871)077/ 2.23| (5872)084/ 2.19| (5873)076/ 2.14| (5874)088/ 2.06| (5875)082/ 1.98| (5876)079/ 2.06| (5877)085/ 2.06| (5878)080/ 2.08| (5879)075/ 2.19| (5880)079/ 1.97| (5881)073/ 2.11| (5882)079/ 2.23| (5883)067/ 2.22| (5884)082/ 2.23| (5885)083/ 2.16| (5886)094/ 2.12| (5887)082/ 2.13| (5888)075/ 2.02| (5889)080/ 2.11| (5890)074/ 2.10| (5891)061/ 2.02| (5892)072/ 2.19| (5893)090/ 2.22| (5894)072/ 2.20| (5895)077/ 2.10| (5896)067/ 2.20| (5897)077/ 2.18| (5898)069/ 2.15| (5899)069/ 2.32| (5900)075/ 2.28| (5901)072/ 2.32| (5902)069/ 2.42| (5903)099/ 2.52|"
     ]
    }
   ],
   "source": [
    "depart = time()\n",
    "n = 0  \n",
    "while time() < depart + 3600 : \n",
    "    a         = time()\n",
    "    old_nb_trajet = sum([cycliste.nb_trajet for cycliste in cyclistes])\n",
    "    en_route = filter(lambda cycliste:     cycliste.sur_velo, cyclistes)\n",
    "    a_pied   = filter(lambda cycliste: not cycliste.sur_velo, cyclistes)\n",
    "    map(lambda cycliste: cycliste.rendre_velo(random.choice(stations)), en_route  )\n",
    "    map(lambda cycliste: cycliste.prend_velo(random.choice(stations)),  a_pied    )\n",
    "    new_nb_trajet =  sum([cycliste.nb_trajet for cycliste in cyclistes]) - old_nb_trajet\n",
    "    duree_totale = time()-a\n",
    "    print \"(%03d)%03d/% 3.2f|\"%(n, new_nb_trajet, duree_totale),\n",
    "\n",
    "    n += 1\n",
    "print \"*\"*30\n",
    "print \"fini\"\n",
    "print \"*\"*30"
   ]
  },
  {
   "cell_type": "code",
   "execution_count": null,
   "metadata": {
    "collapsed": true
   },
   "outputs": [],
   "source": []
  }
 ],
 "metadata": {
  "kernelspec": {
   "display_name": "Python 2",
   "language": "python",
   "name": "python2"
  },
  "language_info": {
   "codemirror_mode": {
    "name": "ipython",
    "version": 2
   },
   "file_extension": ".py",
   "mimetype": "text/x-python",
   "name": "python",
   "nbconvert_exporter": "python",
   "pygments_lexer": "ipython2",
   "version": "2.7.12"
  }
 },
 "nbformat": 4,
 "nbformat_minor": 0
}

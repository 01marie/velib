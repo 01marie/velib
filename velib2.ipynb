{
 "cells": [
  {
   "cell_type": "code",
   "execution_count": 1,
   "metadata": {
    "collapsed": false
   },
   "outputs": [],
   "source": [
    "from scipy.stats import norm\n",
    "from time import time\n",
    "import random    \n",
    "import pandas as pd"
   ]
  },
  {
   "cell_type": "markdown",
   "metadata": {},
   "source": [
    "# -1) Cycliste"
   ]
  },
  {
   "cell_type": "code",
   "execution_count": 2,
   "metadata": {
    "collapsed": false
   },
   "outputs": [],
   "source": [
    "class logger():\n",
    "    \"\"\"\n",
    "    Save data into memory (in an array) and write it down to a file after [nb_log] is reached.\n",
    "    \"\"\"\n",
    "    def __init__(self, path, limit_to_save_to_disk=100):\n",
    "        self.path    = path\n",
    "        self.limit   = limit_to_save_to_disk\n",
    "        self.logs    = []\n",
    "        self.nb_logs = 0\n",
    "        \n",
    "    def log(self, string):\n",
    "        self.logs.append(string)\n",
    "        self.nb_logs = self.nb_logs +1\n",
    "        if self.limit < self.nb_logs:\n",
    "            self.write_to_disk()\n",
    "    \n",
    "    def write_to_disk(self):\n",
    "        with open(self.path, \"a\") as f:\n",
    "            while len(self.logs):\n",
    "                try:\n",
    "                    a = self.logs.pop()\n",
    "                    f.write(u\"%s\\n\"%a.decode('ascii', errors='ignore'))\n",
    "                except:\n",
    "                    print \"pbm with \"\n",
    "                    print a\n",
    "        self.nb_logs = len(self.logs)\n",
    "    def __del__(self):\n",
    "        self.write_to_disk()\n",
    "        "
   ]
  },
  {
   "cell_type": "code",
   "execution_count": 3,
   "metadata": {
    "collapsed": false
   },
   "outputs": [
    {
     "name": "stdout",
     "output_type": "stream",
     "text": [
      "On branch master\r\n",
      "Your branch is up-to-date with 'origin/master'.\r\n",
      "Changes to be committed:\r\n",
      "  (use \"git reset HEAD <file>...\" to unstage)\r\n",
      "\r\n",
      "\t\u001b[32mmodified:   velib2.ipynb\u001b[m\r\n",
      "\r\n",
      "Changes not staged for commit:\r\n",
      "  (use \"git add/rm <file>...\" to update what will be committed)\r\n",
      "  (use \"git checkout -- <file>...\" to discard changes in working directory)\r\n",
      "\r\n",
      "\t\u001b[31mdeleted:    logs/.keep\u001b[m\r\n",
      "\r\n",
      "Untracked files:\r\n",
      "  (use \"git add <file>...\" to include in what will be committed)\r\n",
      "\r\n",
      "\t\u001b[31m.ipynb_checkpoints/\u001b[m\r\n",
      "\t\u001b[31mlogs/cycliste_cyclistes.csv\u001b[m\r\n",
      "\t\u001b[31mlogs/cycliste_debug.csv\u001b[m\r\n",
      "\t\u001b[31mlogs/cycliste_prises.csv\u001b[m\r\n",
      "\t\u001b[31mlogs/cycliste_rendu.csv\u001b[m\r\n",
      "\t\u001b[31mlogs/stations_dispos.csv\u001b[m\r\n",
      "\t\u001b[31mlogs_backup/\u001b[m\r\n",
      "\r\n"
     ]
    }
   ],
   "source": [
    "!git status\n"
   ]
  },
  {
   "cell_type": "code",
   "execution_count": 4,
   "metadata": {
    "collapsed": true
   },
   "outputs": [],
   "source": [
    "!git add scala_1.ipynb velib2.ipynb"
   ]
  },
  {
   "cell_type": "code",
   "execution_count": 221,
   "metadata": {
    "collapsed": false
   },
   "outputs": [],
   "source": [
    "class Cycliste:\n",
    "    def test(self):\n",
    "        print get_nearest_station(1,1)\n",
    "    def __init__(self, parameters):\n",
    "        import time\n",
    "        from scipy.stats import norm\n",
    "        import random\n",
    "        self.station_maison  = parameters[1]\n",
    "        self.station_travail = parameters[2]\n",
    "        homme   = \"homme\"\n",
    "        femme   = \"femme\"\n",
    "        age_min = 15\n",
    "        age_max = 80\n",
    "        sexe    = random.choice([homme, femme])\n",
    "        age     = random.randint(age_min ,age_max)\n",
    "        sportif = random.choice([-0.5, 0, 2, 4, 6 ])\n",
    "        if age < 35:\n",
    "            facteur = norm( loc =1.2, scale=0.2 )\n",
    "        elif age <50:\n",
    "            facteur = norm( loc =1  , scale=0.2 )\n",
    "        elif age <90:\n",
    "            facteur = norm( loc =0.7, scale=0.2 )\n",
    "\n",
    "        if sexe == homme:\n",
    "            vitesse_de_base = 20\n",
    "            nb_km = norm( loc =7, scale=2 )\n",
    "        else:\n",
    "            vitesse_de_base = 15\n",
    "            nb_km = norm( loc =10, scale=2 )\n",
    "        vitesse_moyenne = vitesse_de_base * facteur.rvs(1) + sportif\n",
    "        \n",
    "        self.sportif     = sportif\n",
    "        self.age         = age\n",
    "        self.sexe        = sexe\n",
    "        self.nb_km       = nb_km.rvs(1)[0]\n",
    "        self.vitesse     = vitesse_moyenne[0]\n",
    "        self.sur_velo    = False\n",
    "        self.debug       = False\n",
    "        self.nb_trajet   = 0\n",
    "        self.durees      = []\n",
    "        self.trajets     = []\n",
    "        self.velo        = False\n",
    "        self.identifiant = \"cycliste_%s\"%parameters[0]\n",
    "        self.prises      = []\n",
    "        self.attente         = random.randint(0,100)\n",
    "        self.last_rendu      = time.time()\n",
    "        self.logger_cycliste = logger(\"./logs/cycliste_cyclistes.csv\")\n",
    "        self.logger_prise    = logger(\"./logs/cycliste_prises.csv\")\n",
    "        self.logger_rendu    = logger(\"./logs/cycliste_rendu.csv\")\n",
    "        self.logger_debug    = logger(\"./logs/cycliste_debug.csv\")\n",
    "        self.a_la_maison = True\n",
    "        self.log_cycliste()\n",
    "        \n",
    "    def log_debug(self, message):\n",
    "        from time import time\n",
    "        to_print = u\"%s,%s,%s\"% (self.identifiant, time() , message)\n",
    "        self.logger_debug.log(to_print)\n",
    "    \n",
    "    def peut_prendre_velo(self, station):\n",
    "        \"\"\"\n",
    "        Renvoie un velo ou bien False.\n",
    "        \"\"\"\n",
    "        from time import time\n",
    "        if time() < self.attente + self.last_rendu:\n",
    "            self.log_debug(u\"trop tot\")\n",
    "            return False\n",
    "        if self.sur_velo:\n",
    "            self.log_debug(u\"deja sur velo\")\n",
    "            return False\n",
    "        for local_station in station.nearest:\n",
    "            velo = local_station.prendre_velo()\n",
    "            if not velo:\n",
    "                self.log_debug(u\"pas de velo sur la station %s \" % local_station)\n",
    "            else:\n",
    "                return velo \n",
    "        return False\n",
    "        \n",
    "    def prend_velo(self, station):\n",
    "        import time\n",
    "        if self.a_la_maison:\n",
    "            station = self.station_maison\n",
    "        else:\n",
    "            station = self.station_travail\n",
    "        \n",
    "        velo = self.peut_prendre_velo(station)\n",
    "        if not velo :\n",
    "            return\n",
    "        \n",
    "        velo.disponible      = False\n",
    "        self.sur_velo        = True\n",
    "        self.heure_de_depart = time.time()\n",
    "        self.velo            = velo\n",
    "        self.log_prise()\n",
    "        try:\n",
    "            nb_km_local          = norm( loc =self.nb_km, scale=self.nb_km/float(3) ).rvs(1)[0]\n",
    "        except Exception as e:\n",
    "            self.log_debug(u\"pbm sur nb_km_local = self.nb_km = %s \" %self.nb_km)\n",
    "            nb_km_local = 15\n",
    "        try:\n",
    "            vitesse_local        = norm(loc = self.vitesse, scale = self.vitesse/float(10)).rvs(1)[0]\n",
    "            vitesse_local        = vitesse_local * velo.performance\n",
    "        except:\n",
    "            self.log_debug(u\"pbm sur vitesse_local self.vitesse = %s\"%self.vitesse)\n",
    "            vitesse_local = self.vitesse\n",
    "            \n",
    "        self.nb_km_trajet    = nb_km_local\n",
    "        duree                = nb_km_local / vitesse_local\n",
    "        self.heure_d_arrivee = self.heure_de_depart + duree\n",
    "        \n",
    "        if velo.performance <0.1:\n",
    "            duree                = 0\n",
    "            self.durees.append( duree)\n",
    "            self.heure_d_arrivee =  self.heure_de_depart\n",
    "            self.nb_km_trajet    = 0\n",
    "            self.rendre_velo(station)\n",
    "        elif velo.performance <0.3:\n",
    "            duree                = duree / 10\n",
    "            self.durees.append( duree)\n",
    "            self.heure_d_arrivee =  self.heure_de_depart + duree\n",
    "            self.nb_km_trajet    = self.nb_km_trajet / float(10)\n",
    "            self.rendre_velo(station)\n",
    "        elif velo.performance <0.5:\n",
    "            duree                = duree / 5\n",
    "            self.durees.append( duree)\n",
    "            self.nb_km_trajet    = self.nb_km_trajet / float(5)\n",
    "            self.heure_d_arrivee =  self.heure_de_depart + duree \n",
    "        else:\n",
    "            self.durees.append( duree)\n",
    "\n",
    "\n",
    "\n",
    "\n",
    "    def rendre_velo(self, station):        \n",
    "        \n",
    "        import time\n",
    "        if not self.sur_velo:\n",
    "            if self.debug : print u\"pas en chemin\",\n",
    "            return 0\n",
    "        if time.time() > self.heure_d_arrivee:\n",
    "            if station.rendre_velo(self.velo, self.nb_km_trajet):\n",
    "                \n",
    "                #if self.debug : print \"plus sur velo\",\n",
    "                duree_constatee = self.heure_d_arrivee - self.heure_de_depart\n",
    "                trajet          = (self.heure_de_depart, self.heure_d_arrivee, self.identifiant, self.nb_km_trajet, self.velo.nom )\n",
    "                self.log_rendu()\n",
    "                self.a_la_maison = False\n",
    "                self.last_rendu = time.time()\n",
    "                self.sur_velo  = False\n",
    "                self.nb_trajet = self.nb_trajet + 1\n",
    "                self.velo      = False\n",
    "                self.trajets.append(trajet)\n",
    "                \n",
    "            else:\n",
    "                if self.debug : print u\"impossible de rendre sur station %s\"%(station),\n",
    "                pass\n",
    "        else:\n",
    "            if self.debug : print u\"pas encore arrive\",\n",
    "            pass\n",
    "        \n",
    "    def log_cycliste(self):\n",
    "        to_print = u\"%s,%s,%s,%s,%s,%s,%s\"%(    self.identifiant   ,self.sportif     ,\n",
    "                                                 self.age         ,self.sexe        ,\n",
    "                                                 self.nb_km       ,self.vitesse     , self.attente )\n",
    "        \n",
    "        self.logger_cycliste.log(to_print)\n",
    "            \n",
    "    def log_prise(self, action=\"prise\"):\n",
    "        to_print = u\"%s,%s,%s,%s\"%( self.identifiant,self.heure_de_depart, self.velo.nom, action)\n",
    "        self.logger_prise.log(to_print)\n",
    "            \n",
    "    def log_rendu(self, action=\"prise\"):\n",
    "        to_print = u\"%s,%s,%s,%s,%s\\n\"%( self.identifiant, self.heure_de_depart, \n",
    "                                       self.heure_d_arrivee,  self.nb_km_trajet, self.velo.nom )\n",
    "\n",
    "        self.logger_rendu.log(to_print)\n"
   ]
  },
  {
   "cell_type": "markdown",
   "metadata": {},
   "source": [
    "# -1) Velo"
   ]
  },
  {
   "cell_type": "code",
   "execution_count": 222,
   "metadata": {
    "collapsed": false
   },
   "outputs": [],
   "source": [
    "class Velo:\n",
    "\n",
    "    def __init__(self, nom, station):\n",
    "        from scipy.stats import norm\n",
    "        import time \n",
    "        self.nom          = nom\n",
    "        performance       = norm( loc =0.9, scale=0.2 )\n",
    "        self.performance  = performance.rvs(1)[0]\n",
    "        self.station      = station\n",
    "        self.degradation  = 0\n",
    "        self.performances = []\n",
    "        self.debug        = False\n",
    "        self.nb_km_trajet = 0\n",
    "        self.heures_rendu = []\n",
    "        self.disponible   = True\n",
    "        self.logger_reparation = logger(\"./logs/velo_reparations.csv\")\n",
    "        self.logger_etat       = logger(\"./logs/velos_etats.csv\")\n",
    "        self.probleme_list     = self.get_problemes_list()\n",
    "\n",
    "    def get_problemes_list(self):\n",
    "        \"\"\"\n",
    "        Créé le tableau de dégradations possible pour un vélo.\n",
    "        \"\"\"\n",
    "        problemes       = [0] * 50\n",
    "        problemes_bis   = {u\"pedale\" : 0.2, u\"roue\"  : 1 , u\"degonfle\" : 0.3, u\"freins\" : 0.05 , 0 : 0}\n",
    "        problemes.extend(problemes_bis.values())\n",
    "        return problemes\n",
    "        \n",
    "    def log_reparation(self):\n",
    "        import time\n",
    "        reparation =(self.nom,time.time(),self.performance)\n",
    "        to_print = u\"%s,%s,%s\"%reparation\n",
    "        self.logger_reparation.log(to_print)\n",
    "        \n",
    "\n",
    "    def log_etat(self):\n",
    "        from time import time\n",
    "        to_print = u\"%s,%s,%s,%s,%s\\n\"%(   self.nom           ,\n",
    "                                           time()            ,  \n",
    "                                           self.station.nom  ,\n",
    "                                           self.performance  ,\n",
    "                                           self.nb_km_trajet )\n",
    "        self.logger_etat.log(to_print)\n",
    "    \n",
    "    def rendu(self, station, nb_km_trajet):\n",
    "        import time\n",
    "        self.disponible = True\n",
    "        if self.debug : print(u\"velo %s rendu sur station %s\"%(self, station))\n",
    "            \n",
    "        degradation       = random.choice(self.probleme_list)        \n",
    "        self.performance  = self.performance - self.performance*degradation                                        \n",
    "        self.nb_km_trajet = self.nb_km_trajet + nb_km_trajet\n",
    "        self.station = station\n",
    "        self.log_etat()\n",
    "        if 900 < random.randint(0, 1000 ) :\n",
    "            self.performance  = 1\n",
    "            self.log_reparation()\n",
    "        \n",
    "        \n",
    "\n",
    "    def __str__(self):\n",
    "        return \"%s\"%self.nom\n",
    "\n"
   ]
  },
  {
   "cell_type": "markdown",
   "metadata": {},
   "source": [
    "# -1 ) Station"
   ]
  },
  {
   "cell_type": "code",
   "execution_count": 223,
   "metadata": {
    "collapsed": false
   },
   "outputs": [],
   "source": [
    "class Station:\n",
    "    def __init__(self, parameters, debug=False ):\n",
    "        \n",
    "        import random\n",
    "        import time\n",
    "        debut         = time.time()\n",
    "        self.position = parameters[1]\n",
    "        self.nom      = parameters[0]\n",
    "        self.nb_plot  = random.choice([10,15,20, 30])\n",
    "        self.nb_libre = 0 #random.randint(0, self.nb_plot )\n",
    "        self.nb_velos = self.nb_plot # - self.nb_libre\n",
    "        self.velos    = []\n",
    "        noms          = get_names()\n",
    "        \n",
    "        for n in range(self.nb_velos ):\n",
    "            nom_velo= u\"velo_\"+\"\".join([\"%s\"%x for x in random.choice(noms)])\n",
    "            self.velos.append(Velo(nom_velo , self))\n",
    "        \n",
    "        if debug : print u\"created %s velos\"%len(self.velos),\n",
    "        self.debug          = False\n",
    "        self.avaries        = []\n",
    "        self.arrete         = False\n",
    "        duree               = time.time() - debut\n",
    "        if debug : print u\"station créée en %s\"%duree\n",
    "        \n",
    "        self.logger_dispos = logger(\"./logs/stations_dispos.csv\")\n",
    "        self.logger_reparation = logger(\"./logs/stations_reparations.csv\")\n",
    "        self.logger_avarie = logger(\"./logs/stations_avarie.csv\")\n",
    "        \n",
    "        self.liste_d_avaries = self.get_avarie_list()\n",
    "        self.log_dispo()\n",
    "\n",
    "\n",
    "\n",
    "    def log_reparation(self):\n",
    "        from time import time\n",
    "        dispo =(self.nom, time(),self.nb_plot, self.nb_libre, self.nb_velos)\n",
    "        to_print = u\"%s,%s,%s,%s,%s\"%dispo\n",
    "        self.logger_reparation.log(to_print)\n",
    "            \n",
    "            \n",
    "    def log_dispo(self):\n",
    "        from time import time\n",
    "        dispo =(self.nom,time(),self.nb_plot, self.nb_libre, self.nb_velos)\n",
    "        to_print = u\"%s,%s,%s,%s,%s\"%dispo\n",
    "        self.logger_dispos.log(to_print)\n",
    "            \n",
    "    def log_avarie(self, avarie):\n",
    "        from time import time\n",
    "        to_print = u\"%s,%s,%s\"%(self.nom, time(), avarie )\n",
    "        self.logger_avarie.log(to_print)\n",
    "\n",
    "        \n",
    "    def get_avarie_list(self):\n",
    "        avaries     = [0]*100000\n",
    "        plot        = u\"plot mort\"\n",
    "        half        = u\"50% mort\"\n",
    "        network     = u\"reseau\"\n",
    "        electricite = u\"eteint\"\n",
    "        bug         = u\"bug\"\n",
    "        problemes   = { plot       : 20 ,\n",
    "                       half        : 10 ,\n",
    "                       network     :  5 ,\n",
    "                       electricite : 30 , \n",
    "                       bug         :  3 }\n",
    "        \n",
    "        for k,v in problemes.iteritems():\n",
    "            avaries.extend([k] * v)\n",
    "        return avaries\n",
    "    \n",
    "    def avarie_possible(self):\n",
    "        import math\n",
    "        import random\n",
    "        import time\n",
    "        \n",
    "        plot        = u\"plot mort\"\n",
    "        half        = u\"50% mort\"\n",
    "        network     = u\"reseau\"\n",
    "        electricite = u\"eteint\"\n",
    "        bug         = u\"bug\"\n",
    "        \n",
    "        avaries = list(self.liste_d_avaries)\n",
    "        if plot in self.avaries : avaries.extend( [plot] * 60 )\n",
    "        if half in self.avaries : avaries.extend( [half] *100 )\n",
    "        \n",
    "        avarie = random.choice(avaries)\n",
    "        self.avaries.extend([avarie])\n",
    "        if avarie == plot :\n",
    "            self.nb_libre = self.nb_libre -1\n",
    "        elif avarie == half:\n",
    "            self.nb_libre = math.floor(self.nb_libre - (self.nb_plot / float(2)))\n",
    "        elif avarie == network :\n",
    "            self.nb_libre = 0\n",
    "            self.arrete = True\n",
    "        elif avarie == electricite :\n",
    "            self.nb_libre = 0\n",
    "            self.arrete = True\n",
    "        elif avarie == bug :\n",
    "            if self.nb_libre >0:\n",
    "                self.nb_libre = self.nb_libre - random.randint(0, self.nb_libre)\n",
    "        if self.nb_libre <0:\n",
    "            self.nb_libre = 0            \n",
    "        self.log_dispo()\n",
    "        \n",
    "        if avarie:\n",
    "            self.log_avarie(\"%s\"%avarie)\n",
    "            \n",
    "    def rendre_velo(self, velo, nb_km_trajet):\n",
    "        import time\n",
    "        self.avarie_possible()\n",
    "        if self.nb_libre >0:\n",
    "            self.velos.append(velo)\n",
    "            velo.rendu(self, nb_km_trajet)\n",
    "            self.nb_velos = len(self.velos)\n",
    "            self.nb_libre = self.nb_libre - 1\n",
    "            self.log_dispo()\n",
    "            return 1\n",
    "        if 9500 < random.randint(0, 10000 ) :\n",
    "            self.nb_libre = self.nb_plot - self.nb_velos\n",
    "            self.log_reparation()\n",
    "            \n",
    "        return 0\n",
    "\n",
    "    def prendre_velo(self):\n",
    "        \"\"\"\n",
    "        retourne un vélo ou 0 en cas d'erreur.\n",
    "        \"\"\"\n",
    "        import time\n",
    "        self.avarie_possible()\n",
    "        if self.velos and not self.arrete :\n",
    "            to_return     = self.velos.pop()\n",
    "            self.nb_velos = len(self.velos)\n",
    "            self.nb_libre = self.nb_libre + 1\n",
    "            self.log_dispo()\n",
    "            return to_return\n",
    "\n",
    "        return 0\n",
    "    def get_nearest_station(self):\n",
    "        x = self.position[0]\n",
    "        y = self.position[1]\n",
    "        deplacement_x = [-1, 0, 1]\n",
    "        deplacement_y = [-1, 0, 1]\n",
    "        deplacements  = [ (x_proche , y_proche) for x_proche in deplacement_x for y_proche in  deplacement_y if x_proche or y_proche]\n",
    "        positions_proches = [(x +  a , y +  b) for a,b in  deplacements ]\n",
    "        nearests = []\n",
    "        for x2, y2 in positions_proches:\n",
    "            if x2 + x < 0 or y2 + y < 0:\n",
    "                continue \n",
    "            position_la_plus_proche = x2 * cote_len  + y2\n",
    "            if 0 <= position_la_plus_proche and position_la_plus_proche < len(stations):\n",
    "                nearests.append(stations[position_la_plus_proche])\n",
    "        return nearests\n",
    "        \n",
    "                \n",
    "    def __str__(self):\n",
    "        return u\"station %s : self.nb_libre = %s, self.nb_velos =%s \"%(self.nom,self.nb_libre, self.nb_velos)\n"
   ]
  },
  {
   "cell_type": "markdown",
   "metadata": {},
   "source": [
    "# 0) get_names"
   ]
  },
  {
   "cell_type": "code",
   "execution_count": 224,
   "metadata": {
    "collapsed": false
   },
   "outputs": [],
   "source": [
    "def get_names(nb_lettres=5, nb_noms = 15000, prefix=\"\"):\n",
    "    \"\"\"\n",
    "    retourne n mot de nb_lettres avec prefix.\n",
    "    \"\"\"\n",
    "    import itertools\n",
    "    from random import shuffle\n",
    "    lettres = \"azertyuiopqsdfghjklmwxcvbn1234567890\"\n",
    "    names   = []\n",
    "    for i in itertools.combinations(lettres, nb_lettres):\n",
    "        name = \"\".join(i)\n",
    "        name = prefix + name\n",
    "        names.append(name)\n",
    "        nb_noms = nb_noms -1\n",
    "        if nb_noms <2:\n",
    "            break\n",
    "    shuffle(names)\n",
    "    return names"
   ]
  },
  {
   "cell_type": "markdown",
   "metadata": {},
   "source": [
    "# 0) création des stations"
   ]
  },
  {
   "cell_type": "code",
   "execution_count": 225,
   "metadata": {
    "collapsed": true
   },
   "outputs": [],
   "source": [
    "import math"
   ]
  },
  {
   "cell_type": "code",
   "execution_count": 226,
   "metadata": {
    "collapsed": false
   },
   "outputs": [],
   "source": [
    "deplacement_x = [-1, 0, 1]\n",
    "deplacement_y = [-1, 0, 1]"
   ]
  },
  {
   "cell_type": "code",
   "execution_count": 227,
   "metadata": {
    "collapsed": false
   },
   "outputs": [
    {
     "name": "stdout",
     "output_type": "stream",
     "text": [
      "duree = 0.771585941315 pour 755 cree soit 0.00102196813419 sec / unite\n"
     ]
    }
   ],
   "source": [
    "from time import time\n",
    "import multiprocessing\n",
    "nb_cpu       = 4\n",
    "nb_station   = 40\n",
    "debut        = time()\n",
    "process_pool = multiprocessing.Pool(nb_cpu)\n",
    "debut        = time()\n",
    "names        = get_names()\n",
    "cote_len     = int(math.ceil(math.sqrt(nb_station)))\n",
    "positions    = [ (longitude, lattitude) for longitude in range(cote_len) for lattitude in range(cote_len)]\n",
    "parameters   = [(names[i], positions[i]) for i in range(nb_station)]\n",
    "stations     = process_pool.map(Station, parameters)\n",
    "for x in stations:\n",
    "    x.nearest = x.get_nearest_station()\n",
    "nb_velos     = sum([len(station.velos) for station in stations])\n",
    "duree = time() - debut\n",
    "print \"duree = %s pour %s cree soit %s sec / unite\"%(duree, nb_velos, duree/nb_velos)\n"
   ]
  },
  {
   "cell_type": "markdown",
   "metadata": {},
   "source": [
    "# Creation des cycliste"
   ]
  },
  {
   "cell_type": "code",
   "execution_count": 228,
   "metadata": {
    "collapsed": false
   },
   "outputs": [],
   "source": [
    "aller_a = []\n",
    "probas  = {}\n",
    "n = -1\n",
    "for station in stations:\n",
    "    n = n + 1\n",
    "    milieu      =  cote_len / 2 \n",
    "    centre      = (milieu, milieu)\n",
    "    adjacent_1  = (station.position[0] - milieu)\n",
    "    adjacent_2  = (station.position[1] - milieu)\n",
    "    hypothenuse = math.sqrt( adjacent_1*adjacent_1 + adjacent_2 *adjacent_2 ) \n",
    "    probas      = int(math.ceil(milieu - math.floor(hypothenuse) + 2))\n",
    "    aller_a.extend([station]*probas)    "
   ]
  },
  {
   "cell_type": "code",
   "execution_count": 229,
   "metadata": {
    "collapsed": false
   },
   "outputs": [
    {
     "name": "stdout",
     "output_type": "stream",
     "text": [
      "duree = 0.771585941315 pour 755 cree soit 0.00102196813419 sec / unite\n"
     ]
    }
   ],
   "source": [
    "n = 4\n",
    "process_pool = multiprocessing.Pool(n)\n",
    "names        = get_names(5, nb_velos*1.2)\n",
    "noms         = [(names[i], random.choice(stations), random.choice(aller_a)) for i in range(nb_velos)]\n",
    "del names\n",
    "cyclistes   = process_pool.map(Cycliste, noms)\n",
    "print \"duree = %s pour %s cree soit %s sec / unite\"%(duree, len(cyclistes), duree/nb_velos)\n"
   ]
  },
  {
   "cell_type": "markdown",
   "metadata": {},
   "source": [
    "# voyages"
   ]
  },
  {
   "cell_type": "code",
   "execution_count": 230,
   "metadata": {
    "collapsed": false
   },
   "outputs": [],
   "source": [
    "from time import time\n",
    "import multiprocessing\n",
    "import math\n",
    "from time import time"
   ]
  },
  {
   "cell_type": "code",
   "execution_count": 231,
   "metadata": {
    "collapsed": true
   },
   "outputs": [],
   "source": [
    "!rm ./logs/*"
   ]
  },
  {
   "cell_type": "code",
   "execution_count": 232,
   "metadata": {
    "collapsed": false,
    "scrolled": true
   },
   "outputs": [
    {
     "name": "stdout",
     "output_type": "stream",
     "text": [
      "(000)000/ 0.76| (001)000/ 0.08| (002)000/ 0.09| (003)000/ 0.11| (004)000/ 0.13| (005)000/ 0.14| (006)000/ 0.16| (007)000/ 0.17| (008)000/ 0.18| (009)000/ 0.19| (010)000/ 0.19| (011)000/ 0.21| (012)000/ 0.21| (013)000/ 0.29| (014)000/ 0.25| (015)000/ 0.29| (016)000/ 0.26| (017)000/ 0.33| (018)000/ 0.27| (019)000/ 0.28| (020)000/ 0.29| (021)000/ 0.26| (022)000/ 0.28| (023)000/ 0.29| (024)000/ 0.28| (025)000/ 0.28| (026)000/ 0.27| (027)000/ 0.28| (028)000/ 0.28| (029)000/ 0.30| (030)000/ 0.31| (031)000/ 0.31| (032)000/ 0.33| (033)000/ 0.34| (034)000/ 0.33| (035)000/ 0.32| (036)000/ 0.33| (037)000/ 0.33| (038)000/ 0.34| (039)000/ 0.35| (040)000/ 0.36| (041)000/ 0.38| (042)000/ 0.37| (043)000/ 0.38| (044)000/ 0.37| (045)000/ 0.38| (046)000/ 0.37| (047)000/ 0.39| (048)000/ 0.42| (049)000/ 0.41| (050)000/ 0.45| (051)000/ 0.44| (052)000/ 0.44| (053)000/ 0.44|"
     ]
    },
    {
     "ename": "KeyboardInterrupt",
     "evalue": "",
     "output_type": "error",
     "traceback": [
      "\u001b[1;31m---------------------------------------------------------------------------\u001b[0m",
      "\u001b[1;31mKeyboardInterrupt\u001b[0m                         Traceback (most recent call last)",
      "\u001b[1;32m<ipython-input-232-43000b73701c>\u001b[0m in \u001b[0;36m<module>\u001b[1;34m()\u001b[0m\n\u001b[0;32m      6\u001b[0m     \u001b[0men_route\u001b[0m \u001b[1;33m=\u001b[0m \u001b[0mfilter\u001b[0m\u001b[1;33m(\u001b[0m\u001b[1;32mlambda\u001b[0m \u001b[0mcycliste\u001b[0m\u001b[1;33m:\u001b[0m     \u001b[0mcycliste\u001b[0m\u001b[1;33m.\u001b[0m\u001b[0msur_velo\u001b[0m\u001b[1;33m,\u001b[0m \u001b[0mcyclistes\u001b[0m\u001b[1;33m)\u001b[0m\u001b[1;33m\u001b[0m\u001b[0m\n\u001b[0;32m      7\u001b[0m     \u001b[0ma_pied\u001b[0m   \u001b[1;33m=\u001b[0m \u001b[0mfilter\u001b[0m\u001b[1;33m(\u001b[0m\u001b[1;32mlambda\u001b[0m \u001b[0mcycliste\u001b[0m\u001b[1;33m:\u001b[0m \u001b[1;32mnot\u001b[0m \u001b[0mcycliste\u001b[0m\u001b[1;33m.\u001b[0m\u001b[0msur_velo\u001b[0m\u001b[1;33m,\u001b[0m \u001b[0mcyclistes\u001b[0m\u001b[1;33m)\u001b[0m\u001b[1;33m\u001b[0m\u001b[0m\n\u001b[1;32m----> 8\u001b[1;33m     \u001b[0mmap\u001b[0m\u001b[1;33m(\u001b[0m\u001b[1;32mlambda\u001b[0m \u001b[0mcycliste\u001b[0m\u001b[1;33m:\u001b[0m \u001b[0mcycliste\u001b[0m\u001b[1;33m.\u001b[0m\u001b[0mrendre_velo\u001b[0m\u001b[1;33m(\u001b[0m\u001b[0mrandom\u001b[0m\u001b[1;33m.\u001b[0m\u001b[0mchoice\u001b[0m\u001b[1;33m(\u001b[0m\u001b[0mstations\u001b[0m\u001b[1;33m)\u001b[0m\u001b[1;33m)\u001b[0m\u001b[1;33m,\u001b[0m \u001b[0men_route\u001b[0m  \u001b[1;33m)\u001b[0m\u001b[1;33m\u001b[0m\u001b[0m\n\u001b[0m\u001b[0;32m      9\u001b[0m     \u001b[0mmap\u001b[0m\u001b[1;33m(\u001b[0m\u001b[1;32mlambda\u001b[0m \u001b[0mcycliste\u001b[0m\u001b[1;33m:\u001b[0m \u001b[0mcycliste\u001b[0m\u001b[1;33m.\u001b[0m\u001b[0mprend_velo\u001b[0m\u001b[1;33m(\u001b[0m\u001b[0mrandom\u001b[0m\u001b[1;33m.\u001b[0m\u001b[0mchoice\u001b[0m\u001b[1;33m(\u001b[0m\u001b[0mstations\u001b[0m\u001b[1;33m)\u001b[0m\u001b[1;33m)\u001b[0m\u001b[1;33m,\u001b[0m  \u001b[0ma_pied\u001b[0m    \u001b[1;33m)\u001b[0m\u001b[1;33m\u001b[0m\u001b[0m\n\u001b[0;32m     10\u001b[0m     \u001b[0mnew_nb_trajet\u001b[0m \u001b[1;33m=\u001b[0m  \u001b[0msum\u001b[0m\u001b[1;33m(\u001b[0m\u001b[1;33m[\u001b[0m\u001b[0mcycliste\u001b[0m\u001b[1;33m.\u001b[0m\u001b[0mnb_trajet\u001b[0m \u001b[1;32mfor\u001b[0m \u001b[0mcycliste\u001b[0m \u001b[1;32min\u001b[0m \u001b[0mcyclistes\u001b[0m\u001b[1;33m]\u001b[0m\u001b[1;33m)\u001b[0m \u001b[1;33m-\u001b[0m \u001b[0mold_nb_trajet\u001b[0m\u001b[1;33m\u001b[0m\u001b[0m\n",
      "\u001b[1;32m<ipython-input-232-43000b73701c>\u001b[0m in \u001b[0;36m<lambda>\u001b[1;34m(cycliste)\u001b[0m\n\u001b[0;32m      6\u001b[0m     \u001b[0men_route\u001b[0m \u001b[1;33m=\u001b[0m \u001b[0mfilter\u001b[0m\u001b[1;33m(\u001b[0m\u001b[1;32mlambda\u001b[0m \u001b[0mcycliste\u001b[0m\u001b[1;33m:\u001b[0m     \u001b[0mcycliste\u001b[0m\u001b[1;33m.\u001b[0m\u001b[0msur_velo\u001b[0m\u001b[1;33m,\u001b[0m \u001b[0mcyclistes\u001b[0m\u001b[1;33m)\u001b[0m\u001b[1;33m\u001b[0m\u001b[0m\n\u001b[0;32m      7\u001b[0m     \u001b[0ma_pied\u001b[0m   \u001b[1;33m=\u001b[0m \u001b[0mfilter\u001b[0m\u001b[1;33m(\u001b[0m\u001b[1;32mlambda\u001b[0m \u001b[0mcycliste\u001b[0m\u001b[1;33m:\u001b[0m \u001b[1;32mnot\u001b[0m \u001b[0mcycliste\u001b[0m\u001b[1;33m.\u001b[0m\u001b[0msur_velo\u001b[0m\u001b[1;33m,\u001b[0m \u001b[0mcyclistes\u001b[0m\u001b[1;33m)\u001b[0m\u001b[1;33m\u001b[0m\u001b[0m\n\u001b[1;32m----> 8\u001b[1;33m     \u001b[0mmap\u001b[0m\u001b[1;33m(\u001b[0m\u001b[1;32mlambda\u001b[0m \u001b[0mcycliste\u001b[0m\u001b[1;33m:\u001b[0m \u001b[0mcycliste\u001b[0m\u001b[1;33m.\u001b[0m\u001b[0mrendre_velo\u001b[0m\u001b[1;33m(\u001b[0m\u001b[0mrandom\u001b[0m\u001b[1;33m.\u001b[0m\u001b[0mchoice\u001b[0m\u001b[1;33m(\u001b[0m\u001b[0mstations\u001b[0m\u001b[1;33m)\u001b[0m\u001b[1;33m)\u001b[0m\u001b[1;33m,\u001b[0m \u001b[0men_route\u001b[0m  \u001b[1;33m)\u001b[0m\u001b[1;33m\u001b[0m\u001b[0m\n\u001b[0m\u001b[0;32m      9\u001b[0m     \u001b[0mmap\u001b[0m\u001b[1;33m(\u001b[0m\u001b[1;32mlambda\u001b[0m \u001b[0mcycliste\u001b[0m\u001b[1;33m:\u001b[0m \u001b[0mcycliste\u001b[0m\u001b[1;33m.\u001b[0m\u001b[0mprend_velo\u001b[0m\u001b[1;33m(\u001b[0m\u001b[0mrandom\u001b[0m\u001b[1;33m.\u001b[0m\u001b[0mchoice\u001b[0m\u001b[1;33m(\u001b[0m\u001b[0mstations\u001b[0m\u001b[1;33m)\u001b[0m\u001b[1;33m)\u001b[0m\u001b[1;33m,\u001b[0m  \u001b[0ma_pied\u001b[0m    \u001b[1;33m)\u001b[0m\u001b[1;33m\u001b[0m\u001b[0m\n\u001b[0;32m     10\u001b[0m     \u001b[0mnew_nb_trajet\u001b[0m \u001b[1;33m=\u001b[0m  \u001b[0msum\u001b[0m\u001b[1;33m(\u001b[0m\u001b[1;33m[\u001b[0m\u001b[0mcycliste\u001b[0m\u001b[1;33m.\u001b[0m\u001b[0mnb_trajet\u001b[0m \u001b[1;32mfor\u001b[0m \u001b[0mcycliste\u001b[0m \u001b[1;32min\u001b[0m \u001b[0mcyclistes\u001b[0m\u001b[1;33m]\u001b[0m\u001b[1;33m)\u001b[0m \u001b[1;33m-\u001b[0m \u001b[0mold_nb_trajet\u001b[0m\u001b[1;33m\u001b[0m\u001b[0m\n",
      "\u001b[1;32m<ipython-input-221-cb2d7fd4bfe9>\u001b[0m in \u001b[0;36mrendre_velo\u001b[1;34m(self, station)\u001b[0m\n\u001b[0;32m    138\u001b[0m             \u001b[1;32mreturn\u001b[0m \u001b[1;36m0\u001b[0m\u001b[1;33m\u001b[0m\u001b[0m\n\u001b[0;32m    139\u001b[0m         \u001b[1;32mif\u001b[0m \u001b[0mtime\u001b[0m\u001b[1;33m.\u001b[0m\u001b[0mtime\u001b[0m\u001b[1;33m(\u001b[0m\u001b[1;33m)\u001b[0m \u001b[1;33m>\u001b[0m \u001b[0mself\u001b[0m\u001b[1;33m.\u001b[0m\u001b[0mheure_d_arrivee\u001b[0m\u001b[1;33m:\u001b[0m\u001b[1;33m\u001b[0m\u001b[0m\n\u001b[1;32m--> 140\u001b[1;33m             \u001b[1;32mif\u001b[0m \u001b[0mstation\u001b[0m\u001b[1;33m.\u001b[0m\u001b[0mrendre_velo\u001b[0m\u001b[1;33m(\u001b[0m\u001b[0mself\u001b[0m\u001b[1;33m.\u001b[0m\u001b[0mvelo\u001b[0m\u001b[1;33m,\u001b[0m \u001b[0mself\u001b[0m\u001b[1;33m.\u001b[0m\u001b[0mnb_km_trajet\u001b[0m\u001b[1;33m)\u001b[0m\u001b[1;33m:\u001b[0m\u001b[1;33m\u001b[0m\u001b[0m\n\u001b[0m\u001b[0;32m    141\u001b[0m \u001b[1;33m\u001b[0m\u001b[0m\n\u001b[0;32m    142\u001b[0m                 \u001b[1;31m#if self.debug : print \"plus sur velo\",\u001b[0m\u001b[1;33m\u001b[0m\u001b[1;33m\u001b[0m\u001b[0m\n",
      "\u001b[1;31mKeyboardInterrupt\u001b[0m: "
     ]
    }
   ],
   "source": [
    "depart = time()\n",
    "n = 0  \n",
    "while time() < depart + 3600 : \n",
    "    a         = time()\n",
    "    old_nb_trajet = sum([cycliste.nb_trajet for cycliste in cyclistes])\n",
    "    en_route = filter(lambda cycliste:     cycliste.sur_velo, cyclistes)\n",
    "    a_pied   = filter(lambda cycliste: not cycliste.sur_velo, cyclistes)\n",
    "    map(lambda cycliste: cycliste.rendre_velo(random.choice(stations)), en_route  )\n",
    "    map(lambda cycliste: cycliste.prend_velo(random.choice(stations)),  a_pied    )\n",
    "    new_nb_trajet =  sum([cycliste.nb_trajet for cycliste in cyclistes]) - old_nb_trajet\n",
    "    duree_totale = time()-a\n",
    "    print \"(%03d)%03d/% 3.2f|\"%(n, new_nb_trajet, duree_totale),\n",
    "\n",
    "    n += 1\n",
    "print \"*\"*30\n",
    "print \"fini\"\n",
    "print \"*\"*30"
   ]
  },
  {
   "cell_type": "code",
   "execution_count": null,
   "metadata": {
    "collapsed": true
   },
   "outputs": [],
   "source": []
  }
 ],
 "metadata": {
  "kernelspec": {
   "display_name": "Python 2",
   "language": "python",
   "name": "python2"
  },
  "language_info": {
   "codemirror_mode": {
    "name": "ipython",
    "version": 2
   },
   "file_extension": ".py",
   "mimetype": "text/x-python",
   "name": "python",
   "nbconvert_exporter": "python",
   "pygments_lexer": "ipython2",
   "version": "2.7.12"
  }
 },
 "nbformat": 4,
 "nbformat_minor": 0
}

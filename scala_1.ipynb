{
 "cells": [
  {
   "cell_type": "code",
   "execution_count": 1,
   "metadata": {
    "collapsed": false
   },
   "outputs": [
    {
     "name": "stdout",
     "output_type": "stream",
     "text": [
      "ready\n"
     ]
    }
   ],
   "source": [
    "println(\"ready\")"
   ]
  },
  {
   "cell_type": "markdown",
   "metadata": {},
   "source": [
    "# -3) vérifier que le spark context est disponible"
   ]
  },
  {
   "cell_type": "code",
   "execution_count": 2,
   "metadata": {
    "collapsed": false
   },
   "outputs": [
    {
     "data": {
      "text/plain": [
       "org.apache.spark.SparkContext@65ac2d42"
      ]
     },
     "execution_count": 2,
     "metadata": {},
     "output_type": "execute_result"
    }
   ],
   "source": [
    "sc"
   ]
  },
  {
   "cell_type": "markdown",
   "metadata": {},
   "source": [
    "# -2) imports"
   ]
  },
  {
   "cell_type": "code",
   "execution_count": 3,
   "metadata": {
    "collapsed": true
   },
   "outputs": [],
   "source": [
    "import org.apache.spark.SparkContext\n",
    "import org.apache.spark.SparkContext\n",
    "import org.apache.spark.SparkConf"
   ]
  },
  {
   "cell_type": "markdown",
   "metadata": {},
   "source": [
    "# -1) refaire un spark context personnalisé"
   ]
  },
  {
   "cell_type": "code",
   "execution_count": 4,
   "metadata": {
    "collapsed": false
   },
   "outputs": [
    {
     "data": {
      "text/plain": [
       "org.apache.spark.SparkConf@40908e3f"
      ]
     },
     "execution_count": 4,
     "metadata": {},
     "output_type": "execute_result"
    }
   ],
   "source": [
    "val appName = \"rennes\"\n",
    "val master  = \"local[3]\"\n",
    "val conf    = new SparkConf()\n",
    "conf.setAppName(appName)\n",
    "conf.setMaster(master)\n"
   ]
  },
  {
   "cell_type": "code",
   "execution_count": 5,
   "metadata": {
    "collapsed": false
   },
   "outputs": [],
   "source": [
    "sc.stop()\n",
    "val sc = new SparkContext(conf)"
   ]
  },
  {
   "cell_type": "code",
   "execution_count": 7,
   "metadata": {
    "collapsed": false
   },
   "outputs": [
    {
     "data": {
      "text/plain": [
       "local[3]"
      ]
     },
     "execution_count": 7,
     "metadata": {},
     "output_type": "execute_result"
    }
   ],
   "source": [
    "sc.master"
   ]
  },
  {
   "cell_type": "markdown",
   "metadata": {},
   "source": [
    "# 1) Créer une première rdd"
   ]
  },
  {
   "cell_type": "markdown",
   "metadata": {},
   "source": [
    "## 1.1) lecture d'un fichier"
   ]
  },
  {
   "cell_type": "code",
   "execution_count": 167,
   "metadata": {
    "collapsed": false
   },
   "outputs": [],
   "source": [
    "val cyclistes = sc.textFile(\"./logs_backup/cycliste_cyclistes.csv\")"
   ]
  },
  {
   "cell_type": "code",
   "execution_count": 170,
   "metadata": {
    "collapsed": false
   },
   "outputs": [
    {
     "data": {
      "text/plain": [
       "1764"
      ]
     },
     "execution_count": 170,
     "metadata": {},
     "output_type": "execute_result"
    }
   ],
   "source": [
    "cyclistes.count()"
   ]
  },
  {
   "cell_type": "code",
   "execution_count": 171,
   "metadata": {
    "collapsed": false
   },
   "outputs": [
    {
     "data": {
      "text/plain": [
       "Array(cycliste_azetu,6,31,femme,8.11111516393,21.9593538999,100, cycliste_aztv4,2,19,femme,10.5299319612,22.1102025653,8)"
      ]
     },
     "execution_count": 171,
     "metadata": {},
     "output_type": "execute_result"
    }
   ],
   "source": [
    "cyclistes.take(2)"
   ]
  },
  {
   "cell_type": "code",
   "execution_count": 172,
   "metadata": {
    "collapsed": false
   },
   "outputs": [],
   "source": [
    "val velos = sc.textFile(\"./logs_backup/velos_etats.csv\")"
   ]
  },
  {
   "cell_type": "code",
   "execution_count": 173,
   "metadata": {
    "collapsed": false
   },
   "outputs": [
    {
     "data": {
      "text/plain": [
       "Array(velo_azem4,1485439420.58,azf38,0.95,97.3984151307)"
      ]
     },
     "execution_count": 173,
     "metadata": {},
     "output_type": "execute_result"
    }
   ],
   "source": [
    "velos.take(1)"
   ]
  },
  {
   "cell_type": "markdown",
   "metadata": {},
   "source": [
    "# 1.2) filtrer"
   ]
  },
  {
   "cell_type": "code",
   "execution_count": 174,
   "metadata": {
    "collapsed": false
   },
   "outputs": [],
   "source": [
    "val velos2 = velos.filter(!_.isEmpty() )"
   ]
  },
  {
   "cell_type": "code",
   "execution_count": 176,
   "metadata": {
    "collapsed": false
   },
   "outputs": [
    {
     "name": "stdout",
     "output_type": "stream",
     "text": [
      "fichier = 128668, lignes non vides =  64334\n"
     ]
    }
   ],
   "source": [
    "val nb_lignes = velos.count()\n",
    "println(s\"fichier = ${velos.count()}, lignes non vides =  ${velos2.count()}\")"
   ]
  },
  {
   "cell_type": "markdown",
   "metadata": {},
   "source": [
    "# 2) convertir un fichier en table sql"
   ]
  },
  {
   "cell_type": "markdown",
   "metadata": {},
   "source": [
    "## 2.0) importer les librairies sql"
   ]
  },
  {
   "cell_type": "code",
   "execution_count": 179,
   "metadata": {
    "collapsed": true
   },
   "outputs": [],
   "source": [
    "import org.apache.spark.sql.Row;\n",
    "import org.apache.spark.sql.types.{StructType, StructField, StringType};"
   ]
  },
  {
   "cell_type": "markdown",
   "metadata": {},
   "source": [
    "# 2.1) créer un sqlContext"
   ]
  },
  {
   "cell_type": "code",
   "execution_count": 180,
   "metadata": {
    "collapsed": true
   },
   "outputs": [],
   "source": [
    "val sqlContext = new org.apache.spark.sql.SQLContext(sc)"
   ]
  },
  {
   "cell_type": "markdown",
   "metadata": {},
   "source": [
    "# 2.2) définir le schéma de la table"
   ]
  },
  {
   "cell_type": "code",
   "execution_count": 181,
   "metadata": {
    "collapsed": false
   },
   "outputs": [],
   "source": [
    "var champs = List(  StructField(\"nom\"          , StringType, true),\n",
    "                    StructField(\"time\"         , StringType, true),\n",
    "                    StructField(\"station\"      , StringType, true),\n",
    "                    StructField(\"performance\"  , StringType, true),\n",
    "                    StructField(\"nb_km_trajet\" , StringType, true))\n",
    "var schema = StructType(champs)"
   ]
  },
  {
   "cell_type": "markdown",
   "metadata": {},
   "source": [
    "## 2.3) Transformer les lignes en tableau d'objet spécifiques : les 'Row'"
   ]
  },
  {
   "cell_type": "code",
   "execution_count": 184,
   "metadata": {
    "collapsed": false
   },
   "outputs": [],
   "source": [
    "val rowRDD = velos2.map(_.split(\",\")).map(champs => Row(champs(0), champs(1), champs(2),champs(3),champs(4)))"
   ]
  },
  {
   "cell_type": "markdown",
   "metadata": {},
   "source": [
    "# 2.4) créer une DataFrame via le sqlContext"
   ]
  },
  {
   "cell_type": "code",
   "execution_count": 185,
   "metadata": {
    "collapsed": false
   },
   "outputs": [],
   "source": [
    "val veloDF = sqlContext.createDataFrame(rowRDD, schema)"
   ]
  },
  {
   "cell_type": "markdown",
   "metadata": {},
   "source": [
    "# 2.5) Enregistrer la DataFrame en tant que table"
   ]
  },
  {
   "cell_type": "code",
   "execution_count": 186,
   "metadata": {
    "collapsed": false
   },
   "outputs": [],
   "source": [
    "val table = \"velos\"\n",
    "veloDF.registerTempTable(table)"
   ]
  },
  {
   "cell_type": "markdown",
   "metadata": {},
   "source": [
    "# 2.6) Requêter la table avec du SQL"
   ]
  },
  {
   "cell_type": "code",
   "execution_count": 187,
   "metadata": {
    "collapsed": false
   },
   "outputs": [
    {
     "name": "stdout",
     "output_type": "stream",
     "text": [
      "+--------+\n",
      "|count(1)|\n",
      "+--------+\n",
      "|   64334|\n",
      "+--------+\n",
      "\n"
     ]
    }
   ],
   "source": [
    "val requete = s\"Select count(*) from ${table}\"\n",
    "sqlContext.sql(requete).show()"
   ]
  },
  {
   "cell_type": "code",
   "execution_count": 189,
   "metadata": {
    "collapsed": false
   },
   "outputs": [
    {
     "name": "stdout",
     "output_type": "stream",
     "text": [
      "+-------------------+                                                           \n",
      "|count(DISTINCT nom)|\n",
      "+-------------------+\n",
      "|                760|\n",
      "+-------------------+\n",
      "\n"
     ]
    }
   ],
   "source": [
    "val requete = s\"Select count( distinct nom) from ${table}\"\n",
    "sqlContext.sql(requete).show()"
   ]
  },
  {
   "cell_type": "code",
   "execution_count": 191,
   "metadata": {
    "collapsed": false
   },
   "outputs": [
    {
     "name": "stdout",
     "output_type": "stream",
     "text": [
      "+--------------------------------+\n",
      "|avg(CAST(performance AS DOUBLE))|\n",
      "+--------------------------------+\n",
      "|              0.7615443430900648|\n",
      "+--------------------------------+\n",
      "\n"
     ]
    }
   ],
   "source": [
    "val requete = s\"Select mean( performance) from ${table}\"\n",
    "sqlContext.sql(requete).show()"
   ]
  },
  {
   "cell_type": "code",
   "execution_count": 200,
   "metadata": {
    "collapsed": false
   },
   "outputs": [
    {
     "name": "stdout",
     "output_type": "stream",
     "text": [
      "[Stage 60:=====================================================>(197 + 3) / 200]+----------+-----------------+---------------------------------+-----------------+-----------------------+\n",
      "|       nom|min(nb_km_trajet)|avg(CAST(nb_km_trajet AS DOUBLE))|max(nb_km_trajet)|count(DISTINCT station)|\n",
      "+----------+-----------------+---------------------------------+-----------------+-----------------------+\n",
      "|velo_aeyi6|    106.124133158|                 250.712765889171|    98.2821292635|                     46|\n",
      "|velo_azow8|    1000.72528089|                640.1191001270846|    994.915022987|                     60|\n",
      "|velo_aeqx7|    49.6741505596|                    49.6741505596|    49.6741505596|                      1|\n",
      "|velo_aeufh|     102.45730718|                 364.425467797552|    95.8711122327|                     48|\n",
      "|velo_arod5|    101.702990964|               352.68417590080105|    90.3094170541|                     48|\n",
      "|velo_artu7|    100.583333498|               374.04519581147616|    96.9156508692|                     60|\n",
      "|velo_azdf6|    109.735413268|                    109.735413268|    109.735413268|                      1|\n",
      "|velo_aeqf9|    1007.13554138|                  931.52806195232|    999.600565032|                     64|\n",
      "|velo_aerys|    111.742940242|               381.43054944244847|    97.9444200301|                     49|\n",
      "|velo_aeyiq|    10.9633640885|               323.05327119470417|    91.4809932604|                     53|\n",
      "|velo_aelv1|     1.9486169998|               388.58128155786426|    98.5165466323|                     61|\n",
      "|velo_azqm1|    10.7852923649|                835.7150737146325|    997.860350763|                     75|\n",
      "|velo_aztx1|    116.152178975|                319.4781955545808|    99.7633115706|                     50|\n",
      "|velo_aei57|    1003.94407292|                781.0789256868909|     990.09328608|                     68|\n",
      "|velo_arpjv|    104.164487993|               236.38422851716138|    99.4995273835|                     44|\n",
      "|velo_azkw8|   -0.97367022698|                273.7167038795087|    97.9085622758|                     38|\n",
      "|velo_ars89|    59.8932657472|                    59.8932657472|    59.8932657472|                      1|\n",
      "|velo_aeqxn|    101.616977267|               248.59694096306933|    92.0145925841|                     48|\n",
      "|velo_artm0|     84.161263584|                     84.161263584|     84.161263584|                      1|\n",
      "|velo_artsd|     99.508326874|                     99.508326874|     99.508326874|                      1|\n",
      "+----------+-----------------+---------------------------------+-----------------+-----------------------+\n",
      "only showing top 20 rows\n",
      "\n"
     ]
    }
   ],
   "source": [
    "val requete = s\"\"\"\n",
    "Select nom, \n",
    "       min ( nb_km_trajet), \n",
    "       mean( nb_km_trajet),  \n",
    "       max (nb_km_trajet) ,\n",
    "       count (distinct station)\n",
    "from ${table}\n",
    "group by nom\n",
    "limit 100\"\"\"\n",
    "sqlContext.sql(requete).show()"
   ]
  },
  {
   "cell_type": "code",
   "execution_count": 201,
   "metadata": {
    "collapsed": true
   },
   "outputs": [],
   "source": [
    "import org.joda.time.{DateTimeZone}\n",
    "import org.joda.time.format.DateTimeFormat"
   ]
  },
  {
   "cell_type": "code",
   "execution_count": 206,
   "metadata": {
    "collapsed": false
   },
   "outputs": [
    {
     "data": {
      "text/plain": [
       "Name: Unknown Error\n",
       "Message: <console>:43: error: type DateTime is not a member of object org.joda.time.DateTimeZone\n",
       "       val stri = new DateTimeZone.DateTime(\"1485439420.58\").toDateTime.toString(\"yyyy/MM/dd\")\n",
       "                                   ^\n",
       "StackTrace: "
      ]
     },
     "execution_count": 206,
     "metadata": {},
     "output_type": "execute_result"
    }
   ],
   "source": [
    "val stri = new DateTimeZone.DateTime(\"1485439420.58\").toDateTime.toString(\"yyyy/MM/dd\")\n"
   ]
  },
  {
   "cell_type": "code",
   "execution_count": 230,
   "metadata": {
    "collapsed": false
   },
   "outputs": [],
   "source": [
    "\n",
    "\n",
    "val test = sqlContext.sql(s\"\"\"\n",
    "Select  min(from_unixtime(time,'YYYY-MM-dd HH:mm:ss')) as premiere_sortie, \n",
    "        max(from_unixtime(time,'YYYY-MM-dd HH:mm:ss')) as derniere_sortie,\n",
    "        max(from_unixtime(time,'YYYY-MM-dd HH:mm:ss')) - min(from_unixtime(time,'YYYY-MM-dd HH:mm:ss')) as duree\n",
    "from ${table}\n",
    "group by nom\n",
    "\"\"\")"
   ]
  },
  {
   "cell_type": "code",
   "execution_count": 231,
   "metadata": {
    "collapsed": false
   },
   "outputs": [
    {
     "name": "stdout",
     "output_type": "stream",
     "text": [
      "+-------------------+-------------------+-----+\n",
      "|    premiere_sortie|    derniere_sortie|duree|\n",
      "+-------------------+-------------------+-----+\n",
      "|2017-01-26 14:08:41|2017-01-26 14:28:02| null|\n",
      "|2017-01-26 14:11:32|2017-01-26 14:38:02| null|\n",
      "|2017-01-26 14:03:22|2017-01-26 14:03:22| null|\n",
      "|2017-01-26 14:06:59|2017-01-26 14:25:08| null|\n",
      "|2017-01-26 14:06:43|2017-01-26 14:22:34| null|\n",
      "|2017-01-26 14:06:43|2017-01-26 14:17:00| null|\n",
      "|2017-01-26 14:03:43|2017-01-26 14:03:43| null|\n",
      "|2017-01-26 14:06:43|2017-01-26 14:29:22| null|\n",
      "|2017-01-26 14:11:29|2017-01-26 14:21:55| null|\n",
      "|2017-01-26 14:06:59|2017-01-26 14:14:36| null|\n",
      "|2017-01-26 14:06:48|2017-01-26 14:20:03| null|\n",
      "|2017-01-26 14:06:48|2017-01-26 14:25:03| null|\n",
      "|2017-01-26 14:06:58|2017-01-26 14:10:09| null|\n",
      "|2017-01-26 14:07:53|2017-01-26 14:20:23| null|\n",
      "|2017-01-26 14:06:44|2017-01-26 14:18:25| null|\n",
      "|2017-01-26 14:13:48|2017-01-26 14:26:40| null|\n",
      "|2017-01-26 14:03:36|2017-01-26 14:03:36| null|\n",
      "|2017-01-26 14:06:43|2017-01-26 14:14:49| null|\n",
      "|2017-01-26 14:03:41|2017-01-26 14:03:41| null|\n",
      "|2017-01-26 14:03:37|2017-01-26 14:03:37| null|\n",
      "+-------------------+-------------------+-----+\n",
      "only showing top 20 rows\n",
      "\n"
     ]
    }
   ],
   "source": [
    "test.show()"
   ]
  },
  {
   "cell_type": "code",
   "execution_count": null,
   "metadata": {
    "collapsed": true
   },
   "outputs": [],
   "source": []
  }
 ],
 "metadata": {
  "kernelspec": {
   "display_name": "Apache Toree - Scala",
   "language": "scala",
   "name": "apache_toree_scala"
  },
  "language_info": {
   "file_extension": ".scala",
   "name": "scala",
   "version": "2.11.8"
  }
 },
 "nbformat": 4,
 "nbformat_minor": 2
}
